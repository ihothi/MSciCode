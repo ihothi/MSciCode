{
 "cells": [
  {
   "cell_type": "code",
   "execution_count": 1,
   "metadata": {
    "collapsed": true
   },
   "outputs": [],
   "source": [
    "import numpy as np\n",
    "from astropy.io import fits\n",
    "import matplotlib\n",
    "import matplotlib.pyplot as plt\n"
   ]
  },
  {
   "cell_type": "code",
   "execution_count": 2,
   "metadata": {
    "collapsed": true
   },
   "outputs": [],
   "source": [
    "class Object:\n",
    "    \n",
    "    def __init__():[]\n",
    "   \n",
    "    def __init__(self, SDSS_NAME, R, D, PSFFLUX, PSFMAG, Z_VI, CLASS_P):\n",
    "        #leaving out redshift for now\n",
    "        self.name = SDSS_NAME\n",
    "        self.RA = R\n",
    "        self.Dec = D\n",
    "        self.flux = PSFFLUX\n",
    "        self.Mag = PSFMAG\n",
    "        self.z = Z_VI\n",
    "        self.Class_p = CLASS_P\n",
    "    "
   ]
  },
  {
   "cell_type": "code",
   "execution_count": 3,
   "metadata": {
    "collapsed": true
   },
   "outputs": [],
   "source": [
    "list1 = fits.open('Superset_DR12Q.fits',memmap=True)#opening file\n",
    "super=list1[1].data # storing  BINTABLE extension data\n",
    "CurrentObject = 0\n",
    "Use2=[]\n",
    "while CurrentObject < len(super):\n",
    "    Current = super[CurrentObject]\n",
    "    Object2 = Object(Current['SDSS_NAME'], Current['RA'], Current['Dec'], Current['PSFFLUX'], Current['PSFMAG'],Current['Z_VI'], Current['CLASS_PERSON'] )\n",
    "    Use2.append(Object2)\n",
    "    CurrentObject=CurrentObject+1"
   ]
  },
  {
   "cell_type": "markdown",
   "metadata": {},
   "source": [
    "Classes:\n",
    "\n",
    "Not Insepcted = 0\n",
    "\n",
    "star = 1 \n",
    "\n",
    "quasar =3\n",
    "\n",
    "galaxy=4\n",
    "\n",
    "bal=30"
   ]
  },
  {
   "cell_type": "code",
   "execution_count": 13,
   "metadata": {},
   "outputs": [
    {
     "data": {
      "image/png": "[encoded data removed]",
      "text/plain": [
       "<matplotlib.figure.Figure at 0x18ee3bb0208>"
      ]
     },
     "metadata": {},
     "output_type": "display_data"
    }
   ],
   "source": [
    "i=0\n",
    "class_p=[]\n",
    "Nmax=5000\n",
    "while i < len(super):\n",
    "    class_p.append(Use2[i].Class_p)\n",
    "    i=i+1\n",
    "plt.hist(class_p,bins=30,range=[0,30])\n",
    "plt.title('Classifiction Plots')\n",
    "plt.xlabel('class')\n",
    "plt.ylabel('No. of Objects')\n",
    "plt.show()"
   ]
  },
  {
   "cell_type": "code",
   "execution_count": 5,
   "metadata": {},
   "outputs": [
    {
     "data": {
      "image/png": "[encoded data removed]",
      "text/plain": [
       "<matplotlib.figure.Figure at 0x18ee606fb70>"
      ]
     },
     "metadata": {},
     "output_type": "display_data"
    }
   ],
   "source": [
    "i=0\n",
    "class_p=[]\n",
    "Nmax=5000\n",
    "while i < len(super):\n",
    "    class_p.append(Use2[i].Class_p)\n",
    "    i=i+1\n",
    "plt.hist(class_p,bins=30,range=[0,5])\n",
    "plt.xlabel('class')\n",
    "plt.ylabel('No. of Objects')\n",
    "plt.show()"
   ]
  },
  {
   "cell_type": "code",
   "execution_count": 6,
   "metadata": {
    "collapsed": true
   },
   "outputs": [],
   "source": [
    "Star= 0\n",
    "Galaxy=0\n",
    "Quasar=0\n",
    "Bal=0\n",
    "Not_inspec=0"
   ]
  },
  {
   "cell_type": "code",
   "execution_count": 7,
   "metadata": {
    "collapsed": true
   },
   "outputs": [],
   "source": [
    "\n",
    "CurrentObject = 0\n",
    "while CurrentObject < len(Use2):\n",
    "    Current = Use2[CurrentObject]\n",
    "    if Current.Class_p == 1:\n",
    "        Star = Star + 1\n",
    "    elif Current.Class_p == 3:\n",
    "        Quasar = Quasar + 1\n",
    "    elif Current.Class_p == 4:\n",
    "        Galaxy = Galaxy + 1\n",
    "    elif Current.Class_p == 30:\n",
    "        Bal = Bal + 1\n",
    "    elif Current.Class_p == 0:\n",
    "        Not_inspec = Not_inspec + 1\n",
    "    \n",
    "    CurrentObject=CurrentObject+1\n"
   ]
  },
  {
   "cell_type": "code",
   "execution_count": 8,
   "metadata": {},
   "outputs": [
    {
     "name": "stdout",
     "output_type": "stream",
     "text": [
      "Fraction of Data that are Stars:  207915.0  =  38.020063782787425  %\n"
     ]
    }
   ],
   "source": [
    "print(\"Fraction of Data that are Stars: \", float(Star), \" = \",(float(Star)/float(len(super)))*100,\" %\" )"
   ]
  },
  {
   "cell_type": "code",
   "execution_count": 9,
   "metadata": {},
   "outputs": [
    {
     "name": "stdout",
     "output_type": "stream",
     "text": [
      "Fraction of Data that are Quasars:  270686.0  =  49.498588293810435  %\n"
     ]
    }
   ],
   "source": [
    "print(\"Fraction of Data that are Quasars: \", float(Quasar), \" = \",(float(Quasar)/float(len(super)))*100,\" %\")"
   ]
  },
  {
   "cell_type": "code",
   "execution_count": 10,
   "metadata": {},
   "outputs": [
    {
     "name": "stdout",
     "output_type": "stream",
     "text": [
      "Fraction of Data that are Galaxies:  22795.0  =  4.16837339262987  %\n"
     ]
    }
   ],
   "source": [
    "print(\"Fraction of Data that are Galaxies: \", float(Galaxy), \" = \",(float(Galaxy)/float(len(super)))*100,\" %\")"
   ]
  },
  {
   "cell_type": "code",
   "execution_count": 11,
   "metadata": {},
   "outputs": [
    {
     "name": "stdout",
     "output_type": "stream",
     "text": [
      "Fraction of Data that are Bal Quasars:  29659.0  =  5.423548429568296  %\n"
     ]
    }
   ],
   "source": [
    "print(\"Fraction of Data that are Bal Quasars: \", float(Bal), \" = \",(float(Bal)/float(len(super)))*100,\" %\")"
   ]
  },
  {
   "cell_type": "code",
   "execution_count": 12,
   "metadata": {},
   "outputs": [
    {
     "name": "stdout",
     "output_type": "stream",
     "text": [
      "Fraction of Data that were not inspected:  15801.0  =  2.889426101203973  %\n"
     ]
    }
   ],
   "source": [
    "print(\"Fraction of Data that were not inspected: \", float(Not_inspec), \" = \",(float(Not_inspec)/float(len(super)))*100,\" %\")"
   ]
  },
  {
   "cell_type": "code",
   "execution_count": null,
   "metadata": {
    "collapsed": true
   },
   "outputs": [],
   "source": []
  },
  {
   "cell_type": "code",
   "execution_count": null,
   "metadata": {
    "collapsed": true
   },
   "outputs": [],
   "source": []
  },
  {
   "cell_type": "code",
   "execution_count": null,
   "metadata": {
    "collapsed": true
   },
   "outputs": [],
   "source": []
  },
  {
   "cell_type": "code",
   "execution_count": null,
   "metadata": {
    "collapsed": true
   },
   "outputs": [],
   "source": []
  },
  {
   "cell_type": "code",
   "execution_count": null,
   "metadata": {
    "collapsed": true
   },
   "outputs": [],
   "source": []
  },
  {
   "cell_type": "code",
   "execution_count": null,
   "metadata": {
    "collapsed": true
   },
   "outputs": [],
   "source": []
  },
  {
   "cell_type": "code",
   "execution_count": null,
   "metadata": {
    "collapsed": true
   },
   "outputs": [],
   "source": []
  },
  {
   "cell_type": "code",
   "execution_count": null,
   "metadata": {
    "collapsed": true
   },
   "outputs": [],
   "source": []
  },
  {
   "cell_type": "code",
   "execution_count": null,
   "metadata": {
    "collapsed": true
   },
   "outputs": [],
   "source": []
  },
  {
   "cell_type": "code",
   "execution_count": null,
   "metadata": {
    "collapsed": true
   },
   "outputs": [],
   "source": []
  },
  {
   "cell_type": "code",
   "execution_count": null,
   "metadata": {
    "collapsed": true
   },
   "outputs": [],
   "source": []
  },
  {
   "cell_type": "code",
   "execution_count": null,
   "metadata": {
    "collapsed": true
   },
   "outputs": [],
   "source": []
  },
  {
   "cell_type": "code",
   "execution_count": null,
   "metadata": {
    "collapsed": true
   },
   "outputs": [],
   "source": []
  }
 ],
 "metadata": {
  "kernelspec": {
   "display_name": "Python 3",
   "language": "python",
   "name": "python3"
  },
  "language_info": {
   "codemirror_mode": {
    "name": "ipython",
    "version": 3
   },
   "file_extension": ".py",
   "mimetype": "text/x-python",
   "name": "python",
   "nbconvert_exporter": "python",
   "pygments_lexer": "ipython3",
   "version": "3.6.1"
  }
 },
 "nbformat": 4,
 "nbformat_minor": 2
}
