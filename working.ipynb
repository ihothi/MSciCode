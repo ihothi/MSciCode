{
 "cells": [
  {
   "cell_type": "code",
   "execution_count": null,
   "metadata": {},
   "outputs": [
    {
     "name": "stdout",
     "output_type": "stream",
     "text": [
      "Yes\n",
      "10\n"
     ]
    }
   ],
   "source": [
    "import numpy as np\n",
    "from astropy.io import fits\n",
    "import matplotlib\n",
    "import matplotlib.pyplot as plt\n",
    "from sklearn.neural_network import MLPClassifier\n",
    "from sklearn.metrics import classification_report\n",
    "from sklearn.ensemble import RandomForestClassifier\n",
    "from sklearn.preprocessing import StandardScaler\n",
    "import os\n",
    "from ProjectF import MLAData,classification, Object,storing,MLADataTest\n",
    "import random\n",
    "\n",
    "## Loading in data\n",
    "PlateDir = os.path.normpath(\"D:\\Data\\Plate_Name_Reduced.txt\")\n",
    "with open(PlateDir) as f:\n",
    "    Spectra_Files = f.read().splitlines()\n",
    "print('Yes')  \n",
    "PLATEIDs = []\n",
    "BinInfos = []\n",
    "Flux = []\n",
    "MJDs = []\n",
    "log_wavst=[]\n",
    "TrainingDir = os.path.normpath(\"D:\\Data\")\n",
    "slash =  os.path.normpath(\"\\\\\")\n",
    "TrainingFolder =  os.path.normpath(\"\\Training\")\n",
    "slash =  os.path.normpath(\"\\\\\")\n",
    "for spectrum in Spectra_Files:\n",
    "    plate_ = fits.open( TrainingDir +TrainingFolder+slash+ spectrum ,memmap=True)\n",
    "    Bin_info_ = plate_[5].data\n",
    "    Flux_ = plate_[0].data\n",
    "    primhdu_ = plate_[0]\n",
    "    PLATEIDs.append(primhdu_.header['PLATEID'])\n",
    "    log_wavst.append(primhdu_.header['COEFF0'])\n",
    "    MJDs.append(primhdu_.header['MJD'])\n",
    "    BinInfos.append(Bin_info_)\n",
    "    Flux.append(Flux_)\n",
    "    \n",
    "list = fits.open(TrainingDir+slash+'Superset_DR12Q.fits',memmap=True)#opening file\n",
    "print(len(log_wavst))\n",
    "supers=list[1].data # storing  BINTABLE extension data\n",
    "\n",
    "Full_Data = storing(PLATEIDs,supers)\n",
    "\n",
    "\n",
    "X,Y,Train_z, Train_mag,wavst = MLADataTest(Full_Data,BinInfos,Flux, log_wavst)\n",
    "\n",
    "len(X)\n",
    "len(X[1])"
   ]
  },
  {
   "cell_type": "code",
   "execution_count": null,
   "metadata": {},
   "outputs": [],
   "source": [
    "C_Plate = PLATEIDs[0]\n",
    "a1 = X[0] \n",
    "a2 = Y[0]\n",
    "print(len(a2))\n",
    "col1 = fits.Column(name='Bin_Flux', format='E', array=a1)\n",
    "#col2 = fits.Column(name='Class', format='E', array=a2)\n",
    "cols = fits.ColDefs([col1])#, col2])\n",
    "tbhdu = fits.BinTableHDU.from_columns(cols, nrows = 0)\n",
    "tbhdu.writeto(TrainingDir+slash+np.str('rebinned')+np.str(C_Plate)+'.fits')"
   ]
  },
  {
   "cell_type": "code",
   "execution_count": null,
   "metadata": {
    "collapsed": true
   },
   "outputs": [],
   "source": []
  }
 ],
 "metadata": {
  "kernelspec": {
   "display_name": "Python 3",
   "language": "python",
   "name": "python3"
  },
  "language_info": {
   "codemirror_mode": {
    "name": "ipython",
    "version": 3
   },
   "file_extension": ".py",
   "mimetype": "text/x-python",
   "name": "python",
   "nbconvert_exporter": "python",
   "pygments_lexer": "ipython3",
   "version": "3.6.1"
  }
 },
 "nbformat": 4,
 "nbformat_minor": 2
}
