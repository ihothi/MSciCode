{
 "cells": [
  {
   "cell_type": "code",
   "execution_count": 1,
   "metadata": {
    "collapsed": true
   },
   "outputs": [],
   "source": [
    "import numpy as np\n",
    "from astropy.io import fits\n",
    "import matplotlib\n",
    "import matplotlib.pyplot as plt\n",
    "from sklearn.neural_network import MLPClassifier\n",
    "from sklearn.metrics import classification_report\n",
    "from sklearn.ensemble import RandomForestClassifier\n",
    "from sklearn.preprocessing import StandardScaler\n",
    "import os\n",
    "from ProjectF import MLAData, Object,storing\n",
    "import random"
   ]
  },
  {
   "cell_type": "code",
   "execution_count": 2,
   "metadata": {
    "collapsed": true
   },
   "outputs": [],
   "source": [
    "def classification(objectclass, Trainingclass, prediction):\n",
    "    ## Star, Quasar, Galaxy, BAL\n",
    "    classi = []\n",
    "    ##Location of object that is predicted to be a given classification\n",
    "    loc = [0,0,0,0]\n",
    "    star=0;\n",
    "    #quasar w/ redshift <2.1\n",
    "    qso=0;\n",
    "    gal=0;\n",
    "    #quasar w/ redshift >2.1\n",
    "    bal=0;\n",
    "    starloc=[];\n",
    "    qsoloc=[];\n",
    "    galloc=[];\n",
    "    balloc=[];\n",
    "    i=0\n",
    "    while i< len(Trainingclass):\n",
    "        currentobject = Trainingclass[i]\n",
    "        currentpred = prediction[i]\n",
    "        if objectclass==currentobject:\n",
    "            if currentpred==1: \n",
    "                star=star+1\n",
    "                starloc.append(i)\n",
    "            elif currentpred==3: \n",
    "                qso=qso+1\n",
    "                qsoloc.append(i)\n",
    "            elif currentpred==4: \n",
    "                gal=gal+1\n",
    "                galloc.append(i)\n",
    "            elif currentpred==30: \n",
    "                bal=bal+1\n",
    "                balloc.append(i)\n",
    "        \n",
    "        i=i+1\n",
    "    \n",
    "    classi.append(star/(star+qso+gal+bal))\n",
    "    classi.append(qso/(star+qso+gal+bal))\n",
    "    classi.append(gal/(star+qso+gal+bal))\n",
    "    classi.append(bal/(star+qso+gal+bal))\n",
    "    return classi,starloc,qsoloc,galloc,balloc"
   ]
  },
  {
   "cell_type": "code",
   "execution_count": 3,
   "metadata": {
    "collapsed": true
   },
   "outputs": [],
   "source": [
    "bin_size = np.str(10)\n",
    "TrainingDir = os.path.normpath(\"D:\\Data\")\n",
    "slash =  os.path.normpath(\"\\\\\")\n",
    "TrainingFolder =  os.path.normpath(\"\\Training\")\n",
    "PlateDir =\"D:\"+slash+\"Data\"+slash+\"FullRebin10\"+\".txt\"\n",
    "with open(PlateDir) as f:\n",
    "    Spectra_Files = f.read().splitlines()"
   ]
  },
  {
   "cell_type": "code",
   "execution_count": 4,
   "metadata": {
    "collapsed": true
   },
   "outputs": [],
   "source": [
    "wav_log=[]\n",
    "Full_table = []\n",
    "PLATEIDs = []\n",
    "for spectrum in Spectra_Files:\n",
    "    plate_ = fits.open( TrainingDir+slash+'rebintrain'+slash+spectrum ,memmap=True)\n",
    "    primhdu_ = plate_[0]\n",
    "    hdu =  plate_[1].data\n",
    "    Full_table.append(hdu)\n",
    "    PLATEIDs.append(primhdu_.header['Plate'])\n",
    "    wav_log.append(primhdu_.header['LogWav'])"
   ]
  },
  {
   "cell_type": "code",
   "execution_count": 5,
   "metadata": {
    "collapsed": true
   },
   "outputs": [],
   "source": [
    "plate_r  = []\n",
    "plate_n  = []\n",
    "plate_c  = []\n",
    "plate_x  = []\n",
    "plate_y  = []\n",
    "i = 0\n",
    "while i < len(PLATEIDs):\n",
    "    plate_hdu  = Full_table[i]\n",
    "    obj = 0\n",
    "    while obj <len(plate_hdu):\n",
    "        currentobj = plate_hdu[obj]\n",
    "        Currentplate_z = currentobj[4]\n",
    "        Currentplate_y = currentobj[2]\n",
    "        Currentplate_x = currentobj[1]\n",
    "        Currentplate_n = currentobj[0]\n",
    "        plate_r.append(Currentplate_z)\n",
    "        plate_n.append(Currentplate_n)\n",
    "        plate_x.append(Currentplate_x[:800])\n",
    "        plate_y.append(Currentplate_y)\n",
    "        obj = obj +1\n",
    "    i = i+1\n",
    "\n"
   ]
  },
  {
   "cell_type": "code",
   "execution_count": 6,
   "metadata": {
    "collapsed": true
   },
   "outputs": [],
   "source": [
    "hiddenlayer_format = (13)\n",
    "backprop_method = 'lbfgs'\n",
    "lr=0.00001\n",
    "act =  'tanh'#'tanh'\n",
    "mlp = MLPClassifier(hidden_layer_sizes=hiddenlayer_format,max_iter=500, solver = backprop_method,learning_rate_init=lr,activation=act) ##Think About"
   ]
  },
  {
   "cell_type": "code",
   "execution_count": 7,
   "metadata": {},
   "outputs": [
    {
     "data": {
      "text/plain": [
       "800"
      ]
     },
     "execution_count": 7,
     "metadata": {},
     "output_type": "execute_result"
    }
   ],
   "source": [
    "len(plate_x[3])"
   ]
  },
  {
   "cell_type": "code",
   "execution_count": 68,
   "metadata": {},
   "outputs": [
    {
     "data": {
      "text/plain": [
       "RandomForestClassifier(bootstrap=True, class_weight=None, criterion='gini',\n",
       "            max_depth=80, max_features='auto', max_leaf_nodes=None,\n",
       "            min_impurity_split=1e-07, min_samples_leaf=1,\n",
       "            min_samples_split=2, min_weight_fraction_leaf=0.0,\n",
       "            n_estimators=20, n_jobs=1, oob_score=False, random_state=0,\n",
       "            verbose=0, warm_start=False)"
      ]
     },
     "execution_count": 68,
     "metadata": {},
     "output_type": "execute_result"
    }
   ],
   "source": [
    "scaler = StandardScaler()  \n",
    "scaler.fit(np.array(plate_x))  \n",
    "plate_x = scaler.transform(plate_x)    \n",
    "depth=80\n",
    "estimators =20\n",
    "rf = RandomForestClassifier(n_estimators =estimators ,max_depth=depth, random_state=0)\n",
    "rf.fit(plate_x,plate_y)"
   ]
  },
  {
   "cell_type": "code",
   "execution_count": 69,
   "metadata": {
    "collapsed": true
   },
   "outputs": [],
   "source": [
    "TrainingDir = os.path.normpath(\"D:\\Data\")\n",
    "slash =  os.path.normpath(\"\\\\\")\n",
    "TrainingFolder =  os.path.normpath(\"\\Training\")\n",
    "PlateDir =\"D:\"+slash+\"Data\"+slash+\"FullTest10.txt\"\n",
    "with open(PlateDir) as f:\n",
    "    Spectra_TestFiles = f.read().splitlines()"
   ]
  },
  {
   "cell_type": "code",
   "execution_count": 70,
   "metadata": {
    "collapsed": true
   },
   "outputs": [],
   "source": [
    "wav_log_Test=[]\n",
    "Full_table_Test = []\n",
    "PLATEID_Test = []\n",
    "for spectrum in Spectra_TestFiles:\n",
    "    plate_test = fits.open( TrainingDir+slash+'rebin'+slash+spectrum ,memmap=True)\n",
    "    primhdu_test = plate_[0]\n",
    "    hdu =  plate_test[1].data\n",
    "    Full_table_Test.append(hdu)\n",
    "    PLATEID_Test.append(primhdu_.header['Plate'])\n",
    "    wav_log_Test.append(primhdu_.header['LogWav'])"
   ]
  },
  {
   "cell_type": "code",
   "execution_count": 71,
   "metadata": {
    "collapsed": true
   },
   "outputs": [],
   "source": [
    "plate_rt = []\n",
    "plate_nt = []\n",
    "plate_ct = []\n",
    "plate_xt = []\n",
    "plate_yt = []\n",
    "i = 0\n",
    "while i < len(PLATEID_Test):\n",
    "    plate_hdu  = Full_table[i]\n",
    "    obj = 0\n",
    "    while obj <len(plate_hdu):\n",
    "        currentobj = plate_hdu[obj]\n",
    "        Currentplate_z = currentobj[4]\n",
    "        Currentplate_y = currentobj[2]\n",
    "        Currentplate_x = currentobj[1]\n",
    "        Currentplate_n = currentobj[0]\n",
    "        plate_rt.append(Currentplate_z)\n",
    "        plate_nt.append(Currentplate_n)\n",
    "        plate_xt.append(Currentplate_x[:800])\n",
    "        plate_yt.append(Currentplate_y)\n",
    "        obj = obj +1\n",
    "    i = i+1\n",
    "\n"
   ]
  },
  {
   "cell_type": "code",
   "execution_count": 72,
   "metadata": {},
   "outputs": [],
   "source": [
    "predictions = rf.predict(np.array(plate_xt))"
   ]
  },
  {
   "cell_type": "code",
   "execution_count": 73,
   "metadata": {},
   "outputs": [
    {
     "name": "stdout",
     "output_type": "stream",
     "text": [
      "             precision    recall  f1-score   support\n",
      "\n",
      "          1       0.82      0.56      0.66       745\n",
      "          3       0.33      0.62      0.43       291\n",
      "          4       0.50      0.08      0.14        51\n",
      "         30       0.68      0.72      0.70       658\n",
      "\n",
      "avg / total       0.68      0.61      0.62      1745\n",
      "\n"
     ]
    }
   ],
   "source": [
    "Y_test=plate_yt\n",
    "print(classification_report(Y_test,predictions))"
   ]
  },
  {
   "cell_type": "code",
   "execution_count": 74,
   "metadata": {},
   "outputs": [],
   "source": [
    "star,star_starloc,star_lowzloc,star_galloc,star_highzloc = classification(1,Y_test,predictions) \n",
    "lowz,lowz_starloc,lowz_loc,lowz_galloc,lowz_highzloc = classification(3,Y_test,predictions)\n",
    "gal,gal_starloc,gal_lowzloc,gal_galloc,gal_highzloc = classification(4,Y_test,predictions)\n",
    "highz,highz_starloc,highz_lowzloc,highz_galloc,highz_highzloc = classification(30,Y_test,predictions)"
   ]
  },
  {
   "cell_type": "code",
   "execution_count": 75,
   "metadata": {},
   "outputs": [
    {
     "name": "stdout",
     "output_type": "stream",
     "text": [
      "Please Enter File name: 8020\n"
     ]
    }
   ],
   "source": [
    "File_Name = input(\"Please Enter File name: \")"
   ]
  },
  {
   "cell_type": "code",
   "execution_count": 76,
   "metadata": {
    "collapsed": true
   },
   "outputs": [],
   "source": [
    "d = open(TrainingDir+slash+File_Name+\"rebin\"+bin_size+\"RF.txt\", 'w')"
   ]
  },
  {
   "cell_type": "code",
   "execution_count": 77,
   "metadata": {
    "collapsed": true
   },
   "outputs": [],
   "source": [
    "t1=[\"Number of training objects: \",np.str(len(plate_y)), \"\\n\"]\n",
    "sp= \"\\n\"\n",
    "t2 = [\"Numbr of testing: \",np.str(len(Y_test)), \"\\n\"]\n",
    "t3 = [\"Number of estimators = \",np.str(len(Spectra_Files)), \"\\n\"]\n",
    "t5 = [\"Depth = \",np.str(depth), \"\\n\",\"\\n\"]\n",
    "t4 = [\"Bin Size = \",bin_size, \"\\n\"]\n",
    "n1 = [\"Structure of neural network: \", np.str(hiddenlayer_format),\"\\n\"]\n",
    "n2  = [\"Backpropagation method used: \",np.str(backprop_method), \"\\n\"]\n",
    "n3  = [\"Learning rate: \",np.str(lr), \"\\n\"]\n",
    "n4  = [\"Activation Function: \",np.str(act), \"\\n\"]\n",
    "r1 = [\"Results of Neural Network: \", \"\\n\",\"\\n\"]\n",
    "r2=[\"        \",\"       Star    z<2.1   Galaxy   z>2.1 \",\"\\n\",]\n",
    "r3=\"Star           \",np.str(np.round(star[0]*100,2)),\"%  \", np.str(np.round(star[1]*100,2)),\"%  \",np.str(np.round(star[2]*100,2)),\"%  \",np.str(np.round(star[3]*100,2)),\"%\",\"\\n\"\n",
    "r4=\"Quasar z<2.1   \",np.str(np.round( lowz[0]*100,2)),\"%  \", np.str(np.round( lowz[1]*100,2)),\"%  \",np.str(np.round( lowz[2]*100,2)),\"%  \",np.str(np.round( lowz[3]*100,2)),\"%\",\"\\n\"\n",
    "r5=\"Galaxy         \",np.str(np.round( gal[0]*100,2)),\"%  \", np.str(np.round( gal[1]*100,2)),\"%  \",np.str(np.round( gal[2]*100,2)),\"%  \",np.str(np.round( gal[3]*100,2)),\"%\",\"\\n\"\n",
    "r6=\"Quasar z>2.1   \",np.str(np.round( highz[0]*100,2)),\"%  \", np.str(np.round( highz[1]*100,2)),\"%  \",np.str(np.round( highz[2]*100,2)),\"%  \",np.str(np.round (highz[3]*100,2)),\"%\",\"\\n\""
   ]
  },
  {
   "cell_type": "code",
   "execution_count": 78,
   "metadata": {
    "collapsed": true
   },
   "outputs": [],
   "source": [
    "d.writelines(t1)\n",
    "d.writelines(sp)\n",
    "d.writelines(t2)\n",
    "d.writelines(sp)\n",
    "d.writelines(t3)\n",
    "d.writelines(t4)\n",
    "d.writelines(t5)\n",
    "d.writelines(sp)\n",
    "d.writelines(sp)\n",
    "d.writelines(n1)\n",
    "d.writelines(n2)\n",
    "d.writelines(n3)\n",
    "d.writelines(n4)\n",
    "d.writelines(sp)\n",
    "d.writelines(sp)\n",
    "d.writelines(r1)\n",
    "d.writelines(r2)\n",
    "d.writelines(r3)\n",
    "d.writelines(r4)\n",
    "d.writelines(r5)\n",
    "d.writelines(r6)"
   ]
  },
  {
   "cell_type": "code",
   "execution_count": null,
   "metadata": {
    "collapsed": true
   },
   "outputs": [],
   "source": []
  },
  {
   "cell_type": "code",
   "execution_count": 79,
   "metadata": {
    "collapsed": true
   },
   "outputs": [],
   "source": [
    "d.close()"
   ]
  },
  {
   "cell_type": "code",
   "execution_count": null,
   "metadata": {
    "collapsed": true
   },
   "outputs": [],
   "source": []
  },
  {
   "cell_type": "code",
   "execution_count": null,
   "metadata": {
    "collapsed": true
   },
   "outputs": [],
   "source": []
  }
 ],
 "metadata": {
  "kernelspec": {
   "display_name": "Python 3",
   "language": "python",
   "name": "python3"
  },
  "language_info": {
   "codemirror_mode": {
    "name": "ipython",
    "version": 3
   },
   "file_extension": ".py",
   "mimetype": "text/x-python",
   "name": "python",
   "nbconvert_exporter": "python",
   "pygments_lexer": "ipython3",
   "version": "3.6.1"
  }
 },
 "nbformat": 4,
 "nbformat_minor": 2
}
