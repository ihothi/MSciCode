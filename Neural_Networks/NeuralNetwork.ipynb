{
 "cells": [
  {
   "cell_type": "code",
   "execution_count": 6,
   "metadata": {
    "collapsed": true
   },
   "outputs": [],
   "source": [
    "import numpy as np\n",
    "from astropy.io import fits\n",
    "import matplotlib\n",
    "import matplotlib.pyplot as plt\n",
    "from sklearn.neural_network import MLPClassifier\n",
    "from sklearn.metrics import classification_report\n",
    "from sklearn.ensemble import RandomForestClassifier\n",
    "from sklearn.preprocessing import StandardScaler\n",
    "import os\n",
    "from ProjectF import classification, Object,storing\n",
    "import random"
   ]
  },
  {
   "cell_type": "code",
   "execution_count": 7,
   "metadata": {
    "collapsed": true
   },
   "outputs": [],
   "source": [
    "def MLAData(Full_Data,BinInfos,Flux,log_wavs,ANDMASK, INV, MJDs, PlateIDs):\n",
    "    \n",
    "    \n",
    "    All_Y=[]\n",
    "    All_X = []\n",
    "    All_redshifts=[]\n",
    "    All_Mag=[]\n",
    "    All_AND=[]\n",
    "    All_Inv=[]\n",
    "    All_Name=[]\n",
    "    All_MJDs = []\n",
    "    MatchedPlates = []\n",
    "    wav_logs=[]\n",
    "    plate_no = 0\n",
    "    y=0\n",
    "    while plate_no < len(Full_Data):\n",
    "        #loading matched objects with sup, plate data\n",
    "        CurrentSup_data = Full_Data[plate_no]\n",
    "        CurrentBin = BinInfos[plate_no]\n",
    "        CurrentFlux = Flux[plate_no]\n",
    "        CurrentAndM= ANDMASK[plate_no]\n",
    "        CurrentInv = INV[plate_no]\n",
    "        wav= log_wavs[plate_no]\n",
    "        currentmjd = MJDs[plate_no]\n",
    "        Plate_Y = []\n",
    "        Plate_X = []\n",
    "        Plate_AND=[]\n",
    "        Plate_Inv=[]\n",
    "        Plate_redshifts=[]\n",
    "        Plate_Mag=[]\n",
    "        Plate_Name=[]\n",
    "        pid=PlateIDs[plate_no]\n",
    "\n",
    "        plate_match = False\n",
    "        \n",
    "        #first object is zeroth element\n",
    "        Sup_obj =0 \n",
    "        while Sup_obj < len(CurrentSup_data):\n",
    "            #to stop double counting\n",
    "            no_match = True\n",
    "            #looking at an object that has been matched in sup list\n",
    "            CurrentSup = CurrentSup_data[Sup_obj]            \n",
    "            #going through each object in the bin\n",
    "            BinObj_No = 0\n",
    "            while BinObj_No<len(CurrentBin):\n",
    "                BinObj = CurrentBin[BinObj_No]\n",
    "                ObjAndM= CurrentAndM[BinObj_No]\n",
    "                ObjInv = CurrentInv[BinObj_No]\n",
    "                \n",
    "                ##checking if the two match \n",
    "                if BinObj['FIBERID'] == CurrentSup.FiberID:\n",
    "                    if BinObj['FIBERID'] == CurrentSup.FiberID:\n",
    "                        plate_match = True \n",
    "                        if no_match:\n",
    "                            if CurrentSup.Class_p == 0:\n",
    "                                a=0\n",
    "                            else:\n",
    "                                no_match = False\n",
    "                                if CurrentSup.Class_p == 3 or CurrentSup.Class_p==30:\n",
    "                                    if CurrentSup.z < 2.1:\n",
    "                                        Plate_Y.append(1)\n",
    "                                        x_flux =(CurrentFlux[BinObj_No])\n",
    "                                        x_flux=x_flux[:4600]\n",
    "                                        Plate_X.append(x_flux)\n",
    "                                        Plate_redshifts.append(CurrentSup.z)\n",
    "                                        Plate_AND.append(ObjAndM)\n",
    "                                        Plate_Inv.append(ObjInv)\n",
    "                                        Plate_Mag.append(CurrentSup.Mag)\n",
    "                                        Plate_Name.append(CurrentSup.name)\n",
    "                                       \n",
    "                                        \n",
    "                                    else:\n",
    "                                        Plate_Y.append(3)\n",
    "                                        x_flux =(CurrentFlux[BinObj_No])\n",
    "                                        x_flux=x_flux[:4600]\n",
    "                                        Plate_X.append(x_flux)\n",
    "                                        Plate_redshifts.append(CurrentSup.z)\n",
    "                                        Plate_AND.append(ObjAndM)\n",
    "                                        Plate_Inv.append(ObjInv)\n",
    "                                        Plate_Mag.append(CurrentSup.Mag)\n",
    "                                        Plate_Name.append(CurrentSup.name)\n",
    "                                        \n",
    "                                                \n",
    "                                    \n",
    "                                else: \n",
    "                                    if CurrentSup.Class_p ==1:\n",
    "                                        Plate_Y.append(0)\n",
    "                                        x_flux =(CurrentFlux[BinObj_No])\n",
    "                                        x_flux=x_flux[:4600]\n",
    "                                        Plate_X.append(x_flux)\n",
    "                                        Plate_redshifts.append(CurrentSup.z)\n",
    "                                        Plate_AND.append(ObjAndM)\n",
    "                                        Plate_Inv.append(ObjInv)\n",
    "                                        Plate_Mag.append(CurrentSup.Mag)\n",
    "                                        Plate_Name.append(CurrentSup.name)\n",
    "                                        \n",
    "                                    else:\n",
    "                                        Plate_Y.append(2)\n",
    "                                        x_flux =(CurrentFlux[BinObj_No])\n",
    "                                        x_flux=x_flux[:4600]\n",
    "                                        Plate_X.append(x_flux)\n",
    "                                        Plate_redshifts.append(CurrentSup.z)\n",
    "                                        Plate_AND.append(ObjAndM)\n",
    "                                        Plate_Inv.append(ObjInv)\n",
    "                                        Plate_Mag.append(CurrentSup.Mag)\n",
    "                                        Plate_Name.append(CurrentSup.name)\n",
    "                                    \n",
    "                                        \n",
    "            \n",
    "                BinObj_No=BinObj_No+1  \n",
    "            Sup_obj=Sup_obj+1\n",
    "        if plate_match:\n",
    "            All_Y.append(Plate_Y)\n",
    "            All_X.append(Plate_X)\n",
    "            All_Name.append(Plate_Name)\n",
    "            plate_no = plate_no+1\n",
    "            wav_logs.append(wav)\n",
    "            All_redshifts.append(Plate_redshifts)\n",
    "            All_Mag.append(Plate_Mag)\n",
    "            All_AND.append(Plate_AND)\n",
    "            All_Inv.append(Plate_Inv)\n",
    "            All_MJDs.append(currentmjd)\n",
    "            MatchedPlates.append(pid)\n",
    "            plate_no=plate_no+1\n",
    "        else:\n",
    "            plate_no=plate_no+1\n",
    "    \n",
    "\n",
    "    return All_X,All_Y,All_redshifts,All_Mag,All_AND,All_Inv,wav_logs,All_Name,All_MJDs,MatchedPlates"
   ]
  },
  {
   "cell_type": "code",
   "execution_count": 8,
   "metadata": {
    "collapsed": true
   },
   "outputs": [],
   "source": [
    "TrainPlateDir = os.path.normpath(\"D:\\Data\\Plate_Name.txt\")\n",
    "with open(TrainPlateDir) as f:\n",
    "    Spectra_Files = f.read().splitlines()\n"
   ]
  },
  {
   "cell_type": "code",
   "execution_count": 9,
   "metadata": {
    "collapsed": true
   },
   "outputs": [],
   "source": [
    "PLATEIDs = []\n",
    "BinInfos = []\n",
    "Flux = []\n",
    "MJDs = []\n",
    "log_wavst=[]\n",
    "ANDMASK=[]\n",
    "INVAR=[]\n",
    "TrainingDir = os.path.normpath(\"D:\\Data\")\n",
    "TrainingFolder =  os.path.normpath(\"\\Training\")\n",
    "slash =  os.path.normpath(\"\\\\\")\n",
    "for spectrum in Spectra_Files:\n",
    "    plate_ = fits.open( TrainingDir +TrainingFolder+slash+ spectrum ,memmap=True)\n",
    "    Bin_info_ = plate_[5].data\n",
    "    Flux_ = plate_[0].data\n",
    "    primhdu_ = plate_[0]\n",
    "    ANDMASK.append( plate_[2].data)\n",
    "    INVAR.append( plate_[1].data)\n",
    "    PLATEIDs.append(primhdu_.header['PLATEID'])\n",
    "    log_wavst.append(primhdu_.header['COEFF0'])\n",
    "    MJDs.append(primhdu_.header['MJD'])\n",
    "    BinInfos.append(Bin_info_)\n",
    "    Flux.append(Flux_)\n",
    "    "
   ]
  },
  {
   "cell_type": "code",
   "execution_count": 16,
   "metadata": {
    "collapsed": true
   },
   "outputs": [],
   "source": [
    "list = fits.open(TrainingDir+slash+'Superset_DR12Q.fits',memmap=True)#opening file\n",
    "\n",
    "supers=list[1].data # storing  BINTABLE extension data"
   ]
  },
  {
   "cell_type": "code",
   "execution_count": 18,
   "metadata": {
    "collapsed": true
   },
   "outputs": [],
   "source": [
    "Full_Data = storing(PLATEIDs,supers)"
   ]
  },
  {
   "cell_type": "code",
   "execution_count": 20,
   "metadata": {},
   "outputs": [
    {
     "data": {
      "text/plain": [
       "82"
      ]
     },
     "execution_count": 20,
     "metadata": {},
     "output_type": "execute_result"
    }
   ],
   "source": [
    "len(BinInfos)"
   ]
  },
  {
   "cell_type": "code",
   "execution_count": 22,
   "metadata": {
    "collapsed": true
   },
   "outputs": [],
   "source": [
    "X,Y,Train_z, Train_mag,All_AND,All_Inv,wav_logs,All_Name,All_MJDs,MatchedPlates= MLAData(Full_Data,BinInfos,Flux, log_wavst,ANDMASK,INVAR,MJDs,PLATEIDs)"
   ]
  },
  {
   "cell_type": "code",
   "execution_count": 24,
   "metadata": {},
   "outputs": [
    {
     "data": {
      "text/plain": [
       "41"
      ]
     },
     "execution_count": 24,
     "metadata": {},
     "output_type": "execute_result"
    }
   ],
   "source": [
    "len(X)"
   ]
  },
  {
   "cell_type": "code",
   "execution_count": 26,
   "metadata": {},
   "outputs": [
    {
     "data": {
      "text/plain": [
       "['spPlate-4791-55889.fits',\n",
       " 'spPlate-6970-56444.fits',\n",
       " 'spPlate-5852-56034.fits',\n",
       " 'spPlate-5484-56039.fits',\n",
       " 'spPlate-6290-56238.fits',\n",
       " 'spPlate-6122-56246.fits',\n",
       " 'spPlate-6424-56272.fits',\n",
       " 'spPlate-6723-56428.fits',\n",
       " 'spPlate-6880-56543.fits']"
      ]
     },
     "execution_count": 26,
     "metadata": {},
     "output_type": "execute_result"
    }
   ],
   "source": [
    "TestPlateDir = os.path.normpath(\"D:\\Data\\TestPlate_Name.txt\")\n",
    "with open(TestPlateDir) as f:\n",
    "    Spectra_TestFiles = f.read().splitlines()\n",
    "Spectra_TestFiles"
   ]
  },
  {
   "cell_type": "code",
   "execution_count": 28,
   "metadata": {
    "collapsed": true
   },
   "outputs": [],
   "source": [
    "TrainingDir = os.path.normpath(\"D:\\Data\")\n",
    "TestingFolder =  os.path.normpath(\"\\Test\")\n",
    "PLATEIDs_test = []\n",
    "log_wavs=[]\n",
    "BinInfos_test = []\n",
    "Flux_test = []\n",
    "AT = []\n",
    "IT = []\n",
    "MJDs_Test=[]\n",
    "z=0\n",
    "for spectrum_test in Spectra_TestFiles:\n",
    "    plate_test = fits.open(TrainingDir +TestingFolder+slash+spectrum_test ,memmap=True)\n",
    "    Bin_info_test = plate_test[5].data\n",
    "    Flux_t = plate_test[0].data\n",
    "    primhdu_test = plate_test[0]\n",
    "    AT.append( plate_[2].data)\n",
    "    IT.append( plate_[1].data)\n",
    "    PLATEIDs_test.append(primhdu_test.header['PLATEID'])\n",
    "    log_wavs.append(primhdu_test.header['COEFF0'])\n",
    "    MJDs_Test.append(primhdu_.header['MJD'])\n",
    "    BinInfos_test.append(Bin_info_test)\n",
    "    Flux_test.append(Flux_t)\n"
   ]
  },
  {
   "cell_type": "code",
   "execution_count": 30,
   "metadata": {},
   "outputs": [
    {
     "name": "stdout",
     "output_type": "stream",
     "text": [
      "9\n"
     ]
    }
   ],
   "source": [
    "Full_Data_test = storing(PLATEIDs_test,supers)\n",
    "print(len(Full_Data_test))"
   ]
  },
  {
   "cell_type": "code",
   "execution_count": 32,
   "metadata": {},
   "outputs": [
    {
     "name": "stdout",
     "output_type": "stream",
     "text": [
      "302\n"
     ]
    }
   ],
   "source": [
    "print(len(Full_Data_test[1]))"
   ]
  },
  {
   "cell_type": "code",
   "execution_count": 34,
   "metadata": {},
   "outputs": [
    {
     "name": "stdout",
     "output_type": "stream",
     "text": [
      "5\n"
     ]
    }
   ],
   "source": [
    "X_test,Y_test,All_redshifts,All_Mag,All_AND,All_Inv,wav_logs,All_Name,g,g4= MLAData(Full_Data_test,BinInfos_test,Flux_test,log_wavs,AT,IT,MJDs_Test,PLATEIDs_test )\n",
    "print(len(X_test))"
   ]
  },
  {
   "cell_type": "markdown",
   "metadata": {},
   "source": [
    "Solvers: ‘lbfgs’ is an optimizer in the family of quasi-Newton methods. ‘sgd’ refers to stochastic gradient descent. ‘adam’ refers to a stochastic gradient-based optimizer proposed by Kingma, Diederik, and Jimmy Ba"
   ]
  },
  {
   "cell_type": "code",
   "execution_count": 36,
   "metadata": {
    "collapsed": true
   },
   "outputs": [],
   "source": [
    "hiddenlayer_format = (13)\n",
    "backprop_method = 'lbfgs'\n",
    "lr=0.00001\n",
    "act =  'tanh' #'logistic'\n",
    "mlp = MLPClassifier(hidden_layer_sizes=hiddenlayer_format,max_iter=500, solver = backprop_method,learning_rate_init=lr,activation=act) ##Think About"
   ]
  },
  {
   "cell_type": "code",
   "execution_count": 38,
   "metadata": {},
   "outputs": [
    {
     "name": "stdout",
     "output_type": "stream",
     "text": [
      "8988\n",
      "8988\n"
     ]
    },
    {
     "data": {
      "text/plain": [
       "MLPClassifier(activation='tanh', alpha=0.0001, batch_size='auto', beta_1=0.9,\n",
       "       beta_2=0.999, early_stopping=False, epsilon=1e-08,\n",
       "       hidden_layer_sizes=13, learning_rate='constant',\n",
       "       learning_rate_init=1e-05, max_iter=500, momentum=0.9,\n",
       "       nesterovs_momentum=True, power_t=0.5, random_state=None,\n",
       "       shuffle=True, solver='lbfgs', tol=0.0001, validation_fraction=0.1,\n",
       "       verbose=False, warm_start=False)"
      ]
     },
     "execution_count": 38,
     "metadata": {},
     "output_type": "execute_result"
    }
   ],
   "source": [
    "X_Full=[]\n",
    "Y_Full = []\n",
    "n=0\n",
    "total = 0\n",
    "while n< len(X):\n",
    "    currentbinX = X[n]\n",
    "    currentbinY = Y[n]\n",
    "    i=0\n",
    "    total=total + len(currentbinY)\n",
    "    while i < len(currentbinY):\n",
    "        X_Full.append(currentbinX[i])\n",
    "        Y_Full.append(currentbinY[i])\n",
    "        i=i+1\n",
    "    n=n+1\n",
    "        \n",
    "\n",
    "\n",
    "print(len(X_Full))\n",
    "print(total)\n",
    "\n",
    "mlp.fit(X_Full,Y_Full)"
   ]
  },
  {
   "cell_type": "code",
   "execution_count": 40,
   "metadata": {},
   "outputs": [
    {
     "name": "stdout",
     "output_type": "stream",
     "text": [
      "5\n",
      "1083\n"
     ]
    }
   ],
   "source": [
    "XT_Full=[]\n",
    "YT_Full = []\n",
    "n=0\n",
    "print(len(X_test))\n",
    "while n< len(X_test):\n",
    "    currentbinX = X_test[n]\n",
    "    currentbinY = Y_test[n]\n",
    "    i=0\n",
    "    total=total + len(currentbinY)\n",
    "    while i < len(currentbinY):\n",
    "        XT_Full.append(currentbinX[i])\n",
    "        YT_Full.append(currentbinY[i])\n",
    "        i=i+1\n",
    "    n=n+1\n",
    "print(len(XT_Full))\n",
    "\n",
    "predictions = mlp.predict(np.array(XT_Full))"
   ]
  },
  {
   "cell_type": "code",
   "execution_count": 42,
   "metadata": {},
   "outputs": [
    {
     "name": "stdout",
     "output_type": "stream",
     "text": [
      "             precision    recall  f1-score   support\n",
      "\n",
      "          0       0.86      0.88      0.87       408\n",
      "          1       0.76      0.67      0.71       213\n",
      "          2       0.21      0.31      0.25        26\n",
      "          3       0.89      0.89      0.89       436\n",
      "\n",
      "avg / total       0.84      0.83      0.83      1083\n",
      "\n"
     ]
    }
   ],
   "source": [
    "print(classification_report(YT_Full,predictions))"
   ]
  },
  {
   "cell_type": "code",
   "execution_count": null,
   "metadata": {
    "collapsed": true
   },
   "outputs": [],
   "source": [
    "star,star_starloc,star_lowzloc,star_galloc,star_highzloc = classification(0,YT_Full,predictions) \n",
    "lowz,lowz_starloc,lowz_loc,lowz_galloc,lowz_highzloc = classification(1,YT_Full,predictions)\n",
    "gal,gal_starloc,gal_lowzloc,gal_galloc,gal_highzloc = classification(2,YT_Full,predictions)\n",
    "highz,highz_starloc,highz_lowzloc,highz_galloc,highz_highzloc = classification(3,YT_Full,predictions)"
   ]
  },
  {
   "cell_type": "code",
   "execution_count": null,
   "metadata": {
    "collapsed": true
   },
   "outputs": [],
   "source": [
    "File_Name = input(\"Please Enter File name: \")"
   ]
  },
  {
   "cell_type": "code",
   "execution_count": null,
   "metadata": {
    "collapsed": true
   },
   "outputs": [],
   "source": [
    "d = open(TrainingDir+slash+File_Name+\".txt\", 'w')"
   ]
  },
  {
   "cell_type": "code",
   "execution_count": null,
   "metadata": {
    "collapsed": true
   },
   "outputs": [],
   "source": [
    "t1=[\"Files used to train: \",np.str(Spectra_Files), \"\\n\"]\n",
    "sp= \"\\n\"\n",
    "t2 = [\"Files used to test: \",np.str(Spectra_TestFiles), \"\\n\"]\n",
    "t3 = [\"Number of training objects = \",np.str(len(Spectra_Files)), \"\\n\"]\n",
    "t4 = [\"Number of testing objects = \",np.str(len(Spectra_TestFiles)), \"\\n\"]\n",
    "n1 = [\"Structure of neural network: \", np.str(hiddenlayer_format),\"\\n\"]\n",
    "n2  = [\"Backpropagation method used: \",np.str(backprop_method), \"\\n\"]\n",
    "n3  = [\"Learning rate: \",np.str(lr), \"\\n\"]\n",
    "n4  = [\"Activation Function: \",np.str(act), \"\\n\"]\n",
    "r1 = [\"Results of Neural Network: \", \"\\n\",\"\\n\"]\n",
    "r2=[\"        \",\"       Star    Quasar  Galaxy  BAL \",\"\\n\",]\n",
    "r3=\"Star           \",np.str(np.round(star[0]*100,2)),\"%  \", np.str(np.round(star[1]*100,2)),\"%  \",np.str(np.round(star[2]*100,2)),\"%  \",np.str(np.round(star[3]*100,2)),\"%\",\"\\n\"\n",
    "r4=\"Quasar z<2.1   \",np.str(np.round( lowz[0]*100,2)),\"%  \", np.str(np.round( lowz[1]*100,2)),\"%  \",np.str(np.round( lowz[2]*100,2)),\"%  \",np.str(np.round( lowz[3]*100,2)),\"%\",\"\\n\"\n",
    "r5=\"Galaxy         \",np.str(np.round( gal[0]*100,2)),\"%  \", np.str(np.round( gal[1]*100,2)),\"%  \",np.str(np.round( gal[2]*100,2)),\"%  \",np.str(np.round( gal[3]*100,2)),\"%\",\"\\n\"\n",
    "r6=\"Quasar z<2.1   \",np.str(np.round( highz[0]*100,2)),\"%  \", np.str(np.round( highz[1]*100,2)),\"%  \",np.str(np.round( highz[2]*100,2)),\"%  \",np.str(np.round (highz[3]*100,2)),\"%\",\"\\n\""
   ]
  },
  {
   "cell_type": "code",
   "execution_count": null,
   "metadata": {
    "collapsed": true
   },
   "outputs": [],
   "source": [
    "d.writelines(t1)\n",
    "d.writelines(sp)\n",
    "d.writelines(t2)\n",
    "d.writelines(sp)\n",
    "d.writelines(t3)\n",
    "d.writelines(t4)\n",
    "d.writelines(sp)\n",
    "d.writelines(sp)\n",
    "d.writelines(n1)\n",
    "d.writelines(n2)\n",
    "d.writelines(n3)\n",
    "d.writelines(n4)\n",
    "d.writelines(sp)\n",
    "d.writelines(sp)\n",
    "d.writelines(r1)\n",
    "d.writelines(r2)\n",
    "d.writelines(r3)\n",
    "d.writelines(r4)\n",
    "d.writelines(r5)\n",
    "d.writelines(r6)\n"
   ]
  },
  {
   "cell_type": "code",
   "execution_count": null,
   "metadata": {
    "collapsed": true
   },
   "outputs": [],
   "source": [
    "list.close()"
   ]
  },
  {
   "cell_type": "code",
   "execution_count": null,
   "metadata": {
    "collapsed": true
   },
   "outputs": [],
   "source": [
    "d.close()"
   ]
  },
  {
   "cell_type": "code",
   "execution_count": 44,
   "metadata": {
    "collapsed": true
   },
   "outputs": [],
   "source": [
    "misclass_highz1=random.choice(highz_starloc)\n",
    "#misclass_highz2=random.choice(highz_galloc)\n",
    "misclass_star=random.choice(star_lowzloc)\n",
    "misclass_gal= random.choice(gal_lowzloc)\n"
   ]
  },
  {
   "cell_type": "markdown",
   "metadata": {},
   "source": [
    "From (http://www.sdss.org/dr12/spectro/spectro_basics/) : 'About the Spectra', we  know:\n",
    "\n",
    "\n",
    "<h5><center>log($\\lambda_{i+1}$) - log($\\lambda_{i}$)=0.0001.</center></h5>\n",
    "\n",
    "I will use this, and the first pixels central wavelength, to produce the wavelength array for this plate. This will be done by finding the plate wavelength ratio: \n",
    "\n",
    "<h3><center>$\\frac{\\lambda_{i+1}}{\\lambda_{i}}= 10^{0.0001}$.</center></h3>\n"
   ]
  },
  {
   "cell_type": "code",
   "execution_count": 46,
   "metadata": {},
   "outputs": [
    {
     "data": {
      "text/plain": [
       "5"
      ]
     },
     "execution_count": 46,
     "metadata": {},
     "output_type": "execute_result"
    }
   ],
   "source": [
    "w_full=[]\n",
    "i=0\n",
    "while i<len(wav_logs):\n",
    "    w_full.append(wav_logs[i]) \n",
    "    i=i+1\n",
    "len(w_full)"
   ]
  },
  {
   "cell_type": "code",
   "execution_count": 48,
   "metadata": {},
   "outputs": [
    {
     "name": "stdout",
     "output_type": "stream",
     "text": [
      "776\n"
     ]
    }
   ],
   "source": [
    "wav_ratio = 10**0.0001\n",
    "append_count=0\n",
    "cent_wav = 10**wav_logs[0]\n",
    "Y_flux = XT_Full[misclass_highz1]\n",
    "wavelengths = []\n",
    "wavelengths.append(cent_wav)\n",
    "current_wav = cent_wav\n",
    "while append_count < len(Y_flux)-1:\n",
    "    current_wav = current_wav*wav_ratio\n",
    "    wavelengths.append(current_wav)\n",
    "    append_count=append_count+1\n",
    "    \n",
    "print(misclass_highz1)"
   ]
  },
  {
   "cell_type": "code",
   "execution_count": 50,
   "metadata": {
    "collapsed": true
   },
   "outputs": [],
   "source": [
    "wav_log=[]\n",
    "Full_table = []\n",
    "PLATEIDs = []\n",
    "bin_size = np.str(10)\n",
    "TrainingDir = os.path.normpath(\"D:\\Data\")\n",
    "slash =  os.path.normpath(\"\\\\\")\n",
    "TrainingFolder =  os.path.normpath(\"\\Training\")\n",
    "PlateDir =\"D:\"+slash+\"Data\"+slash+\"FullRebin10\"+\".txt\"\n",
    "with open(PlateDir) as f:\n",
    "    Spectra_Files = f.read().splitlines()\n",
    "for spectrum in Spectra_Files:\n",
    "    plate_ = fits.open( TrainingDir+slash+'rebintrain'+slash+spectrum ,memmap=True)\n",
    "    primhdu_ = plate_[0]\n",
    "    hdu =  plate_[1].data\n",
    "    Full_table.append(hdu)\n",
    "    PLATEIDs.append(primhdu_.header['Plate'])\n",
    "    wav_log.append(primhdu_.header['LogWav'])"
   ]
  },
  {
   "cell_type": "code",
   "execution_count": 52,
   "metadata": {
    "collapsed": true
   },
   "outputs": [],
   "source": [
    "plate_r  = []\n",
    "plate_n  = []\n",
    "plate_c  = []\n",
    "plate_x  = []\n",
    "plate_y  = []\n",
    "i = 0\n",
    "while i < len(PLATEIDs):\n",
    "    plate_hdu  = Full_table[i]\n",
    "    obj = 0\n",
    "    while obj <len(plate_hdu):\n",
    "        currentobj = plate_hdu[obj]\n",
    "        Currentplate_z = currentobj[4]\n",
    "        Currentplate_y = currentobj[2]\n",
    "        Currentplate_x = currentobj[1]\n",
    "        Currentplate_n = currentobj[0]\n",
    "        plate_r.append(Currentplate_z)\n",
    "        plate_n.append(Currentplate_n)\n",
    "        plate_x.append(Currentplate_x[:800])\n",
    "        plate_y.append(Currentplate_y)\n",
    "        obj = obj +1\n",
    "    i = i+1\n",
    "\n"
   ]
  },
  {
   "cell_type": "code",
   "execution_count": 53,
   "metadata": {
    "collapsed": true
   },
   "outputs": [],
   "source": [
    "bin_wav = 10*0.829026074968624\n",
    "bin_max = 3600\n",
    "i=0\n",
    "cwavbin=[]\n",
    "while i<800:\n",
    "    cwavbin.append(bin_max+(bin_wav*0.5))\n",
    "    bin_max = bin_max+bin_wav\n",
    "    i=i+1\n",
    "    \n",
    "normal_flux= plate_x[misclass_gal]"
   ]
  },
  {
   "cell_type": "code",
   "execution_count": null,
   "metadata": {
    "collapsed": true
   },
   "outputs": [],
   "source": [
    "plt.plot(wavelengths,Y_flux)\n",
    "plt.ylabel('Flux [$10^{-17}$ $erg/s/cm^2/$'r'$\\AA$'']')\n",
    "plt.xlabel('Wavelength' r' $\\AA$')\n",
    "plt.title('Misclassified Quasar')\n",
    "plt.show()"
   ]
  },
  {
   "cell_type": "code",
   "execution_count": null,
   "metadata": {
    "collapsed": true
   },
   "outputs": [],
   "source": []
  },
  {
   "cell_type": "code",
   "execution_count": 54,
   "metadata": {
    "collapsed": true
   },
   "outputs": [],
   "source": [
    "append_count=0\n",
    "cent_wav2 = 10**wav_logs[0]\n",
    "Y2_flux = XT_Full[misclass_star]\n",
    "wavelengths2 = []\n",
    "wavelengths2.append(cent_wav2)\n",
    "current_wav2 = cent_wav2\n",
    "while append_count < len(Y2_flux)-1:\n",
    "    current_wav2 = current_wav2*wav_ratio\n",
    "    wavelengths2.append(current_wav2)\n",
    "    append_count=append_count+1"
   ]
  },
  {
   "cell_type": "code",
   "execution_count": null,
   "metadata": {
    "collapsed": true
   },
   "outputs": [],
   "source": [
    "plt.plot(wavelengths2,Y2_flux)\n",
    "plt.ylabel('Flux [$10^{-17}$ $erg/s/cm^2/$'r'$\\AA$'']')\n",
    "plt.xlabel('Wavelength' r' $\\AA$')\n",
    "plt.title('Misclassified Star')\n",
    "plt.show()"
   ]
  },
  {
   "cell_type": "code",
   "execution_count": 55,
   "metadata": {
    "collapsed": true
   },
   "outputs": [],
   "source": [
    "#append_count=0\n",
    "#cent_wav3 = 10**wav_logs[0]\n",
    "Y3_flux = XT_Full[misclass_gal]\n",
    "#wavelengths3 = []\n",
    "#wavelengths3.append(cent_wav)\n",
    "#current_wav3 = cent_wav3\n",
    "#while append_count < len(Y3_flux)-1:\n",
    "#    current_wav3 = current_wav3*wav_ratio\n",
    " #   wavelengths3.append(current_wav3)\n",
    "  #  append_count=append_count+1"
   ]
  },
  {
   "cell_type": "code",
   "execution_count": 56,
   "metadata": {
    "collapsed": true
   },
   "outputs": [],
   "source": [
    "\n",
    "plt.plot(wavelengths2,Y3_flux)\n",
    "plt.plot(cwavbin,normal_flux)\n",
    "\n",
    "\n",
    "plt.ylabel('Flux [$10^{-17}$ $erg/s/cm^2/$'r'$\\AA$'']')\n",
    "plt.xlabel('Wavelength' r' $\\AA$')\n",
    "plt.title('Misclassified Galaxy')\n",
    "plt.savefig('galspecoverplot.png')"
   ]
  },
  {
   "cell_type": "code",
   "execution_count": null,
   "metadata": {
    "collapsed": true
   },
   "outputs": [],
   "source": [
    "append_count=0\n",
    "cent_wav4 = 10**wav_logs[misclass_gal]\n",
    "Y4_flux = X_test[misclass_gal]\n",
    "wavelengths4 = []\n",
    "wavelengths4.append(cent_wav4)\n",
    "current_wav4 = cent_wav4\n",
    "while append_count < len(Y4_flux)-1:\n",
    "    current_wav4 = current_wav4*wav_ratio\n",
    "    wavelengths4.append(current_wav4)\n",
    "    append_count=append_count+1"
   ]
  },
  {
   "cell_type": "code",
   "execution_count": null,
   "metadata": {
    "collapsed": true
   },
   "outputs": [],
   "source": [
    "plt.plot(wavelengths4,Y4_flux)\n",
    "plt.ylabel('Flux [$10^{-17}$ $erg/s/cm^2/$'r'$\\AA$'']')\n",
    "plt.xlabel('Wavelength' r' $\\AA$')\n",
    "plt.title('Misclassified Star as Quasar with z>2.1')\n",
    "plt.show()"
   ]
  },
  {
   "cell_type": "code",
   "execution_count": null,
   "metadata": {
    "collapsed": true
   },
   "outputs": [],
   "source": [
    "Bin_no = input(\"Please Enter bin : \")"
   ]
  },
  {
   "cell_type": "code",
   "execution_count": null,
   "metadata": {
    "collapsed": true
   },
   "outputs": [],
   "source": [
    "X_bin,Y_bin,Train_z_bin, Train_mag_bin,wavst_bin = MLAData(Full_Data,BinInfos,Flux, log_wavst,Bin_no)"
   ]
  },
  {
   "cell_type": "code",
   "execution_count": null,
   "metadata": {
    "collapsed": true
   },
   "outputs": [],
   "source": [
    "X_test_bin,Y_test_bin,All_redshifts_bint,All_Ma_bintg,wav_logs_bin= MLAData(Full_Data_test,BinInfos_test,Flux_test,log_wavs)"
   ]
  },
  {
   "cell_type": "code",
   "execution_count": null,
   "metadata": {
    "collapsed": true
   },
   "outputs": [],
   "source": []
  },
  {
   "cell_type": "code",
   "execution_count": null,
   "metadata": {
    "collapsed": true
   },
   "outputs": [],
   "source": []
  },
  {
   "cell_type": "code",
   "execution_count": null,
   "metadata": {
    "collapsed": true
   },
   "outputs": [],
   "source": []
  },
  {
   "cell_type": "code",
   "execution_count": null,
   "metadata": {
    "collapsed": true
   },
   "outputs": [],
   "source": []
  },
  {
   "cell_type": "code",
   "execution_count": null,
   "metadata": {
    "collapsed": true
   },
   "outputs": [],
   "source": []
  },
  {
   "cell_type": "code",
   "execution_count": null,
   "metadata": {
    "collapsed": true
   },
   "outputs": [],
   "source": []
  },
  {
   "cell_type": "code",
   "execution_count": null,
   "metadata": {
    "collapsed": true
   },
   "outputs": [],
   "source": []
  },
  {
   "cell_type": "code",
   "execution_count": null,
   "metadata": {
    "collapsed": true
   },
   "outputs": [],
   "source": []
  },
  {
   "cell_type": "code",
   "execution_count": null,
   "metadata": {
    "collapsed": true
   },
   "outputs": [],
   "source": []
  }
 ],
 "metadata": {
  "kernelspec": {
   "display_name": "Python 3",
   "language": "python",
   "name": "python3"
  },
  "language_info": {
   "codemirror_mode": {
    "name": "ipython",
    "version": 3
   },
   "file_extension": ".py",
   "mimetype": "text/x-python",
   "name": "python",
   "nbconvert_exporter": "python",
   "pygments_lexer": "ipython3",
   "version": "3.6.1"
  }
 },
 "nbformat": 4,
 "nbformat_minor": 2
}
