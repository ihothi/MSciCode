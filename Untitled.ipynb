{
 "cells": [
  {
   "cell_type": "code",
   "execution_count": 4,
   "metadata": {
    "collapsed": true
   },
   "outputs": [],
   "source": [
    "import numpy as np\n",
    "from astropy.io import fits\n",
    "import matplotlib\n",
    "import matplotlib.pyplot as plt\n",
    "from sklearn.neural_network import MLPClassifier\n",
    "from sklearn.metrics import classification_report\n",
    "from sklearn.ensemble import RandomForestClassifier\n",
    "from sklearn.preprocessing import StandardScaler\n",
    "import os\n",
    "from ProjectF import classification, Object,storing\n",
    "import random\n"
   ]
  },
  {
   "cell_type": "code",
   "execution_count": 5,
   "metadata": {
    "collapsed": true
   },
   "outputs": [],
   "source": [
    "def MLADataBin(Full_Data,BinInfos,Flux,log_wavsm, Bin_size,ORMASK, INVAR):\n",
    "    \n",
    "    Plate_Y = []\n",
    "    Plate_X = []\n",
    "    All_redshifts=[]\n",
    "    All_Mag=[]\n",
    "    All_Wavlogs=[]\n",
    "    plate_no = 0\n",
    "    first_plate =True\n",
    "    while plate_no < len(Full_Data):\n",
    "        Y = []\n",
    "        X = []\n",
    "        first_object =True\n",
    "        wav_logs=[]\n",
    "        redshifts=[]\n",
    "        Mag=[]\n",
    "        #loading matched objects with sup, plate data\n",
    "        CurrentSup_data = Full_Data[plate_no]\n",
    "        CurrentBin = BinInfos[plate_no]\n",
    "        CurrentFlux = Flux[plate_no]\n",
    "        CurrentMask =ORMASK[plate_no]\n",
    "        CurrentIn = INVAR[plate_no]\n",
    "        wav= log_wavsm[plate_no]\n",
    "        ObjectInvar=[]\n",
    "        NewInVar = []\n",
    "        #first object is zeroth element\n",
    "        Sup_obj =0 \n",
    "        while Sup_obj < len(CurrentSup_data):\n",
    "            #to stop double counting\n",
    "            no_match = True\n",
    "            #looking at an object that has been matched in sup list\n",
    "            CurrentSup = CurrentSup_data[Sup_obj]            \n",
    "            #going through each object in the bin\n",
    "            BinObj_No = 0\n",
    "            while BinObj_No<len(CurrentBin):\n",
    "                BinObj = CurrentBin[BinObj_No]\n",
    "                ObjFlux = CurrentFlux[BinObj_No]\n",
    "                ObjIn=CurrentIn[BinObj_No]\n",
    "                W=0\n",
    "                \n",
    "                ##checking if the two match \n",
    "                if BinObj['FIBERID'] == CurrentSup.FiberID:\n",
    "                    ObjFlux_bin=[]\n",
    "                    if no_match:\n",
    "                        if CurrentSup.Class_p == 0:\n",
    "                            a=0\n",
    "                        else:\n",
    "    \n",
    "                            no_match = False\n",
    "                            if CurrentSup.Class_p == 3 or CurrentSup.Class_p==30:\n",
    "                                bin_n=0\n",
    "                                x_flux=0\n",
    "                                ObjFlux[:4600]\n",
    "                                redshifts.append(CurrentSup.z)\n",
    "                                Mag.append(CurrentSup.Mag)\n",
    "                                wav_logs.append(wav)\n",
    "                                if CurrentSup.z < 2.1:\n",
    "                                    Y.append(3)\n",
    "                                    pixno=0\n",
    "                                    \n",
    "                                    while pixno < len(ObjFlux):\n",
    "                                        \n",
    "                                        while bin_n<Bin_size:\n",
    "                                            if (pixno+bin_n)<len(ObjFlux):\n",
    "                                                \n",
    "                                                x_flux1 =(ObjFlux[pixno+bin_n])\n",
    "                                                CurrentW=ObjIn[pixno+bin_n]\n",
    "                                                W=W+CurrentW\n",
    "                                                x_flux=x_flux +(x_flux1*CurrentW)\n",
    "                                                bin_n=bin_n+1\n",
    "                                        if W==0:\n",
    "                                            ObjFlux_bin.append(0)\n",
    "                                        else:\n",
    "                                            ObjFlux_bin.append(x_flux/W)\n",
    "                                        pixno=pixno+bin_n\n",
    "                                else:\n",
    "                                    Y.append(30)\n",
    "                                    pixno=0\n",
    "                                    ObjFlux[:4600]\n",
    "                                    while pixno < len(CurrentFlux):\n",
    "                                        \n",
    "                                        while bin_n<Bin_size:\n",
    "                                            if (pixno+bin_n)<len(ObjFlux):\n",
    "                                                \n",
    "                                                x_flux1 =(ObjFlux[pixno+bin_n])\n",
    "                                                CurrentW=ObjIn[pixno+bin_n]\n",
    "                                                W=W+CurrentW\n",
    "                                                x_flux=x_flux +(x_flux1*CurrentW)\n",
    "                                                bin_n=bin_n+1\n",
    "                                        if W==0:\n",
    "                                            ObjFlux_bin.append(0)\n",
    "                                        else:\n",
    "                                            ObjFlux_bin.append(x_flux/W)\n",
    "                                        pixno=pixno+bin_n\n",
    "                                    \n",
    "                            else:\n",
    "                                bin_n=0\n",
    "                                x_flux=0\n",
    "                                Y.append(CurrentSup.Class_p)\n",
    "                                pixno=0\n",
    "                                ObjFlux[:4600]\n",
    "                                redshifts.append(CurrentSup.z)\n",
    "                                Mag.append(CurrentSup.Mag)\n",
    "                                wav_logs.append(wav)\n",
    "                                while pixno < len(CurrentFlux):\n",
    "                                    while bin_n<Bin_size:\n",
    "                                        if (pixno+bin_n)<len(ObjFlux):\n",
    "                                            \n",
    "                                            x_flux1 =(ObjFlux[pixno+bin_n])\n",
    "                                            CurrentW=ObjIn[pixno+bin_n]\n",
    "                                            W=W+CurrentW\n",
    "                                            x_flux=x_flux +(x_flux1*CurrentW)\n",
    "                                            bin_n=bin_n+1\n",
    "                                    if W==0:\n",
    "                                        ObjFlux_bin.append(0)\n",
    "                                    else:\n",
    "                                        ObjFlux_bin.append(x_flux/W)\n",
    "                                    pixno=pixno+bin_n\n",
    "                        if first_object:\n",
    "                            X.append(np.array(ObjFlux_bin))\n",
    "                            first_object= False\n",
    "                        else:\n",
    "                            np.concatenate((X, ObjFlux_bin))\n",
    "                BinObj_No=BinObj_No+1\n",
    "            Sup_obj=Sup_obj+1\n",
    "        plate_no = plate_no+1\n",
    "        \n",
    "        if first_plate:\n",
    "            Plate_X.append(np.array(X))\n",
    "            Plate_Y.append(Y)\n",
    "            All_Mag.append(Mag)\n",
    "            All_redshifts.append(redshifts)\n",
    "            All_Wavlogs.append(wav_logs)\n",
    "            first_plate = False\n",
    "        else:\n",
    "            np.concatenate((Plate_X, X))\n",
    "            np.concatenate((Plate_Y, Y))\n",
    "            np.concatenate((All_Mag, Mag))\n",
    "            np.concatenate((All_redshifts, redshifts))\n",
    "            np.concatenate((All_Wavlogs, wav_logs))\n",
    "\n",
    "    return Plate_X,Plate_Y,All_redshifts,All_Mag,wav_logs"
   ]
  },
  {
   "cell_type": "code",
   "execution_count": 7,
   "metadata": {},
   "outputs": [
    {
     "name": "stdout",
     "output_type": "stream",
     "text": [
      "Yes\n",
      "10\n"
     ]
    },
    {
     "ename": "NameError",
     "evalue": "name 'MLADataDin' is not defined",
     "output_type": "error",
     "traceback": [
      "\u001b[1;31m---------------------------------------------------------------------------\u001b[0m",
      "\u001b[1;31mNameError\u001b[0m                                 Traceback (most recent call last)",
      "\u001b[1;32m<ipython-input-7-4f4a0f5b74e3>\u001b[0m in \u001b[0;36m<module>\u001b[1;34m()\u001b[0m\n\u001b[0;32m     31\u001b[0m \u001b[1;33m\u001b[0m\u001b[0m\n\u001b[0;32m     32\u001b[0m \u001b[1;33m\u001b[0m\u001b[0m\n\u001b[1;32m---> 33\u001b[1;33m \u001b[0mX\u001b[0m\u001b[1;33m,\u001b[0m\u001b[0mY\u001b[0m\u001b[1;33m,\u001b[0m\u001b[0mTrain_z\u001b[0m\u001b[1;33m,\u001b[0m \u001b[0mTrain_mag\u001b[0m\u001b[1;33m,\u001b[0m\u001b[0mwavst\u001b[0m \u001b[1;33m=\u001b[0m \u001b[0mMLADataDin\u001b[0m\u001b[1;33m(\u001b[0m\u001b[0mFull_Data\u001b[0m\u001b[1;33m,\u001b[0m\u001b[0mBinInfos\u001b[0m\u001b[1;33m,\u001b[0m\u001b[0mFlux\u001b[0m\u001b[1;33m,\u001b[0m \u001b[0mlog_wavst\u001b[0m\u001b[1;33m)\u001b[0m\u001b[1;33m\u001b[0m\u001b[0m\n\u001b[0m",
      "\u001b[1;31mNameError\u001b[0m: name 'MLADataDin' is not defined"
     ]
    }
   ],
   "source": [
    "## Loading in data\n",
    "PlateDir = os.path.normpath(\"D:\\Data\\Plate_Name_Reduced.txt\")\n",
    "with open(PlateDir) as f:\n",
    "    Spectra_Files = f.read().splitlines()\n",
    "print('Yes')  \n",
    "PLATEIDs = []\n",
    "BinInfos = []\n",
    "Flux = []\n",
    "MJDs = []\n",
    "log_wavst=[]\n",
    "TrainingDir = os.path.normpath(\"D:\\Data\")\n",
    "slash =  os.path.normpath(\"\\\\\")\n",
    "TrainingFolder =  os.path.normpath(\"\\Training\")\n",
    "slash =  os.path.normpath(\"\\\\\")\n",
    "for spectrum in Spectra_Files:\n",
    "    plate_ = fits.open( TrainingDir +TrainingFolder+slash+ spectrum ,memmap=True)\n",
    "    Bin_info_ = plate_[5].data\n",
    "    Flux_ = plate_[0].data\n",
    "    primhdu_ = plate_[0]\n",
    "    PLATEIDs.append(primhdu_.header['PLATEID'])\n",
    "    log_wavst.append(primhdu_.header['COEFF0'])\n",
    "    MJDs.append(primhdu_.header['MJD'])\n",
    "    BinInfos.append(Bin_info_)\n",
    "    Flux.append(Flux_)\n",
    "    \n",
    "list = fits.open(TrainingDir+slash+'Superset_DR12Q.fits',memmap=True)#opening file\n",
    "print(len(log_wavst))\n",
    "supers=list[1].data # storing  BINTABLE extension data\n",
    "\n",
    "Full_Data = storing(PLATEIDs,supers)\n",
    "\n",
    "\n"
   ]
  },
  {
   "cell_type": "code",
   "execution_count": null,
   "metadata": {
    "collapsed": true
   },
   "outputs": [],
   "source": []
  },
  {
   "cell_type": "code",
   "execution_count": null,
   "metadata": {
    "collapsed": true
   },
   "outputs": [],
   "source": [
    "i=0\n",
    "#while i <len(PLATEIDs):\n",
    "C_Plate = PLATEIDs[1]\n",
    "a1 = np.array(X[1]) \n",
    "a2 = np.array(Y[1])\n",
    "col2 = fits.Column(name='Bin_Flux', format='E', array=a1)\n",
    "col1 = fits.Column(name='Class', format='I', array=a2)\n",
    "cols = fits.ColDefs([col1, col2])\n",
    "tbhdu = fits.BinTableHDU.from_columns(cols)\n",
    "tbhdu.writeto(TrainingDir+slash+\"rebinned\"+np.str(C_Plate)+'.fits')\n",
    "i=i+1"
   ]
  },
  {
   "cell_type": "code",
   "execution_count": 17,
   "metadata": {},
   "outputs": [],
   "source": [
    "c=[]\n",
    "a = [1,2,3]\n",
    "b=[4,5,6]\n",
    "c.append(b)\n",
    "c.append(a)"
   ]
  },
  {
   "cell_type": "code",
   "execution_count": 18,
   "metadata": {},
   "outputs": [
    {
     "data": {
      "text/plain": [
       "[[4, 5, 6], [1, 2, 3]]"
      ]
     },
     "execution_count": 18,
     "metadata": {},
     "output_type": "execute_result"
    }
   ],
   "source": [
    "c"
   ]
  },
  {
   "cell_type": "code",
   "execution_count": null,
   "metadata": {
    "collapsed": true
   },
   "outputs": [],
   "source": []
  }
 ],
 "metadata": {
  "kernelspec": {
   "display_name": "Python 3",
   "language": "python",
   "name": "python3"
  },
  "language_info": {
   "codemirror_mode": {
    "name": "ipython",
    "version": 3
   },
   "file_extension": ".py",
   "mimetype": "text/x-python",
   "name": "python",
   "nbconvert_exporter": "python",
   "pygments_lexer": "ipython3",
   "version": "3.6.1"
  }
 },
 "nbformat": 4,
 "nbformat_minor": 2
}
