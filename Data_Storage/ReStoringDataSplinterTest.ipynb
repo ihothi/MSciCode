{
 "cells": [
  {
   "cell_type": "code",
   "execution_count": 1,
   "metadata": {
    "collapsed": true
   },
   "outputs": [],
   "source": [
    "import numpy as np\n",
    "from astropy.io import fits\n",
    "import matplotlib\n",
    "import matplotlib.pyplot as plt\n",
    "from sklearn.neural_network import MLPClassifier\n",
    "from sklearn.metrics import classification_report\n",
    "from sklearn.ensemble import RandomForestClassifier\n",
    "from sklearn.preprocessing import StandardScaler\n",
    "import os\n",
    "from ProjectF import MLAData,classification, Object,storing,MLADataBin\n",
    "import random"
   ]
  },
  {
   "cell_type": "code",
   "execution_count": 2,
   "metadata": {
    "collapsed": true
   },
   "outputs": [],
   "source": [
    "Platedir = os.path.normpath(\"/share/data1/boss_data/sas/dr12/boss/spectro/redux/v5_7_0/\")\n",
    "plate_name = os.listdir(Platedir)"
   ]
  },
  {
   "cell_type": "code",
   "execution_count": null,
   "metadata": {
    "collapsed": true
   },
   "outputs": [],
   "source": [
    "file=\"FullPlate_Name.txt\"\n",
    "p = open(f, 'w')\n",
    "for i in plate_name:\n",
    "    p.write(i, '\\n')\n",
    "\n",
    "p.close()"
   ]
  },
  {
   "cell_type": "code",
   "execution_count": 2,
   "metadata": {},
   "outputs": [
    {
     "name": "stdout",
     "output_type": "stream",
     "text": [
      "Yes\n"
     ]
    }
   ],
   "source": [
    "with open(file) as f:\n",
    "    Spectra_Files = f.read().splitlines() \n",
    "PLATEIDs = []\n",
    "BinInfos = []\n",
    "Flux = []\n",
    "MJDs = []\n",
    "log_wavst=[]\n",
    "ORMASK=[]\n",
    "ANDMASK=[]\n",
    "INVAR=[]"
   ]
  },
  {
   "cell_type": "code",
   "execution_count": 11,
   "metadata": {},
   "outputs": [
    {
     "name": "stdout",
     "output_type": "stream",
     "text": [
      "yes\n"
     ]
    }
   ],
   "source": [
    "if 'spPlate' in \"spPlate.fits\" and \".fits\"in \"spPplate.fits\" :\n",
    "    print('yes')\n",
    "else:\n",
    "    print (\"no\")"
   ]
  },
  {
   "cell_type": "code",
   "execution_count": null,
   "metadata": {
    "collapsed": true
   },
   "outputs": [],
   "source": [
    "for f in Spectra_Files:\n",
    "    file_list = os.listdir(Platedir+f)\n",
    "    for l in file_list:\n",
    "        if 'spPlate' in l and \".fits\"in l: \n",
    "            plate_ = fits.open(Platedir+f+l,memmap=True)\n",
    "        Bin_info_ = plate_[5].data\n",
    "        Flux_ = plate_[0].data\n",
    "        primhdu_ = plate_[0]\n",
    "        PLATEIDs.append(primhdu_.header['PLATEID'])\n",
    "        ORMASK.append( plate_[3].data)\n",
    "        ANDMASK.append( plate_[2].data)\n",
    "        INVAR.append( plate_[1].data)\n",
    "        log_wavst.append(primhdu_.header['COEFF0'])\n",
    "        MJDs.append(primhdu_.header['MJD'])\n",
    "        BinInfos.append(Bin_info_)\n",
    "        Flux.append(Flux_)"
   ]
  },
  {
   "cell_type": "code",
   "execution_count": 3,
   "metadata": {},
   "outputs": [
    {
     "name": "stdout",
     "output_type": "stream",
     "text": [
      "9\n"
     ]
    }
   ],
   "source": [
    "list = fits.open('Superset_DR12Q.fits',memmap=True)#opening file\n",
    " supers=list[1].data # storing  BINTABLE extension data"
   ]
  },
  {
   "cell_type": "code",
   "execution_count": 4,
   "metadata": {
    "collapsed": true
   },
   "outputs": [],
   "source": [
    "Full_Data = storing(PLATEIDs,supers)"
   ]
  },
  {
   "cell_type": "code",
   "execution_count": 5,
   "metadata": {
    "collapsed": true
   },
   "outputs": [],
   "source": [
    "X,Y,Train_z, Train_mag,And, In, wavst, ID = MLAData(Full_Data,BinInfos,Flux, log_wavst,ANDMASK,INVAR)"
   ]
  },
  {
   "cell_type": "code",
   "execution_count": 6,
   "metadata": {},
   "outputs": [
    {
     "name": "stdout",
     "output_type": "stream",
     "text": [
      "200\n",
      "200\n",
      "200\n",
      "200\n",
      "200\n",
      "D:\\Data\\4791.fits\n",
      "291\n",
      "291\n",
      "291\n",
      "291\n",
      "291\n",
      "D:\\Data\\6970.fits\n",
      "204\n",
      "204\n",
      "204\n",
      "204\n",
      "204\n",
      "D:\\Data\\5852.fits\n",
      "253\n",
      "253\n",
      "253\n",
      "253\n",
      "253\n",
      "D:\\Data\\5484.fits\n",
      "207\n",
      "207\n",
      "207\n",
      "207\n",
      "207\n",
      "D:\\Data\\6290.fits\n",
      "212\n",
      "212\n",
      "212\n",
      "212\n",
      "212\n",
      "D:\\Data\\6122.fits\n",
      "278\n",
      "278\n",
      "278\n",
      "278\n",
      "278\n",
      "D:\\Data\\6424.fits\n",
      "315\n",
      "315\n",
      "315\n",
      "315\n",
      "315\n",
      "D:\\Data\\6723.fits\n",
      "194\n",
      "194\n",
      "194\n",
      "194\n",
      "194\n",
      "D:\\Data\\6880.fits\n"
     ]
    },
    {
     "data": {
      "text/plain": [
       "<function TextIOWrapper.close>"
      ]
     },
     "execution_count": 6,
     "metadata": {},
     "output_type": "execute_result"
    }
   ],
   "source": [
    "i=0\n",
    "while i <len(PLATEIDs):\n",
    "    C_Plate = PLATEIDs[i]\n",
    "    a1 = X[i] \n",
    "    a2 = np.array(Y[i])\n",
    "    if len(a1)==0 & len(a2)==0:\n",
    "        i=i+1\n",
    "    else: \n",
    "        a3=And[i]\n",
    "        a4=In[i]\n",
    "        a5 = Train_z[i]\n",
    "        a6=ID[i]\n",
    "        a7 = wavst[i]\n",
    "        col1 = fits.Column(name='Bin_Flux', format='PD()', array=np.array(a1,dtype=np.object))\n",
    "        col2 = fits.Column(name='Class', format='I', array=np.array(a2))\n",
    "        col3 = fits.Column(name='ANDMASK', format='PD()', array=np.array(a3,dtype=np.object))\n",
    "        col4 = fits.Column(name='INVAR', format='PD()', array=np.array(a4,dtype=np.object))\n",
    "        col5 = fits.Column(name='Redshift', format='D', array=np.array(a5))\n",
    "        col6 = fits.Column(name='Name', format='20A', array=np.array(a6))\n",
    "        cols = fits.ColDefs([col1, col2,col3, col4,col5,col6])\n",
    "        tbhdu = fits.BinTableHDU.from_columns(cols)\n",
    "        prihdr = fits.Header()\n",
    "        prihdr['Plate'] = C_Plate\n",
    "        prihdr['LogWav'] = a7\n",
    "        prihdu = fits.PrimaryHDU(header=prihdr)\n",
    "        file_name = \"restore\"+\"/\"+np.str(C_Plate)+'.fits'\n",
    "        thdulist = fits.HDUList([prihdu, tbhdu])\n",
    "        thdulist.writeto(file_name)\n",
    "        i=i+1"
   ]
  },
  {
   "cell_type": "code",
   "execution_count": null,
   "metadata": {
    "collapsed": true
   },
   "outputs": [],
   "source": []
  },
  {
   "cell_type": "code",
   "execution_count": null,
   "metadata": {},
   "outputs": [],
   "source": []
  },
  {
   "cell_type": "code",
   "execution_count": null,
   "metadata": {
    "collapsed": true
   },
   "outputs": [],
   "source": []
  },
  {
   "cell_type": "code",
   "execution_count": null,
   "metadata": {
    "collapsed": true
   },
   "outputs": [],
   "source": []
  },
  {
   "cell_type": "code",
   "execution_count": null,
   "metadata": {
    "collapsed": true
   },
   "outputs": [],
   "source": []
  },
  {
   "cell_type": "code",
   "execution_count": null,
   "metadata": {
    "collapsed": true
   },
   "outputs": [],
   "source": []
  }
 ],
 "metadata": {
  "kernelspec": {
   "display_name": "Python 3",
   "language": "python",
   "name": "python3"
  },
  "language_info": {
   "codemirror_mode": {
    "name": "ipython",
    "version": 3
   },
   "file_extension": ".py",
   "mimetype": "text/x-python",
   "name": "python",
   "nbconvert_exporter": "python",
   "pygments_lexer": "ipython3",
   "version": "3.6.1"
  }
 },
 "nbformat": 4,
 "nbformat_minor": 2
}
