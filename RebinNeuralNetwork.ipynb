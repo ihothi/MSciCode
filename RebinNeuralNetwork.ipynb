{
 "cells": [
  {
   "cell_type": "code",
   "execution_count": 1,
   "metadata": {
    "collapsed": true
   },
   "outputs": [],
   "source": [
    "import numpy as np\n",
    "from astropy.io import fits\n",
    "import matplotlib\n",
    "import matplotlib.pyplot as plt\n",
    "from sklearn.neural_network import MLPClassifier\n",
    "from sklearn.metrics import classification_report\n",
    "from sklearn.ensemble import RandomForestClassifier\n",
    "from sklearn.preprocessing import StandardScaler\n",
    "import os\n",
    "from ProjectF import MLAData,classification, Object,storing\n",
    "import random"
   ]
  },
  {
   "cell_type": "code",
   "execution_count": 3,
   "metadata": {},
   "outputs": [],
   "source": [
    "TrainingDir = os.path.normpath(\"D:\\Data\")\n",
    "slash =  os.path.normpath(\"\\\\\")\n",
    "TrainingFolder =  os.path.normpath(\"\\Training\")\n",
    "PlateDir =\"D:\"+slash+\"Data\"+slash+\"FullRebin.txt\"\n",
    "with open(PlateDir) as f:\n",
    "    Spectra_Files = f.read().splitlines()"
   ]
  },
  {
   "cell_type": "code",
   "execution_count": 5,
   "metadata": {},
   "outputs": [],
   "source": [
    "wav_log=[]\n",
    "Full_table = []\n",
    "PLATEIDs = []\n",
    "for spectrum in Spectra_Files:\n",
    "    plate_ = fits.open( TrainingDir+slash+'rebin'+slash+spectrum ,memmap=True)\n",
    "    primhdu_ = plate_[0]\n",
    "    hdu =  plate_[1].data\n",
    "    Full_table.append(hdu)\n",
    "    PLATEIDs.append(primhdu_.header['Plate'])\n",
    "    wav_log.append(primhdu_.header['LogWav'])"
   ]
  },
  {
   "cell_type": "code",
   "execution_count": 12,
   "metadata": {},
   "outputs": [],
   "source": [
    "plate_r  = []\n",
    "plate_n  = []\n",
    "plate_c  = []\n",
    "plate_x  = []\n",
    "plate_y  = []\n",
    "i = 0\n",
    "while i < len(PLATEIDs):\n",
    "    plate_hdu  = Full_table[i]\n",
    "    obj = 0\n",
    "    while obj <len(plate_hdu):\n",
    "        currentobj = plate_hdu[obj]\n",
    "        Currentplate_z = currentobj[4]\n",
    "        Currentplate_y = currentobj[2]\n",
    "        Currentplate_x = currentobj[1]\n",
    "        Currentplate_n = currentobj[0]\n",
    "        plate_r.append(Currentplate_z)\n",
    "        plate_n.append(Currentplate_n)\n",
    "        plate_x.append(Currentplate_x)\n",
    "        plate_y.append(Currentplate_y)\n",
    "        obj = obj +1\n",
    "    i = i+1\n",
    "\n"
   ]
  },
  {
   "cell_type": "code",
   "execution_count": 13,
   "metadata": {
    "collapsed": true
   },
   "outputs": [],
   "source": [
    "hiddenlayer_format = (13)\n",
    "backprop_method = 'lbfgs'\n",
    "lr=0.00001\n",
    "act =  'tanh' #'logistic'\n",
    "mlp = MLPClassifier(hidden_layer_sizes=hiddenlayer_format,max_iter=500, solver = backprop_method,learning_rate_init=lr,activation=act) ##Think About"
   ]
  },
  {
   "cell_type": "code",
   "execution_count": 16,
   "metadata": {},
   "outputs": [
    {
     "data": {
      "text/plain": [
       "MLPClassifier(activation='tanh', alpha=0.0001, batch_size='auto', beta_1=0.9,\n",
       "       beta_2=0.999, early_stopping=False, epsilon=1e-08,\n",
       "       hidden_layer_sizes=13, learning_rate='constant',\n",
       "       learning_rate_init=1e-05, max_iter=500, momentum=0.9,\n",
       "       nesterovs_momentum=True, power_t=0.5, random_state=None,\n",
       "       shuffle=True, solver='lbfgs', tol=0.0001, validation_fraction=0.1,\n",
       "       verbose=False, warm_start=False)"
      ]
     },
     "execution_count": 16,
     "metadata": {},
     "output_type": "execute_result"
    }
   ],
   "source": [
    "scaler = StandardScaler()  \n",
    "scaler.fit(plate_x)  \n",
    "plate_x = scaler.transform(plate_x)    \n",
    "mlp.fit(plate_x,plate_y)"
   ]
  },
  {
   "cell_type": "code",
   "execution_count": null,
   "metadata": {
    "collapsed": true
   },
   "outputs": [],
   "source": []
  }
 ],
 "metadata": {
  "kernelspec": {
   "display_name": "Python 3",
   "language": "python",
   "name": "python3"
  },
  "language_info": {
   "codemirror_mode": {
    "name": "ipython",
    "version": 3
   },
   "file_extension": ".py",
   "mimetype": "text/x-python",
   "name": "python",
   "nbconvert_exporter": "python",
   "pygments_lexer": "ipython3",
   "version": "3.6.1"
  }
 },
 "nbformat": 4,
 "nbformat_minor": 2
}
