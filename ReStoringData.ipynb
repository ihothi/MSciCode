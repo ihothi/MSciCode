{
 "cells": [
  {
   "cell_type": "code",
   "execution_count": 1,
   "metadata": {
    "collapsed": true
   },
   "outputs": [],
   "source": [
    "import numpy as np\n",
    "from astropy.io import fits\n",
    "import matplotlib\n",
    "import matplotlib.pyplot as plt\n",
    "from sklearn.neural_network import MLPClassifier\n",
    "from sklearn.metrics import classification_report\n",
    "from sklearn.ensemble import RandomForestClassifier\n",
    "from sklearn.preprocessing import StandardScaler\n",
    "import os\n",
    "from ProjectF import MLAData,classification, Object,storing,MLADataBin\n",
    "import random"
   ]
  },
  {
   "cell_type": "code",
   "execution_count": 2,
   "metadata": {},
   "outputs": [
    {
     "name": "stdout",
     "output_type": "stream",
     "text": [
      "Yes\n"
     ]
    }
   ],
   "source": [
    "## Loading in data\n",
    "PlateDir = os.path.normpath(\"D:\\Data\\Plate_Name5.txt\")\n",
    "with open(PlateDir) as f:\n",
    "    Spectra_Files = f.read().splitlines()\n",
    "print('Yes')  \n",
    "PLATEIDs = []\n",
    "BinInfos = []\n",
    "Flux = []\n",
    "MJDs = []\n",
    "log_wavst=[]\n",
    "ORMASK=[]\n",
    "ANDMASK=[]\n",
    "INVAR=[]\n",
    "\n",
    "TrainingDir = os.path.normpath(\"D:\\Data\")\n",
    "slash =  os.path.normpath(\"\\\\\")\n",
    "TrainingFolder =  os.path.normpath(\"\\Training\")\n",
    "slash =  os.path.normpath(\"\\\\\")\n",
    "for spectrum in Spectra_Files:\n",
    "    plate_ = fits.open( TrainingDir +TrainingFolder+slash+ spectrum ,memmap=True)\n",
    "    Bin_info_ = plate_[5].data\n",
    "    Flux_ = plate_[0].data\n",
    "    primhdu_ = plate_[0]\n",
    "    PLATEIDs.append(primhdu_.header['PLATEID'])\n",
    "    ORMASK.append( plate_[3].data)\n",
    "    ANDMASK.append( plate_[2].data)\n",
    "    INVAR.append( plate_[1].data)\n",
    "    log_wavst.append(primhdu_.header['COEFF0'])\n",
    "    MJDs.append(primhdu_.header['MJD'])\n",
    "    BinInfos.append(Bin_info_)\n",
    "    Flux.append(Flux_)"
   ]
  },
  {
   "cell_type": "code",
   "execution_count": 3,
   "metadata": {},
   "outputs": [
    {
     "name": "stdout",
     "output_type": "stream",
     "text": [
      "22\n"
     ]
    }
   ],
   "source": [
    "list = fits.open(TrainingDir+slash+'Superset_DR12Q.fits',memmap=True)#opening file\n",
    "print(len(log_wavst))\n",
    "supers=list[1].data # storing  BINTABLE extension data"
   ]
  },
  {
   "cell_type": "code",
   "execution_count": 4,
   "metadata": {
    "collapsed": true
   },
   "outputs": [],
   "source": [
    "Full_Data = storing(PLATEIDs,supers)"
   ]
  },
  {
   "cell_type": "code",
   "execution_count": 5,
   "metadata": {},
   "outputs": [],
   "source": [
    "X,Y,Train_z, Train_mag,And, In, wavst, ID = MLAData(Full_Data,BinInfos,Flux, log_wavst,ANDMASK,INVAR)"
   ]
  },
  {
   "cell_type": "code",
   "execution_count": 6,
   "metadata": {},
   "outputs": [
    {
     "name": "stdout",
     "output_type": "stream",
     "text": [
      "163\n",
      "163\n",
      "163\n",
      "163\n",
      "163\n",
      "D:\\Data\\4090.fits\n",
      "326\n",
      "326\n",
      "326\n",
      "326\n",
      "326\n",
      "D:\\Data\\3754.fits\n",
      "367\n",
      "367\n",
      "367\n",
      "367\n",
      "367\n",
      "D:\\Data\\3925.fits\n",
      "236\n",
      "236\n",
      "236\n",
      "236\n",
      "236\n",
      "D:\\Data\\4177.fits\n",
      "359\n",
      "359\n",
      "359\n",
      "359\n",
      "359\n",
      "D:\\Data\\3769.fits\n",
      "256\n",
      "256\n",
      "256\n",
      "256\n",
      "256\n",
      "D:\\Data\\3949.fits\n",
      "175\n",
      "175\n",
      "175\n",
      "175\n",
      "175\n",
      "D:\\Data\\4183.fits\n",
      "324\n",
      "324\n",
      "324\n",
      "324\n",
      "324\n",
      "D:\\Data\\3782.fits\n",
      "245\n",
      "245\n",
      "245\n",
      "245\n",
      "245\n",
      "D:\\Data\\3984.fits\n",
      "176\n",
      "176\n",
      "176\n",
      "176\n",
      "176\n",
      "D:\\Data\\4196.fits\n",
      "264\n",
      "264\n",
      "264\n",
      "264\n",
      "264\n",
      "D:\\Data\\3803.fits\n",
      "245\n",
      "245\n",
      "245\n",
      "245\n",
      "245\n",
      "D:\\Data\\4011.fits\n",
      "223\n",
      "223\n",
      "223\n",
      "223\n",
      "223\n",
      "D:\\Data\\4214.fits\n",
      "225\n",
      "225\n",
      "225\n",
      "225\n",
      "225\n",
      "D:\\Data\\3822.fits\n",
      "188\n",
      "188\n",
      "188\n",
      "188\n",
      "188\n",
      "D:\\Data\\4024.fits\n",
      "172\n",
      "172\n",
      "172\n",
      "172\n",
      "172\n",
      "D:\\Data\\4233.fits\n",
      "340\n",
      "340\n",
      "340\n",
      "340\n",
      "340\n",
      "D:\\Data\\3836.fits\n",
      "197\n",
      "197\n",
      "197\n",
      "197\n",
      "197\n",
      "D:\\Data\\4041.fits\n",
      "170\n",
      "170\n",
      "170\n",
      "170\n",
      "170\n",
      "D:\\Data\\4264.fits\n",
      "290\n",
      "290\n",
      "290\n",
      "290\n",
      "290\n",
      "D:\\Data\\3861.fits\n",
      "178\n",
      "178\n",
      "178\n",
      "178\n",
      "178\n",
      "D:\\Data\\4061.fits\n",
      "160\n",
      "160\n",
      "160\n",
      "160\n",
      "160\n",
      "D:\\Data\\4288.fits\n"
     ]
    },
    {
     "data": {
      "text/plain": [
       "<function TextIOWrapper.close>"
      ]
     },
     "execution_count": 6,
     "metadata": {},
     "output_type": "execute_result"
    }
   ],
   "source": [
    "\n",
    "i=0\n",
    "d = open(TrainingDir+slash+\"Full.txt\", 'w')\n",
    "while i <len(PLATEIDs):\n",
    "    C_Plate = PLATEIDs[i]\n",
    "    a1 = X[i] \n",
    "    print(len(a1))\n",
    "    a2 = np.array(Y[i])\n",
    "    print(len(a2))\n",
    "    if len(a1)==0 & len(a2)==0:\n",
    "        i=i+1\n",
    "    else: \n",
    "        a3=And[i]\n",
    "        a4=In[i]\n",
    "        a5 = Train_z[i]\n",
    "        a6=ID[i]\n",
    "        a7 = wavst[i]\n",
    "        print(len(a3))\n",
    "        print(len(a5))\n",
    "        print(len(a6))\n",
    "\n",
    "        col1 = fits.Column(name='Bin_Flux', format='PD()', array=np.array(a1,dtype=np.object))\n",
    "        col2 = fits.Column(name='Class', format='I', array=np.array(a2))\n",
    "        col3 = fits.Column(name='ANDMASK', format='PD()', array=np.array(a3,dtype=np.object))\n",
    "        col4 = fits.Column(name='INVAR', format='PD()', array=np.array(a4,dtype=np.object))\n",
    "        col5 = fits.Column(name='Redshift', format='D', array=np.array(a5))\n",
    "        col6 = fits.Column(name='Name', format='20A', array=np.array(a6))\n",
    "        cols = fits.ColDefs([col1, col2,col3, col4,col5,col6])\n",
    "        tbhdu = fits.BinTableHDU.from_columns(cols)\n",
    "        prihdr = fits.Header()\n",
    "        prihdr['Plate'] = C_Plate\n",
    "        prihdr['LogWav'] = a7\n",
    "        prihdu = fits.PrimaryHDU(header=prihdr)\n",
    "        file_name = TrainingDir+slash+np.str(C_Plate)+'.fits'\n",
    "        thdulist = fits.HDUList([prihdu, tbhdu])\n",
    "        thdulist.writeto(file_name)\n",
    "        print(file_name)\n",
    "        d.writelines(file_name+\"\\n\")\n",
    "        i=i+1\n",
    "d.close\n"
   ]
  },
  {
   "cell_type": "code",
   "execution_count": null,
   "metadata": {
    "collapsed": true
   },
   "outputs": [],
   "source": []
  },
  {
   "cell_type": "code",
   "execution_count": 7,
   "metadata": {},
   "outputs": [
    {
     "data": {
      "text/plain": [
       "<function TextIOWrapper.close>"
      ]
     },
     "execution_count": 7,
     "metadata": {},
     "output_type": "execute_result"
    }
   ],
   "source": [
    "d.close"
   ]
  },
  {
   "cell_type": "code",
   "execution_count": null,
   "metadata": {},
   "outputs": [],
   "source": []
  },
  {
   "cell_type": "code",
   "execution_count": null,
   "metadata": {
    "collapsed": true
   },
   "outputs": [],
   "source": []
  },
  {
   "cell_type": "code",
   "execution_count": null,
   "metadata": {
    "collapsed": true
   },
   "outputs": [],
   "source": [
    "len(a1)"
   ]
  },
  {
   "cell_type": "code",
   "execution_count": null,
   "metadata": {
    "collapsed": true
   },
   "outputs": [],
   "source": []
  }
 ],
 "metadata": {
  "kernelspec": {
   "display_name": "Python 3",
   "language": "python",
   "name": "python3"
  },
  "language_info": {
   "codemirror_mode": {
    "name": "ipython",
    "version": 3
   },
   "file_extension": ".py",
   "mimetype": "text/x-python",
   "name": "python",
   "nbconvert_exporter": "python",
   "pygments_lexer": "ipython3",
   "version": "3.6.1"
  }
 },
 "nbformat": 4,
 "nbformat_minor": 2
}
