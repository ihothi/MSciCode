{
 "cells": [
  {
   "cell_type": "code",
   "execution_count": 1,
   "metadata": {
    "collapsed": true
   },
   "outputs": [],
   "source": [
    "import numpy as np\n",
    "from astropy.io import fits\n",
    "import matplotlib\n",
    "import matplotlib.pyplot as plt\n",
    "from sklearn.neural_network import MLPClassifier\n",
    "from sklearn.metrics import classification_report\n",
    "from sklearn.ensemble import RandomForestClassifier\n",
    "from sklearn.preprocessing import StandardScaler\n",
    "import os\n",
    "from ProjectF import MLAData,classification, Object,storing,Rebin\n",
    "import random"
   ]
  },
  {
   "cell_type": "code",
   "execution_count": 2,
   "metadata": {
    "collapsed": true
   },
   "outputs": [],
   "source": [
    "\n",
    "TrainingDir = os.path.normpath(\"D:\\Data\")\n",
    "slash =  os.path.normpath(\"\\\\\")\n",
    "TrainingFolder =  os.path.normpath(\"\\Training\")"
   ]
  },
  {
   "cell_type": "code",
   "execution_count": 3,
   "metadata": {
    "collapsed": true
   },
   "outputs": [],
   "source": [
    "PlateDir =\"D:\"+slash+\"Data\"+slash+\"Full5.txt\"\n",
    "with open(PlateDir) as f:\n",
    "    Spectra_Files = f.read().splitlines()"
   ]
  },
  {
   "cell_type": "code",
   "execution_count": 4,
   "metadata": {},
   "outputs": [
    {
     "data": {
      "text/plain": [
       "['4090.fits',\n",
       " '5177.fits',\n",
       " '6395.fits',\n",
       " '7380.fits',\n",
       " '4176.fits',\n",
       " '5208.fits',\n",
       " '6407.fits',\n",
       " '7420.fits',\n",
       " '4177.fits',\n",
       " '5300.fits',\n",
       " '6461.fits',\n",
       " '7429.fits',\n",
       " '4183.fits',\n",
       " '5346.fits',\n",
       " '6482.fits',\n",
       " '4196.fits',\n",
       " '5364.fits',\n",
       " '6514.fits',\n",
       " '4205.fits',\n",
       " '5408.fits',\n",
       " '6588.fits',\n",
       " '4214.fits',\n",
       " '5482.fits',\n",
       " '6593.fits']"
      ]
     },
     "execution_count": 4,
     "metadata": {},
     "output_type": "execute_result"
    }
   ],
   "source": [
    "Spectra_Files"
   ]
  },
  {
   "cell_type": "markdown",
   "metadata": {},
   "source": [
    "0 = flux\n",
    "1 = class\n",
    "2 = or\n",
    "3 = and\n",
    "4 = inv\n",
    "5 = red"
   ]
  },
  {
   "cell_type": "code",
   "execution_count": 5,
   "metadata": {},
   "outputs": [],
   "source": [
    "wav_log=[]\n",
    "Full_table = []\n",
    "PLATEIDs = []\n",
    "for spectrum in Spectra_Files:\n",
    "    plate_ = fits.open( TrainingDir+slash+ spectrum ,memmap=True)\n",
    "    primhdu_ = plate_[0]\n",
    "    hdu =  plate_[1].data\n",
    "    Full_table.append(hdu)\n",
    "    PLATEIDs.append(primhdu_.header['Plate'])\n",
    "    wav_log.append(primhdu_.header['LogWav'])"
   ]
  },
  {
   "cell_type": "code",
   "execution_count": 6,
   "metadata": {},
   "outputs": [
    {
     "data": {
      "text/plain": [
       "[4090,\n",
       " 5177,\n",
       " 6395,\n",
       " 7380,\n",
       " 4176,\n",
       " 5208,\n",
       " 6407,\n",
       " 7420,\n",
       " 4177,\n",
       " 5300,\n",
       " 6461,\n",
       " 7429,\n",
       " 4183,\n",
       " 5346,\n",
       " 6482,\n",
       " 4196,\n",
       " 5364,\n",
       " 6514,\n",
       " 4205,\n",
       " 5408,\n",
       " 6588,\n",
       " 4214,\n",
       " 5482,\n",
       " 6593]"
      ]
     },
     "execution_count": 6,
     "metadata": {},
     "output_type": "execute_result"
    }
   ],
   "source": [
    "PLATEIDs"
   ]
  },
  {
   "cell_type": "code",
   "execution_count": 7,
   "metadata": {},
   "outputs": [],
   "source": [
    "p = 0\n",
    "rebin = []\n",
    "weights = []\n",
    "Bin_Size=10\n",
    "while p < len(Full_table):\n",
    "    current_hdu = Full_table[p]\n",
    "    r, w = Rebin(current_hdu, Bin_Size )    \n",
    "    rebin.append(r)\n",
    "    weights.append(w)\n",
    "    p=p+1"
   ]
  },
  {
   "cell_type": "code",
   "execution_count": 8,
   "metadata": {},
   "outputs": [],
   "source": [
    "All_z  = []\n",
    "All_n  = []\n",
    "All_c  = []\n",
    "i = 0\n",
    "while i < len(PLATEIDs):\n",
    "    plate_r  = []\n",
    "    plate_n  = []\n",
    "    plate_c  = []\n",
    "    plate_hdu  = Full_table[i]\n",
    "    obj = 0\n",
    "    while obj <len(plate_hdu):\n",
    "        currentobj = plate_hdu[obj]\n",
    "        Currentplate_z = currentobj[4]\n",
    "        Currentplate_n = currentobj[5]\n",
    "        Currentplate_c= currentobj[1]\n",
    "        plate_r.append(Currentplate_z)\n",
    "        plate_n.append(Currentplate_n)\n",
    "        plate_c.append(Currentplate_c)\n",
    "        obj = obj +1\n",
    "    All_z.append(plate_r)\n",
    "    All_n.append(plate_n)\n",
    "    All_c.append(plate_c)\n",
    "    i = i+1\n",
    "\n"
   ]
  },
  {
   "cell_type": "code",
   "execution_count": 9,
   "metadata": {},
   "outputs": [
    {
     "name": "stdout",
     "output_type": "stream",
     "text": [
      "D:\\Data\\rebin\\4090ReBin.fits\n",
      "D:\\Data\\rebin\\5177ReBin.fits\n",
      "D:\\Data\\rebin\\6395ReBin.fits\n",
      "D:\\Data\\rebin\\7380ReBin.fits\n",
      "D:\\Data\\rebin\\4176ReBin.fits\n",
      "D:\\Data\\rebin\\5208ReBin.fits\n",
      "D:\\Data\\rebin\\6407ReBin.fits\n",
      "D:\\Data\\rebin\\7420ReBin.fits\n",
      "D:\\Data\\rebin\\4177ReBin.fits\n",
      "D:\\Data\\rebin\\5300ReBin.fits\n",
      "D:\\Data\\rebin\\6461ReBin.fits\n",
      "D:\\Data\\rebin\\7429ReBin.fits\n",
      "D:\\Data\\rebin\\4183ReBin.fits\n",
      "D:\\Data\\rebin\\5346ReBin.fits\n",
      "D:\\Data\\rebin\\6482ReBin.fits\n",
      "D:\\Data\\rebin\\4196ReBin.fits\n",
      "D:\\Data\\rebin\\5364ReBin.fits\n",
      "D:\\Data\\rebin\\6514ReBin.fits\n",
      "D:\\Data\\rebin\\4205ReBin.fits\n",
      "D:\\Data\\rebin\\5408ReBin.fits\n",
      "D:\\Data\\rebin\\6588ReBin.fits\n",
      "D:\\Data\\rebin\\4214ReBin.fits\n",
      "D:\\Data\\rebin\\5482ReBin.fits\n",
      "D:\\Data\\rebin\\6593ReBin.fits\n"
     ]
    }
   ],
   "source": [
    "i=0\n",
    "\n",
    "while i <len(PLATEIDs):\n",
    "    C_Plate = PLATEIDs[i]\n",
    "    plate_z  = All_z[i]\n",
    "    plate_n  = All_n[i]\n",
    "    plate_c  = All_c[i]\n",
    "    Current_wav = wav_log[i]\n",
    "    obj=0\n",
    "    col1 = fits.Column(name='Name', format='20A', array=np.array(plate_n))\n",
    "    col2 = fits.Column(name='Rebin_Flux', format='PD()', array=np.array(rebin[i],dtype=np.object))\n",
    "    col3 = fits.Column(name='Class', format='I', array=np.array(plate_c))\n",
    "    col4 = fits.Column(name='Weight', format='PD()', array=np.array(weights[i],dtype=np.object))\n",
    "    col5 = fits.Column(name='Redshift', format='D', array=np.array(plate_z))    \n",
    "    cols = fits.ColDefs([col1, col2,col3, col4,col5])\n",
    "    tbhdu = fits.BinTableHDU.from_columns(cols)\n",
    "    prihdr = fits.Header()\n",
    "    prihdr['Plate'] = C_Plate\n",
    "    prihdr['LogWav'] = Current_wav\n",
    "    prihdu = fits.PrimaryHDU(header=prihdr)\n",
    "    file_name = TrainingDir+slash+\"rebin\"+slash+np.str(C_Plate)+'ReBin.fits'\n",
    "    thdulist = fits.HDUList([prihdu, tbhdu])\n",
    "    thdulist.writeto(file_name)\n",
    "    print(file_name)\n",
    "    i=i+1"
   ]
  },
  {
   "cell_type": "code",
   "execution_count": null,
   "metadata": {
    "collapsed": true
   },
   "outputs": [],
   "source": []
  },
  {
   "cell_type": "code",
   "execution_count": null,
   "metadata": {
    "collapsed": true
   },
   "outputs": [],
   "source": []
  },
  {
   "cell_type": "code",
   "execution_count": null,
   "metadata": {
    "collapsed": true
   },
   "outputs": [],
   "source": []
  }
 ],
 "metadata": {
  "kernelspec": {
   "display_name": "Python 3",
   "language": "python",
   "name": "python3"
  },
  "language_info": {
   "codemirror_mode": {
    "name": "ipython",
    "version": 3
   },
   "file_extension": ".py",
   "mimetype": "text/x-python",
   "name": "python",
   "nbconvert_exporter": "python",
   "pygments_lexer": "ipython3",
   "version": "3.6.1"
  }
 },
 "nbformat": 4,
 "nbformat_minor": 2
}
