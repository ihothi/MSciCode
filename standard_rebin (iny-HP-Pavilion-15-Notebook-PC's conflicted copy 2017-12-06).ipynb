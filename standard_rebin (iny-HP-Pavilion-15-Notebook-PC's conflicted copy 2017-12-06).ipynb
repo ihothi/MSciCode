{
 "cells": [
  {
   "cell_type": "code",
   "execution_count": 1,
   "metadata": {
    "collapsed": true
   },
   "outputs": [],
   "source": [
    "import numpy as np\n",
    "from astropy.io import fits\n",
    "import matplotlib\n",
    "import matplotlib.pyplot as plt\n",
    "from sklearn.neural_network import MLPClassifier\n",
    "from sklearn.metrics import classification_report\n",
    "from sklearn.ensemble import RandomForestClassifier\n",
    "from sklearn.preprocessing import StandardScaler\n",
    "import os\n",
    "from ProjectF import MLAData,classification, Object,storing,Rebin,StandardRebin\n",
    "import random"
   ]
  },
  {
   "cell_type": "code",
   "execution_count": 2,
   "metadata": {
    "collapsed": true
   },
   "outputs": [],
   "source": [
    "TrainingDir = os.path.normpath(\"D:\\Data\")\n",
    "slash =  os.path.normpath(\"\\\\\")\n",
    "TrainingFolder =  os.path.normpath(\"\\Training\")"
   ]
  },
  {
   "cell_type": "code",
   "execution_count": 3,
   "metadata": {},
   "outputs": [
    {
     "ename": "FileNotFoundError",
     "evalue": "[Errno 2] No such file or directory: 'D:\\\\Data\\\\Full.txt'",
     "output_type": "error",
     "traceback": [
      "\u001b[0;31m---------------------------------------------------------------------------\u001b[0m",
      "\u001b[0;31mFileNotFoundError\u001b[0m                         Traceback (most recent call last)",
      "\u001b[0;32m<ipython-input-3-1270b7609713>\u001b[0m in \u001b[0;36m<module>\u001b[0;34m()\u001b[0m\n\u001b[1;32m      1\u001b[0m \u001b[0mPlateDir\u001b[0m \u001b[0;34m=\u001b[0m\u001b[0;34m\"D:\"\u001b[0m\u001b[0;34m+\u001b[0m\u001b[0mslash\u001b[0m\u001b[0;34m+\u001b[0m\u001b[0;34m\"Data\"\u001b[0m\u001b[0;34m+\u001b[0m\u001b[0mslash\u001b[0m\u001b[0;34m+\u001b[0m\u001b[0;34m\"Full.txt\"\u001b[0m\u001b[0;34m\u001b[0m\u001b[0m\n\u001b[0;32m----> 2\u001b[0;31m \u001b[0;32mwith\u001b[0m \u001b[0mopen\u001b[0m\u001b[0;34m(\u001b[0m\u001b[0mPlateDir\u001b[0m\u001b[0;34m)\u001b[0m \u001b[0;32mas\u001b[0m \u001b[0mf\u001b[0m\u001b[0;34m:\u001b[0m\u001b[0;34m\u001b[0m\u001b[0m\n\u001b[0m\u001b[1;32m      3\u001b[0m     \u001b[0mSpectra_Files\u001b[0m \u001b[0;34m=\u001b[0m \u001b[0mf\u001b[0m\u001b[0;34m.\u001b[0m\u001b[0mread\u001b[0m\u001b[0;34m(\u001b[0m\u001b[0;34m)\u001b[0m\u001b[0;34m.\u001b[0m\u001b[0msplitlines\u001b[0m\u001b[0;34m(\u001b[0m\u001b[0;34m)\u001b[0m\u001b[0;34m\u001b[0m\u001b[0m\n",
      "\u001b[0;31mFileNotFoundError\u001b[0m: [Errno 2] No such file or directory: 'D:\\\\Data\\\\Full.txt'"
     ]
    }
   ],
   "source": [
    "PlateDir =\"D:\"+slash+\"Data\"+slash+\"Full.txt\"\n",
    "with open(PlateDir) as f:\n",
    "    Spectra_Files = f.read().splitlines()"
   ]
  },
  {
   "cell_type": "code",
   "execution_count": null,
   "metadata": {
    "collapsed": true
   },
   "outputs": [],
   "source": [
    "wav_log=[]\n",
    "Full_table = []\n",
    "PLATEIDs = []\n",
    "for spectrum in Spectra_Files:\n",
    "    plate_ = fits.open( TrainingDir+slash+spectrum ,memmap=True)\n",
    "    primhdu_ = plate_[0]\n",
    "    hdu =  plate_[1].data\n",
    "    Full_table.append(hdu)\n",
    "    PLATEIDs.append(primhdu_.header['Plate'])\n",
    "    wav_log.append(primhdu_.header['LogWav'])"
   ]
  },
  {
   "cell_type": "code",
   "execution_count": null,
   "metadata": {
    "collapsed": true
   },
   "outputs": [],
   "source": []
  },
  {
   "cell_type": "markdown",
   "metadata": {},
   "source": [
    "From (http://www.sdss.org/dr12/spectro/spectro_basics/) : 'About the Spectra', we  know:\n",
    "\n",
    "\n",
    "<h5><center>log($\\lambda_{i+1}$) - log($\\lambda_{i}$)=0.0001.</center></h5>\n",
    "\n",
    "I will use this, and the first pixels central wavelength, to produce the wavelength array for this plate. This will be done by finding the plate wavelength ratio: \n",
    "\n",
    "<h3><center>$\\frac{\\lambda_{i+1}}{\\lambda_{i}}= 10^{0.0001}$.</center></h3>\n"
   ]
  },
  {
   "cell_type": "code",
   "execution_count": 5,
   "metadata": {
    "collapsed": true
   },
   "outputs": [],
   "source": [
    "wav_ratio = 10**0.0001\n",
    "plate_no = 0\n",
    "all_wav=[]\n",
    "while plate_no < len(Full_table): \n",
    "    append_count=0\n",
    "    cent_wav = 10**wav_log[plate_no]\n",
    "    x = Full_table[plate_no][0][0]\n",
    "    wavelengths = []\n",
    "    wavelengths.append(cent_wav)\n",
    "    current_wav = cent_wav\n",
    "    while append_count < len(x)-1:\n",
    "        current_wav = current_wav*wav_ratio\n",
    "        wavelengths.append(current_wav)\n",
    "        append_count=append_count+1\n",
    "    plate_no=plate_no+1\n",
    "    all_wav.append(wavelengths)\n",
    "   \n",
    "\n",
    "\n"
   ]
  },
  {
   "cell_type": "code",
   "execution_count": 6,
   "metadata": {},
   "outputs": [
    {
     "data": {
      "text/plain": [
       "9"
      ]
     },
     "execution_count": 6,
     "metadata": {},
     "output_type": "execute_result"
    }
   ],
   "source": [
    "len(all_wav)"
   ]
  },
  {
   "cell_type": "markdown",
   "metadata": {},
   "source": [
    "#### We shall use $\\lambda$ = 3600 as the starting wavelenth. thus the bin size n, in wavelengths is n $\\delta \\lambda$  = 0.829n"
   ]
  },
  {
   "cell_type": "code",
   "execution_count": 7,
   "metadata": {
    "collapsed": true,
    "scrolled": true
   },
   "outputs": [],
   "source": [
    "p = 0\n",
    "rebin = []\n",
    "weights = []\n",
    "Bin_Size=10\n",
    "while p < len(Full_table):\n",
    "    current_hdu = Full_table[p]\n",
    "    wavelenth = all_wav[p]\n",
    "    r, w = StandardRebin(current_hdu,wavelenth, Bin_Size )    \n",
    "    rebin.append(r)\n",
    "    weights.append(w)\n",
    "    p=p+1"
   ]
  },
  {
   "cell_type": "code",
   "execution_count": 8,
   "metadata": {
    "collapsed": true
   },
   "outputs": [],
   "source": [
    "All_z  = []\n",
    "All_n  = []\n",
    "All_c  = []\n",
    "i = 0\n",
    "while i < len(PLATEIDs):\n",
    "    plate_r  = []\n",
    "    plate_n  = []\n",
    "    plate_c  = []\n",
    "    plate_hdu  = Full_table[i]\n",
    "    obj = 0\n",
    "    while obj <len(plate_hdu):\n",
    "        currentobj = plate_hdu[obj]\n",
    "        Currentplate_z = currentobj[4]\n",
    "        Currentplate_n = currentobj[5]\n",
    "        Currentplate_c= currentobj[1]\n",
    "        plate_r.append(Currentplate_z)\n",
    "        plate_n.append(Currentplate_n)\n",
    "        plate_c.append(Currentplate_c)\n",
    "        obj = obj +1\n",
    "    All_z.append(plate_r)\n",
    "    All_n.append(plate_n)\n",
    "    All_c.append(plate_c)\n",
    "    i = i+1\n",
    "\n"
   ]
  },
  {
   "cell_type": "code",
   "execution_count": 9,
   "metadata": {},
   "outputs": [
    {
     "name": "stdout",
     "output_type": "stream",
     "text": [
      "D:\\Data\\rebintrain\\4791StandardReBin10.fits\n",
      "D:\\Data\\rebintrain\\6970StandardReBin10.fits\n",
      "D:\\Data\\rebintrain\\5852StandardReBin10.fits\n",
      "D:\\Data\\rebintrain\\5484StandardReBin10.fits\n",
      "D:\\Data\\rebintrain\\6290StandardReBin10.fits\n",
      "D:\\Data\\rebintrain\\6122StandardReBin10.fits\n",
      "D:\\Data\\rebintrain\\6424StandardReBin10.fits\n",
      "D:\\Data\\rebintrain\\6723StandardReBin10.fits\n",
      "D:\\Data\\rebintrain\\6880StandardReBin10.fits\n"
     ]
    }
   ],
   "source": [
    "i=0\n",
    "\n",
    "while i <len(PLATEIDs):\n",
    "    C_Plate = PLATEIDs[i]\n",
    "    plate_z  = All_z[i]\n",
    "    plate_n  = All_n[i]\n",
    "    plate_c  = All_c[i]\n",
    "    Current_wav = wav_log[i]\n",
    "    obj=0\n",
    "    col1 = fits.Column(name='Name', format='20A', array=np.array(plate_n))\n",
    "    col2 = fits.Column(name='Rebin_Flux', format='PD()', array=np.array(rebin[i],dtype=np.object))\n",
    "    col3 = fits.Column(name='Class', format='I', array=np.array(plate_c))\n",
    "    col4 = fits.Column(name='Weight', format='PD()', array=np.array(weights[i],dtype=np.object))\n",
    "    col5 = fits.Column(name='Redshift', format='D', array=np.array(plate_z))    \n",
    "    cols = fits.ColDefs([col1, col2,col3, col4,col5])\n",
    "    tbhdu = fits.BinTableHDU.from_columns(cols)\n",
    "    prihdr = fits.Header()\n",
    "    prihdr['Plate'] = C_Plate\n",
    "    prihdr['LogWav'] = Current_wav\n",
    "    prihdu = fits.PrimaryHDU(header=prihdr)\n",
    "    file_name = TrainingDir+slash+\"rebintrain\"+slash+np.str(C_Plate)+'StandardReBin'+np.str(Bin_Size)+'.fits'\n",
    "    thdulist = fits.HDUList([prihdu, tbhdu])\n",
    "    thdulist.writeto(file_name)\n",
    "    print(file_name)\n",
    "    i=i+1"
   ]
  },
  {
   "cell_type": "code",
   "execution_count": null,
   "metadata": {
    "collapsed": true
   },
   "outputs": [],
   "source": []
  }
 ],
 "metadata": {
  "kernelspec": {
   "display_name": "Python 3",
   "language": "python",
   "name": "python3"
  },
  "language_info": {
   "codemirror_mode": {
    "name": "ipython",
    "version": 3
   },
   "file_extension": ".py",
   "mimetype": "text/x-python",
   "name": "python",
   "nbconvert_exporter": "python",
   "pygments_lexer": "ipython3",
   "version": "3.6.3"
  }
 },
 "nbformat": 4,
 "nbformat_minor": 2
}
