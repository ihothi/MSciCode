{
 "cells": [
  {
   "cell_type": "markdown",
   "metadata": {},
   "source": [
    "# Spectra Plots\n",
    "By Iandeep Singh Hothi"
   ]
  },
  {
   "cell_type": "markdown",
   "metadata": {},
   "source": [
    "Plate: 4564\n",
    "\n",
    "MJD: 55570\n",
    "\n",
    "Date: 09-01-2011 (DD-MM-YYYY)"
   ]
  },
  {
   "cell_type": "code",
   "execution_count": 1,
   "metadata": {
    "collapsed": true
   },
   "outputs": [],
   "source": [
    "import numpy as np\n",
    "from astropy.io import fits\n",
    "import matplotlib\n",
    "import matplotlib.pyplot as plt \n",
    "import random"
   ]
  },
  {
   "cell_type": "code",
   "execution_count": 2,
   "metadata": {
    "collapsed": true
   },
   "outputs": [],
   "source": [
    "class Spectra: \n",
    "    def __init__():[]\n",
    "   \n",
    "    def __init__(self, HDU0 ):\n",
    "        self.HDU0\n"
   ]
  },
  {
   "cell_type": "code",
   "execution_count": 3,
   "metadata": {
    "collapsed": true
   },
   "outputs": [],
   "source": [
    "list = fits.open('spPlate-4564-55570.fits',memmap=True)#opening file\n"
   ]
  },
  {
   "cell_type": "code",
   "execution_count": 4,
   "metadata": {},
   "outputs": [
    {
     "name": "stdout",
     "output_type": "stream",
     "text": [
      "Filename: spPlate-4564-55570.fits\n",
      "No.    Name         Type      Cards   Dimensions   Format\n",
      "  0  PRIMARY     PrimaryHDU     212   (4658, 1000)   float32   \n",
      "  1  IVAR        ImageHDU        16   (4658, 1000)   float32   \n",
      "  2  ANDMASK     ImageHDU        15   (4658, 1000)   int32   \n",
      "  3  ORMASK      ImageHDU        15   (4658, 1000)   int32   \n",
      "  4  WAVEDISP    ImageHDU        16   (4658, 1000)   float32   \n",
      "  5  PLUGMAP     BinTableHDU     88   1000R x 35C   [5J, 6A, D, D, 5E, E, E, E, 16A, D, D, J, J, J, J, J, J, E, 15A, E, E, J, K, K, K, K, J, 5A, J, J, J, 5E, 5E, 5J, E]   \n",
      "  6  SKY         ImageHDU         8   (4658, 1000)   float32   \n"
     ]
    }
   ],
   "source": [
    "list.info()"
   ]
  },
  {
   "cell_type": "markdown",
   "metadata": {},
   "source": [
    "Okay, here's how i think it works. A single object has corresponding data in each of the above. Primary HDU will contain the flux data, BinTableHDU has info on the object. \n",
    "\n",
    "So, the task now is to use the RA and Dec from the previous 'redshift' code to identify quasars, stars and galaxies and produce plots. Do a few quasar plots"
   ]
  },
  {
   "cell_type": "code",
   "execution_count": 5,
   "metadata": {},
   "outputs": [
    {
     "data": {
      "text/plain": [
       "3556.3131856898544"
      ]
     },
     "execution_count": 5,
     "metadata": {},
     "output_type": "execute_result"
    }
   ],
   "source": [
    "primhdu = list[0]\n",
    "wav_log = primhdu.header['COEFF0']\n",
    "cent_wav = 10**wav_log\n",
    "cent_wav"
   ]
  },
  {
   "cell_type": "markdown",
   "metadata": {},
   "source": [
    "From (http://www.sdss.org/dr12/spectro/spectro_basics/) : 'About the Spectra', we  know:\n",
    "\n",
    "\n",
    "<h5><center>log($\\lambda_{i+1}$) - log($\\lambda_{i}$)=0.0001.</center></h5>\n",
    "\n",
    "I will use this, and the first pixels central wavelength, to produce the wavelength array for this plate. This will be done by finding the plate wavelength ratio: \n",
    "\n",
    "<h3><center>$\\frac{\\lambda_{i+1}}{\\lambda_{i}}= 10^{0.0001}$.</center></h3>\n"
   ]
  },
  {
   "cell_type": "code",
   "execution_count": 6,
   "metadata": {
    "collapsed": true
   },
   "outputs": [],
   "source": [
    "wav_ratio = 10**0.0001"
   ]
  },
  {
   "cell_type": "code",
   "execution_count": 7,
   "metadata": {
    "collapsed": true
   },
   "outputs": [],
   "source": [
    "array_elements = primhdu.data[1].size -1\n",
    "append_count = 0\n",
    "wavelengths = []\n",
    "wavelengths.append(cent_wav)\n",
    "current_wav = cent_wav"
   ]
  },
  {
   "cell_type": "code",
   "execution_count": 8,
   "metadata": {
    "collapsed": true
   },
   "outputs": [],
   "source": [
    "while append_count < array_elements:\n",
    "    current_wav = current_wav*wav_ratio\n",
    "    wavelengths.append(current_wav)\n",
    "    append_count=append_count+1"
   ]
  },
  {
   "cell_type": "code",
   "execution_count": 9,
   "metadata": {
    "collapsed": true
   },
   "outputs": [],
   "source": [
    "flux_data = list[0].data\n"
   ]
  },
  {
   "cell_type": "code",
   "execution_count": 10,
   "metadata": {
    "collapsed": true
   },
   "outputs": [],
   "source": [
    "trial_object = flux_data[0].data\n"
   ]
  },
  {
   "cell_type": "code",
   "execution_count": 16,
   "metadata": {},
   "outputs": [
    {
     "data": {
      "text/plain": [
       "1000"
      ]
     },
     "execution_count": 16,
     "metadata": {},
     "output_type": "execute_result"
    }
   ],
   "source": [
    "Bin_info = list[5].data\n",
    "Bin_info.size"
   ]
  },
  {
   "cell_type": "code",
   "execution_count": 12,
   "metadata": {},
   "outputs": [
    {
     "data": {
      "image/png": "[encoded data removed]",
      "text/plain": [
       "<matplotlib.figure.Figure at 0x14a6d4d4ba8>"
      ]
     },
     "metadata": {},
     "output_type": "display_data"
    }
   ],
   "source": [
    "plt.plot(wavelengths,trial_object)\n",
    "plt.ylabel('Flux [$10^{-17}$ $erg/s/cm^2/$'r'$\\AA$'']')\n",
    "plt.xlabel('Wavelength' r' $\\AA$')\n",
    "plt.title('Plate 4564 trial plot')\n",
    "plt.show()"
   ]
  },
  {
   "cell_type": "markdown",
   "metadata": {},
   "source": [
    "# Classes:\n",
    "\n",
    "Not Insepcted = 0\n",
    "\n",
    "star = 1 \n",
    "\n",
    "quasar =3\n",
    "\n",
    "galaxy=4\n",
    "\n",
    "bal=30"
   ]
  },
  {
   "cell_type": "code",
   "execution_count": 13,
   "metadata": {
    "collapsed": true
   },
   "outputs": [],
   "source": [
    "class Object:\n",
    "    \n",
    "    def __init__():[]\n",
    "   \n",
    "    def __init__(self, SDSS_NAME, R, D, PSFFLUX, PSFMAG, Z_VI, CLASS_P, p, mjd, fid):\n",
    "        #leaving out redshift for now\n",
    "        R = round(R,2)\n",
    "        D =  round(D,2)\n",
    "        self.name = SDSS_NAME\n",
    "        self.RA = R\n",
    "        self.Dec = D\n",
    "        self.flux = PSFFLUX\n",
    "        self.Mag = PSFMAG\n",
    "        self.z = Z_VI\n",
    "        self.Class_p = CLASS_P\n",
    "        self.Plate = p\n",
    "        self.MJD = mjd\n",
    "        self.FiberID = fid"
   ]
  },
  {
   "cell_type": "code",
   "execution_count": null,
   "metadata": {
    "collapsed": true
   },
   "outputs": [],
   "source": []
  },
  {
   "cell_type": "markdown",
   "metadata": {},
   "source": [
    "# For Plate 4564 only"
   ]
  },
  {
   "cell_type": "code",
   "execution_count": null,
   "metadata": {
    "collapsed": true
   },
   "outputs": [],
   "source": [
    "list1 = fits.open('Superset_DR12Q.fits',memmap=True)#opening file\n",
    "super=list1[1].data # storing  BINTABLE extension data\n",
    "CurrentObject = 0\n",
    "Use2=[]\n",
    "while CurrentObject < len(super):\n",
    "    Current = super[CurrentObject]\n",
    "    ##TO MAKE SURE WE ONLY GET DATA FROM RELEVANT PLATE###\n",
    "    if Current['PLATE'] == 4564:\n",
    "        \n",
    "        Object2 = Object(Current['SDSS_NAME'], Current['RA'], Current['Dec'], Current['PSFFLUX'],\n",
    "                         Current['PSFMAG'], Current['Z_VI'], Current['CLASS_PERSON'],\n",
    "                         Current['PLATE'] , Current['MJD'], Current['FIBERID'])\n",
    "        Use2.append(Object2)\n",
    "    CurrentObject=CurrentObject+1"
   ]
  },
  {
   "cell_type": "code",
   "execution_count": null,
   "metadata": {},
   "outputs": [],
   "source": [
    "super.shape"
   ]
  },
  {
   "cell_type": "markdown",
   "metadata": {},
   "source": [
    "### Quasar plots:\n"
   ]
  },
  {
   "cell_type": "code",
   "execution_count": null,
   "metadata": {
    "scrolled": true
   },
   "outputs": [],
   "source": [
    "### we are going to randomise selection of a class### \n",
    "not_quasar = True\n",
    "current_quasar = Use2[0]\n",
    "while not_quasar:\n",
    "    pot_quasar = random.choice(Use2)\n",
    "    if (pot_quasar.Class_p == 3):\n",
    "        not_quasar = False\n",
    "        current_quasar = pot_quasar\n",
    "        print(current_quasar.name)\n",
    "        print(current_quasar.Plate)\n",
    "        print(current_quasar.FiberID)\n",
    "        print(current_quasar.MJD)\n",
    "    "
   ]
  },
  {
   "cell_type": "code",
   "execution_count": null,
   "metadata": {},
   "outputs": [],
   "source": [
    "##The Bin table contains information about each object on the plate \n",
    "Bin_info = list[5].data\n",
    "## Dummy object to initialise\n",
    "plate_quasar = Bin_info[5]\n",
    "print(current_quasar.RA)\n",
    "print(current_quasar.Dec)\n",
    "mjd_quasar = current_quasar.MJD\n",
    "fiberid_quasar = current_quasar.FiberID\n",
    "print(mjd_quasar)"
   ]
  },
  {
   "cell_type": "code",
   "execution_count": null,
   "metadata": {
    "collapsed": true
   },
   "outputs": [],
   "source": []
  },
  {
   "cell_type": "code",
   "execution_count": null,
   "metadata": {
    "collapsed": true
   },
   "outputs": [],
   "source": [
    "no_match = True\n",
    "element=0\n",
    "while no_match:\n",
    "    plate_quasar = Bin_info[element]\n",
    "    #current_RA = round(plate_quasar['RA'],2)\n",
    "    #Current_Dec = round(plate_quasar['Dec'],2)\n",
    "    #if (current_RA == current_quasar.RA) &   (Current_Dec == current_quasar.Dec):\n",
    "    if fiberid_quasar == plate_quasar['FiberID']:    \n",
    "        no_match = False\n",
    "    else:\n",
    "        element=element+1"
   ]
  },
  {
   "cell_type": "code",
   "execution_count": null,
   "metadata": {},
   "outputs": [],
   "source": [
    "plot_quasar = flux_data[element].data\n",
    "plt.plot(wavelengths,plot_quasar)\n",
    "plt.ylabel('Flux [$10^{-17}$ $erg/s/cm^2/$'r'$\\AA$'']')\n",
    "plt.xlabel('Wavelength' r' $\\AA$')\n",
    "plt.title('Quasar Spectrum for Plate 4564')\n",
    "plt.show()\n",
    "print(element)"
   ]
  },
  {
   "cell_type": "markdown",
   "metadata": {
    "collapsed": true
   },
   "source": [
    "889, 713 are good quasar examples"
   ]
  },
  {
   "cell_type": "markdown",
   "metadata": {
    "collapsed": true
   },
   "source": [
    "### Galaxy plots\n"
   ]
  },
  {
   "cell_type": "code",
   "execution_count": null,
   "metadata": {},
   "outputs": [],
   "source": [
    "### we are going to randomise selection ### \n",
    "not_gal = True\n",
    "current_gal = Use2[0]\n",
    "while not_gal:\n",
    "    pot_gal = random.choice(Use2)\n",
    "    if (pot_gal.Class_p == 4):\n",
    "        not_gal = False\n",
    "        current_gal = pot_gal\n",
    "        print(current_gal.name)\n",
    "        print(current_gal.Plate)\n",
    "    "
   ]
  },
  {
   "cell_type": "code",
   "execution_count": null,
   "metadata": {},
   "outputs": [],
   "source": [
    "Bin_info = list[5].data\n",
    "plate_gal = Bin_info[5]\n",
    "print(current_gal.RA)\n",
    "print(current_gal.Dec)"
   ]
  },
  {
   "cell_type": "code",
   "execution_count": null,
   "metadata": {
    "collapsed": true
   },
   "outputs": [],
   "source": [
    "no_match = True\n",
    "element=0\n",
    "while no_match:\n",
    "    plate_gal = Bin_info[element]\n",
    "    current_RA = round(plate_gal['RA'],2)\n",
    "    Current_Dec = round(plate_gal['Dec'],2)\n",
    "    if (current_RA == current_gal.RA) &   (Current_Dec == current_gal.Dec):\n",
    "        \n",
    "        no_match = False\n",
    "    else:\n",
    "        element=element+1"
   ]
  },
  {
   "cell_type": "code",
   "execution_count": null,
   "metadata": {},
   "outputs": [],
   "source": [
    "plot_gal= flux_data[element].data\n",
    "plt.plot(wavelengths,plot_gal)\n",
    "plt.ylabel('Flux [$10^{-17}$ $erg/s/cm^2/$'r'$\\AA$'']')\n",
    "plt.xlabel('Wavelength' r' $\\AA$')\n",
    "plt.title('Galaxy Spectrum for Plate 4564')\n",
    "print(element)\n",
    "plt.show()"
   ]
  },
  {
   "cell_type": "code",
   "execution_count": null,
   "metadata": {
    "collapsed": true
   },
   "outputs": [],
   "source": []
  },
  {
   "cell_type": "markdown",
   "metadata": {},
   "source": [
    "### Star plot"
   ]
  },
  {
   "cell_type": "code",
   "execution_count": null,
   "metadata": {},
   "outputs": [],
   "source": [
    "### we are going to randomise selection ### \n",
    "not_star = True\n",
    "current_star = Use2[0]\n",
    "while not_star:\n",
    "    pot_star = random.choice(Use2)\n",
    "    if (pot_star.Class_p == 1):\n",
    "        not_star = False\n",
    "        current_star = pot_star\n",
    "        print(current_star.name)\n",
    "        print(current_star.Plate)\n",
    "    "
   ]
  },
  {
   "cell_type": "code",
   "execution_count": null,
   "metadata": {},
   "outputs": [],
   "source": [
    "Bin_info = list[5].data\n",
    "plate_star = Bin_info[5]\n",
    "print(current_star.RA)\n",
    "print(current_star.Dec)"
   ]
  },
  {
   "cell_type": "code",
   "execution_count": null,
   "metadata": {
    "collapsed": true
   },
   "outputs": [],
   "source": [
    "no_match = True\n",
    "element=0\n",
    "while no_match:\n",
    "    plate_star = Bin_info[element]\n",
    "    current_RA = round(plate_star['RA'],2)\n",
    "    Current_Dec = round(plate_star['Dec'],2)\n",
    "    if (current_RA == current_star.RA) &   (Current_Dec == current_star.Dec):\n",
    "        \n",
    "        no_match = False\n",
    "    else:\n",
    "        element=element+1"
   ]
  },
  {
   "cell_type": "code",
   "execution_count": null,
   "metadata": {},
   "outputs": [],
   "source": [
    "plot_star= flux_data[element].data\n",
    "plt.plot(wavelengths,plot_star)\n",
    "plt.ylabel('Flux [$10^{-17}$ $erg/s/cm^2/$'r'$\\AA$'']')\n",
    "plt.xlabel('Wavelength' r' $\\AA$')\n",
    "plt.title('Star Spectrum for Plate 4564')\n",
    "print(element)\n",
    "plt.show()"
   ]
  },
  {
   "cell_type": "code",
   "execution_count": null,
   "metadata": {
    "collapsed": true
   },
   "outputs": [],
   "source": []
  },
  {
   "cell_type": "code",
   "execution_count": null,
   "metadata": {
    "collapsed": true
   },
   "outputs": [],
   "source": []
  }
 ],
 "metadata": {
  "kernelspec": {
   "display_name": "Python 3",
   "language": "python",
   "name": "python3"
  },
  "language_info": {
   "codemirror_mode": {
    "name": "ipython",
    "version": 3
   },
   "file_extension": ".py",
   "mimetype": "text/x-python",
   "name": "python",
   "nbconvert_exporter": "python",
   "pygments_lexer": "ipython3",
   "version": "3.6.1"
  }
 },
 "nbformat": 4,
 "nbformat_minor": 2
}
