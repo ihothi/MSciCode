{
 "cells": [
  {
   "cell_type": "code",
   "execution_count": null,
   "metadata": {
    "collapsed": true
   },
   "outputs": [],
   "source": [
    "import numpy as np\n",
    "from astropy.io import fits\n",
    "import matplotlib\n",
    "import matplotlib.pyplot as plt\n",
    "from sklearn.neural_network import MLPClassifier\n",
    "from sklearn.metrics import classification_report\n",
    "from sklearn.ensemble import RandomForestClassifier\n",
    "from sklearn.preprocessing import StandardScaler\n",
    "import os\n",
    "from ProjectF import MLAData,classification, Object,storing\n",
    "import random"
   ]
  },
  {
   "cell_type": "code",
   "execution_count": null,
   "metadata": {},
   "outputs": [],
   "source": [
    "TrainPlateDir = os.path.normpath(\"D:\\Data\\Plate_Name.txt\")\n",
    "with open(TrainPlateDir) as f:\n",
    "    Spectra_Files = f.read().splitlines()\n",
    "Spectra_Files"
   ]
  },
  {
   "cell_type": "code",
   "execution_count": null,
   "metadata": {
    "collapsed": true
   },
   "outputs": [],
   "source": [
    "PLATEIDs = []\n",
    "BinInfos = []\n",
    "Flux = []\n",
    "MJDs = []\n",
    "log_wavst=[]\n",
    "TrainingDir = os.path.normpath(\"D:\\Data\")\n",
    "TrainingFolder =  os.path.normpath(\"\\Training\")\n",
    "slash =  os.path.normpath(\"\\\\\")\n",
    "for spectrum in Spectra_Files:\n",
    "    plate_ = fits.open( TrainingDir +TrainingFolder+slash+ spectrum ,memmap=True)\n",
    "    Bin_info_ = plate_[5].data\n",
    "    Flux_ = plate_[0].data\n",
    "    primhdu_ = plate_[0]\n",
    "    PLATEIDs.append(primhdu_.header['PLATEID'])\n",
    "    log_wavst.append(primhdu_.header['COEFF0'])\n",
    "    MJDs.append(primhdu_.header['MJD'])\n",
    "    BinInfos.append(Bin_info_)\n",
    "    Flux.append(Flux_)\n",
    "    "
   ]
  },
  {
   "cell_type": "code",
   "execution_count": null,
   "metadata": {
    "collapsed": true
   },
   "outputs": [],
   "source": [
    "list = fits.open(TrainingDir+slash+'Superset_DR12Q.fits',memmap=True)#opening file\n",
    "\n",
    "supers=list[1].data # storing  BINTABLE extension data"
   ]
  },
  {
   "cell_type": "code",
   "execution_count": null,
   "metadata": {
    "collapsed": true
   },
   "outputs": [],
   "source": [
    "Full_Data = storing(PLATEIDs,supers)"
   ]
  },
  {
   "cell_type": "code",
   "execution_count": null,
   "metadata": {
    "collapsed": true
   },
   "outputs": [],
   "source": [
    "len(BinInfos)"
   ]
  },
  {
   "cell_type": "code",
   "execution_count": null,
   "metadata": {
    "collapsed": true
   },
   "outputs": [],
   "source": [
    "X,Y,Train_z, Train_mag,wavst = MLAData(Full_Data,BinInfos,Flux, log_wavst)"
   ]
  },
  {
   "cell_type": "code",
   "execution_count": null,
   "metadata": {
    "collapsed": true
   },
   "outputs": [],
   "source": [
    "TestPlateDir = os.path.normpath(\"D:\\Data\\TestPlate_Name.txt\")\n",
    "with open(TestPlateDir) as f:\n",
    "    Spectra_TestFiles = f.read().splitlines()\n",
    "Spectra_TestFiles"
   ]
  },
  {
   "cell_type": "code",
   "execution_count": null,
   "metadata": {
    "collapsed": true
   },
   "outputs": [],
   "source": [
    "TrainingDir = os.path.normpath(\"D:\\Data\")\n",
    "TestingFolder =  os.path.normpath(\"\\Test\")\n",
    "PLATEIDs_test = []\n",
    "log_wavs=[]\n",
    "BinInfos_test = []\n",
    "Flux_test = []\n",
    "z=0\n",
    "for spectrum_test in Spectra_TestFiles:\n",
    "    plate_test = fits.open(TrainingDir +TestingFolder+slash+spectrum_test ,memmap=True)\n",
    "    Bin_info_test = plate_test[5].data\n",
    "    Flux_t = plate_test[0].data\n",
    "    primhdu_test = plate_test[0]\n",
    "    PLATEIDs_test.append(primhdu_test.header['PLATEID'])\n",
    "    log_wavs.append(primhdu_test.header['COEFF0'])\n",
    "    BinInfos_test.append(Bin_info_test)\n",
    "    Flux_test.append(Flux_t)\n"
   ]
  },
  {
   "cell_type": "code",
   "execution_count": null,
   "metadata": {
    "collapsed": true
   },
   "outputs": [],
   "source": [
    "Full_Data_test = storing(PLATEIDs_test,supers)"
   ]
  },
  {
   "cell_type": "code",
   "execution_count": null,
   "metadata": {
    "collapsed": true
   },
   "outputs": [],
   "source": [
    "X_test,Y_test,All_redshifts,All_Mag,wav_logs= MLAData(Full_Data_test,BinInfos_test,Flux_test,log_wavs)"
   ]
  },
  {
   "cell_type": "markdown",
   "metadata": {},
   "source": [
    "Solvers: ‘lbfgs’ is an optimizer in the family of quasi-Newton methods. ‘sgd’ refers to stochastic gradient descent. ‘adam’ refers to a stochastic gradient-based optimizer proposed by Kingma, Diederik, and Jimmy Ba"
   ]
  },
  {
   "cell_type": "code",
   "execution_count": null,
   "metadata": {
    "collapsed": true
   },
   "outputs": [],
   "source": [
    "hiddenlayer_format = (13)\n",
    "backprop_method = 'lbfgs'\n",
    "lr=0.00001\n",
    "act =  'tanh' #'logistic'\n",
    "mlp = MLPClassifier(hidden_layer_sizes=hiddenlayer_format,max_iter=500, solver = backprop_method,learning_rate_init=lr,activation=act) ##Think About"
   ]
  },
  {
   "cell_type": "code",
   "execution_count": null,
   "metadata": {
    "collapsed": true
   },
   "outputs": [],
   "source": [
    "scaler = StandardScaler()  \n",
    "scaler.fit(X)  \n",
    "X = scaler.transform(X)  \n",
    "X_test = scaler.transform(X_test)  \n",
    "\n",
    "mlp.fit(X,Y)"
   ]
  },
  {
   "cell_type": "code",
   "execution_count": null,
   "metadata": {
    "collapsed": true
   },
   "outputs": [],
   "source": [
    "predictions = mlp.predict(np.array(X_test))"
   ]
  },
  {
   "cell_type": "code",
   "execution_count": null,
   "metadata": {
    "collapsed": true
   },
   "outputs": [],
   "source": [
    "print(classification_report(Y_test,predictions))"
   ]
  },
  {
   "cell_type": "code",
   "execution_count": null,
   "metadata": {
    "collapsed": true
   },
   "outputs": [],
   "source": [
    "star,star_starloc,star_lowzloc,star_galloc,star_highzloc = classification(1,Y_test,predictions) \n",
    "lowz,lowz_starloc,lowz_loc,lowz_galloc,lowz_highzloc = classification(3,Y_test,predictions)\n",
    "gal,gal_starloc,gal_lowzloc,gal_galloc,gal_highzloc = classification(4,Y_test,predictions)\n",
    "highz,highz_starloc,highz_lowzloc,highz_galloc,highz_highzloc = classification(30,Y_test,predictions)"
   ]
  },
  {
   "cell_type": "code",
   "execution_count": null,
   "metadata": {
    "collapsed": true
   },
   "outputs": [],
   "source": [
    "File_Name = input(\"Please Enter File name: \")"
   ]
  },
  {
   "cell_type": "code",
   "execution_count": null,
   "metadata": {
    "collapsed": true
   },
   "outputs": [],
   "source": [
    "d = open(TrainingDir+slash+File_Name+\".txt\", 'w')"
   ]
  },
  {
   "cell_type": "code",
   "execution_count": null,
   "metadata": {
    "collapsed": true
   },
   "outputs": [],
   "source": [
    "t1=[\"Files used to train: \",np.str(Spectra_Files), \"\\n\"]\n",
    "sp= \"\\n\"\n",
    "t2 = [\"Files used to test: \",np.str(Spectra_TestFiles), \"\\n\"]\n",
    "t3 = [\"Number of training objects = \",np.str(len(Spectra_Files)), \"\\n\"]\n",
    "t4 = [\"Number of testing objects = \",np.str(len(Spectra_TestFiles)), \"\\n\"]\n",
    "n1 = [\"Structure of neural network: \", np.str(hiddenlayer_format),\"\\n\"]\n",
    "n2  = [\"Backpropagation method used: \",np.str(backprop_method), \"\\n\"]\n",
    "n3  = [\"Learning rate: \",np.str(lr), \"\\n\"]\n",
    "n4  = [\"Activation Function: \",np.str(act), \"\\n\"]\n",
    "r1 = [\"Results of Neural Network: \", \"\\n\",\"\\n\"]\n",
    "r2=[\"        \",\"       Star    Quasar  Galaxy  BAL \",\"\\n\",]\n",
    "r3=\"Star           \",np.str(np.round(star[0]*100,2)),\"%  \", np.str(np.round(star[1]*100,2)),\"%  \",np.str(np.round(star[2]*100,2)),\"%  \",np.str(np.round(star[3]*100,2)),\"%\",\"\\n\"\n",
    "r4=\"Quasar z<2.1   \",np.str(np.round( lowz[0]*100,2)),\"%  \", np.str(np.round( lowz[1]*100,2)),\"%  \",np.str(np.round( lowz[2]*100,2)),\"%  \",np.str(np.round( lowz[3]*100,2)),\"%\",\"\\n\"\n",
    "r5=\"Galaxy         \",np.str(np.round( gal[0]*100,2)),\"%  \", np.str(np.round( gal[1]*100,2)),\"%  \",np.str(np.round( gal[2]*100,2)),\"%  \",np.str(np.round( gal[3]*100,2)),\"%\",\"\\n\"\n",
    "r6=\"Quasar z<2.1   \",np.str(np.round( highz[0]*100,2)),\"%  \", np.str(np.round( highz[1]*100,2)),\"%  \",np.str(np.round( highz[2]*100,2)),\"%  \",np.str(np.round (highz[3]*100,2)),\"%\",\"\\n\""
   ]
  },
  {
   "cell_type": "code",
   "execution_count": null,
   "metadata": {
    "collapsed": true
   },
   "outputs": [],
   "source": [
    "d.writelines(t1)\n",
    "d.writelines(sp)\n",
    "d.writelines(t2)\n",
    "d.writelines(sp)\n",
    "d.writelines(t3)\n",
    "d.writelines(t4)\n",
    "d.writelines(sp)\n",
    "d.writelines(sp)\n",
    "d.writelines(n1)\n",
    "d.writelines(n2)\n",
    "d.writelines(n3)\n",
    "d.writelines(n4)\n",
    "d.writelines(sp)\n",
    "d.writelines(sp)\n",
    "d.writelines(r1)\n",
    "d.writelines(r2)\n",
    "d.writelines(r3)\n",
    "d.writelines(r4)\n",
    "d.writelines(r5)\n",
    "d.writelines(r6)\n"
   ]
  },
  {
   "cell_type": "code",
   "execution_count": null,
   "metadata": {
    "collapsed": true
   },
   "outputs": [],
   "source": [
    "list.close()"
   ]
  },
  {
   "cell_type": "code",
   "execution_count": null,
   "metadata": {
    "collapsed": true
   },
   "outputs": [],
   "source": [
    "d.close()"
   ]
  },
  {
   "cell_type": "code",
   "execution_count": null,
   "metadata": {
    "collapsed": true
   },
   "outputs": [],
   "source": [
    "misclass_highz1= random.choice(highz_starloc)\n",
    "misclass_highz2= random.choice(highz_galloc)\n",
    "misclass_star= random.choice(star_highzloc)\n",
    "misclass_gal= random.choice(gal_highzloc)"
   ]
  },
  {
   "cell_type": "markdown",
   "metadata": {},
   "source": [
    "From (http://www.sdss.org/dr12/spectro/spectro_basics/) : 'About the Spectra', we  know:\n",
    "\n",
    "\n",
    "<h5><center>log($\\lambda_{i+1}$) - log($\\lambda_{i}$)=0.0001.</center></h5>\n",
    "\n",
    "I will use this, and the first pixels central wavelength, to produce the wavelength array for this plate. This will be done by finding the plate wavelength ratio: \n",
    "\n",
    "<h3><center>$\\frac{\\lambda_{i+1}}{\\lambda_{i}}= 10^{0.0001}$.</center></h3>\n"
   ]
  },
  {
   "cell_type": "code",
   "execution_count": null,
   "metadata": {
    "collapsed": true
   },
   "outputs": [],
   "source": [
    "wav_ratio = 10**0.0001\n",
    "append_count=0\n",
    "cent_wav = 10**wav_logs[misclass_highz1]\n",
    "Y_flux = X_test[misclass_highz1]\n",
    "wavelengths = []\n",
    "wavelengths.append(cent_wav)\n",
    "current_wav = cent_wav\n",
    "while append_count < len(Y_flux)-1:\n",
    "    current_wav = current_wav*wav_ratio\n",
    "    wavelengths.append(current_wav)\n",
    "    append_count=append_count+1"
   ]
  },
  {
   "cell_type": "code",
   "execution_count": null,
   "metadata": {
    "collapsed": true
   },
   "outputs": [],
   "source": [
    "plt.plot(wavelengths,Y_flux)\n",
    "plt.ylabel('Flux [$10^{-17}$ $erg/s/cm^2/$'r'$\\AA$'']')\n",
    "plt.xlabel('Wavelength' r' $\\AA$')\n",
    "plt.title('Misclassified Quasar')\n",
    "plt.show()"
   ]
  },
  {
   "cell_type": "code",
   "execution_count": null,
   "metadata": {
    "collapsed": true
   },
   "outputs": [],
   "source": [
    "append_count=0\n",
    "cent_wav2 = 10**wav_logs[misclass_highz2]\n",
    "Y2_flux = X_test[misclass_highz2]\n",
    "wavelengths2 = []\n",
    "wavelengths2.append(cent_wav2)\n",
    "current_wav2 = cent_wav2\n",
    "while append_count < len(Y2_flux)-1:\n",
    "    current_wav2 = current_wav2*wav_ratio\n",
    "    wavelengths2.append(current_wav2)\n",
    "    append_count=append_count+1"
   ]
  },
  {
   "cell_type": "code",
   "execution_count": null,
   "metadata": {
    "collapsed": true
   },
   "outputs": [],
   "source": [
    "plt.plot(wavelengths2,Y2_flux)\n",
    "plt.ylabel('Flux [$10^{-17}$ $erg/s/cm^2/$'r'$\\AA$'']')\n",
    "plt.xlabel('Wavelength' r' $\\AA$')\n",
    "plt.title('Misclassified Quasar')\n",
    "plt.show()"
   ]
  },
  {
   "cell_type": "code",
   "execution_count": null,
   "metadata": {
    "collapsed": true
   },
   "outputs": [],
   "source": [
    "append_count=0\n",
    "cent_wav3 = 10**wav_logs[misclass_star]\n",
    "Y3_flux = X_test[misclass_star]\n",
    "wavelengths3 = []\n",
    "wavelengths3.append(cent_wav)\n",
    "current_wav3 = cent_wav3\n",
    "while append_count < len(Y3_flux)-1:\n",
    "    current_wav3 = current_wav3*wav_ratio\n",
    "    wavelengths3.append(current_wav3)\n",
    "    append_count=append_count+1"
   ]
  },
  {
   "cell_type": "code",
   "execution_count": null,
   "metadata": {
    "collapsed": true
   },
   "outputs": [],
   "source": [
    "plt.plot(wavelengths3,Y3_flux)\n",
    "plt.ylabel('Flux [$10^{-17}$ $erg/s/cm^2/$'r'$\\AA$'']')\n",
    "plt.xlabel('Wavelength' r' $\\AA$')\n",
    "plt.title('Misclassified Quasar')\n",
    "plt.show()"
   ]
  },
  {
   "cell_type": "code",
   "execution_count": null,
   "metadata": {
    "collapsed": true
   },
   "outputs": [],
   "source": [
    "append_count=0\n",
    "cent_wav4 = 10**wav_logs[misclass_gal]\n",
    "Y4_flux = X_test[misclass_gal]\n",
    "wavelengths4 = []\n",
    "wavelengths4.append(cent_wav4)\n",
    "current_wav4 = cent_wav4\n",
    "while append_count < len(Y4_flux)-1:\n",
    "    current_wav4 = current_wav4*wav_ratio\n",
    "    wavelengths4.append(current_wav4)\n",
    "    append_count=append_count+1"
   ]
  },
  {
   "cell_type": "code",
   "execution_count": null,
   "metadata": {
    "collapsed": true
   },
   "outputs": [],
   "source": [
    "plt.plot(wavelengths4,Y4_flux)\n",
    "plt.ylabel('Flux [$10^{-17}$ $erg/s/cm^2/$'r'$\\AA$'']')\n",
    "plt.xlabel('Wavelength' r' $\\AA$')\n",
    "plt.title('Misclassified Star as Quasar with z>2.1')\n",
    "plt.show()"
   ]
  },
  {
   "cell_type": "code",
   "execution_count": null,
   "metadata": {
    "collapsed": true
   },
   "outputs": [],
   "source": [
    "Bin_no = input(\"Please Enter bin : \")"
   ]
  },
  {
   "cell_type": "code",
   "execution_count": null,
   "metadata": {
    "collapsed": true
   },
   "outputs": [],
   "source": [
    "X_bin,Y_bin,Train_z_bin, Train_mag_bin,wavst_bin = MLAData(Full_Data,BinInfos,Flux, log_wavst,Bin_no)"
   ]
  },
  {
   "cell_type": "code",
   "execution_count": null,
   "metadata": {
    "collapsed": true
   },
   "outputs": [],
   "source": [
    "X_test_bin,Y_test_bin,All_redshifts_bint,All_Ma_bintg,wav_logs_bin= MLAData(Full_Data_test,BinInfos_test,Flux_test,log_wavs)"
   ]
  },
  {
   "cell_type": "code",
   "execution_count": null,
   "metadata": {
    "collapsed": true
   },
   "outputs": [],
   "source": []
  },
  {
   "cell_type": "code",
   "execution_count": null,
   "metadata": {
    "collapsed": true
   },
   "outputs": [],
   "source": []
  },
  {
   "cell_type": "code",
   "execution_count": null,
   "metadata": {
    "collapsed": true
   },
   "outputs": [],
   "source": []
  },
  {
   "cell_type": "code",
   "execution_count": null,
   "metadata": {
    "collapsed": true
   },
   "outputs": [],
   "source": []
  },
  {
   "cell_type": "code",
   "execution_count": null,
   "metadata": {
    "collapsed": true
   },
   "outputs": [],
   "source": []
  },
  {
   "cell_type": "code",
   "execution_count": null,
   "metadata": {
    "collapsed": true
   },
   "outputs": [],
   "source": []
  },
  {
   "cell_type": "code",
   "execution_count": null,
   "metadata": {
    "collapsed": true
   },
   "outputs": [],
   "source": []
  },
  {
   "cell_type": "code",
   "execution_count": null,
   "metadata": {
    "collapsed": true
   },
   "outputs": [],
   "source": []
  },
  {
   "cell_type": "code",
   "execution_count": null,
   "metadata": {
    "collapsed": true
   },
   "outputs": [],
   "source": []
  }
 ],
 "metadata": {
  "kernelspec": {
   "display_name": "Python 3",
   "language": "python",
   "name": "python3"
  },
  "language_info": {
   "codemirror_mode": {
    "name": "ipython",
    "version": 3
   },
   "file_extension": ".py",
   "mimetype": "text/x-python",
   "name": "python",
   "nbconvert_exporter": "python",
   "pygments_lexer": "ipython3",
   "version": "3.6.1"
  }
 },
 "nbformat": 4,
 "nbformat_minor": 2
}
