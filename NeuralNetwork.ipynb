{
 "cells": [
  {
   "cell_type": "code",
   "execution_count": 1,
   "metadata": {
    "collapsed": true,
    "scrolled": true
   },
   "outputs": [],
   "source": [
    "import numpy as np\n",
    "from astropy.io import fits\n",
    "import matplotlib\n",
    "import matplotlib.pyplot as plt\n",
    "from sklearn.neural_network import MLPClassifier\n",
    "from sklearn.metrics import classification_report\n",
    "from sklearn.ensemble import RandomForestClassifier\n",
    "from sklearn.preprocessing import StandardScaler  \n",
    "from sklearn.metrics import confusion_matrix"
   ]
  },
  {
   "cell_type": "code",
   "execution_count": null,
   "metadata": {
    "collapsed": true
   },
   "outputs": [],
   "source": [
    "\n"
   ]
  },
  {
   "cell_type": "code",
   "execution_count": 2,
   "metadata": {
    "collapsed": true,
    "scrolled": true
   },
   "outputs": [],
   "source": [
    "#mlp = MLPClassifier(hidden_layer_sizes=(13,13,13),max_iter=500)\n",
    "\n",
    "##np.vstack((a,b)) use this to create matrix\n",
    "# y = [] should contain their classification. \n",
    "\n",
    "#mlp.fit(X_train,y_train)\n",
    "#predictions = mlp.predict(X_test)\n",
    "#print(classification_report(y_test,predictions))"
   ]
  },
  {
   "cell_type": "code",
   "execution_count": 3,
   "metadata": {
    "collapsed": true,
    "scrolled": true
   },
   "outputs": [],
   "source": [
    "class Object:\n",
    "    \n",
    "    def __init__():[]\n",
    "   \n",
    "    def __init__(self, SDSS_NAME, R, D, Z_VI, CLASS_P, p, mjd, fid,PSFMAG):\n",
    "        #leaving out redshift for now\n",
    "        R = round(R,2)\n",
    "        D =  round(D,2)\n",
    "        self.name = SDSS_NAME\n",
    "        self.RA = R\n",
    "        self.Dec = D\n",
    "        self.z = Z_VI\n",
    "        self.Class_p = CLASS_P\n",
    "        self.Plate = p\n",
    "        self.MJD = mjd\n",
    "        self.FiberID = fid\n",
    "        self.Mag = PSFMAG"
   ]
  },
  {
   "cell_type": "markdown",
   "metadata": {},
   "source": [
    "Opening fits files"
   ]
  },
  {
   "cell_type": "code",
   "execution_count": 4,
   "metadata": {
    "scrolled": true
   },
   "outputs": [
    {
     "name": "stdout",
     "output_type": "stream",
     "text": [
      "3.551\n"
     ]
    }
   ],
   "source": [
    "PLATEIDs = []\n",
    "BinInfos = []\n",
    "Flux = []\n",
    "MJDs = []\n",
    "###########3523############### NO OBJECTS MATCHED\n",
    "#plate_3523 = fits.open('spPlate-3523-55144.fits')\n",
    "#Bin_info_3523 = plate_3523[5].data\n",
    "#Flux_3523 = plate_3523[0].data\n",
    "#primhdu_3523 = plate_3523[0]\n",
    "#PLATEIDs.append(primhdu_3523.header['PLATEID'])\n",
    "#BinInfos.append(Bin_info_3523)\n",
    "\n",
    "###########3537############### NO OBJECTS MATCHED\n",
    "#plate_3537 = fits.open('spPlate-3537-55116.fits')\n",
    "#Bin_info_3537 = plate_3537[5].data\n",
    "#Flux_3537 = plate_3537[0].data\n",
    "#primhdu_3537 = plate_3537[0]\n",
    "#PLATEIDs.append(primhdu_3537.header['PLATEID'])\n",
    "#BinInfos.append(Bin_info_3537)\n",
    "\n",
    "###########4564###############\n",
    "plate_4564 = fits.open('spPlate-4564-55570.fits',memmap=True)\n",
    "Bin_info_4564 = plate_4564[5].data\n",
    "Flux_4564 = plate_4564[0].data\n",
    "primhdu_4564 = plate_4564[0]\n",
    "PLATEIDs.append(primhdu_4564.header['PLATEID'])\n",
    "MJDs.append(primhdu_4564.header['MJD'])\n",
    "BinInfos.append(Bin_info_4564)\n",
    "Flux.append(Flux_4564)\n",
    "print(primhdu_4564.header['COEFF0'])\n",
    "\n",
    "\n",
    "###########4775###############\n",
    "plate_4775 = fits.open('spPlate-4775-55708.fits',memmap=True)\n",
    "Bin_info_4775 = plate_4775[5].data\n",
    "Flux_4775 = plate_4775[0].data\n",
    "primhdu_4775 = plate_4775[0]\n",
    "PLATEIDs.append(primhdu_4775.header['PLATEID'])\n",
    "MJDs.append(primhdu_4775.header['MJD'])\n",
    "BinInfos.append(Bin_info_4775)\n",
    "Flux.append(Flux_4775)\n",
    "\n",
    "###########5346###############\n",
    "plate_5346 = fits.open('spPlate-5346-55955.fits',memmap=True)\n",
    "Bin_info_5346 = plate_5346[5].data\n",
    "Flux_5346 = plate_5346[0].data\n",
    "primhdu_5346 = plate_5346[0]\n",
    "PLATEIDs.append(primhdu_5346.header['PLATEID'])\n",
    "MJDs.append(primhdu_5346.header['MJD'])\n",
    "BinInfos.append(Bin_info_5346)\n",
    "Flux.append(Flux_5346)\n",
    "\n",
    "###########5718###############\n",
    "plate_5718 = fits.open('spPlate-5718-56693.fits',memmap=True)\n",
    "Bin_info_5718 = plate_5718[5].data\n",
    "Flux_5718 = plate_5718[0].data\n",
    "primhdu_5718 = plate_5718[0]\n",
    "PLATEIDs.append(primhdu_5718.header['PLATEID'])\n",
    "MJDs.append(primhdu_5718.header['MJD'])\n",
    "BinInfos.append(Bin_info_5718)\n",
    "Flux.append(Flux_5718)\n",
    "\n",
    "###########6049###############\n",
    "plate_6049 = fits.open('spPlate-6049-56091.fits',memmap=True)\n",
    "Bin_info_6049 = plate_6049[5].data\n",
    "Flux_6049 = plate_6049[0].data\n",
    "primhdu_6049 = plate_6049[0]\n",
    "PLATEIDs.append(primhdu_6049.header['PLATEID'])\n",
    "MJDs.append(primhdu_6049.header['MJD'])\n",
    "BinInfos.append(Bin_info_6049)\n",
    "Flux.append(Flux_6049)\n",
    "\n",
    "###########6391###############\n",
    "plate_6391 = fits.open('spPlate-6391-56329.fits',memmap=True)\n",
    "Bin_info_6391 = plate_6391[5].data\n",
    "Flux_6391 = plate_6391[0].data\n",
    "primhdu_6391 = plate_6391[0]\n",
    "PLATEIDs.append(primhdu_6391.header['PLATEID'])\n",
    "MJDs.append(primhdu_6391.header['MJD'])\n",
    "BinInfos.append(Bin_info_6391)\n",
    "Flux.append(Flux_6391)\n",
    "\n",
    "###########6593###############\n",
    "plate_6593 = fits.open('spPlate-6593-56270.fits',memmap=True)\n",
    "Bin_info_6593 = plate_6593[5].data\n",
    "Flux_6593 = plate_6593[0].data\n",
    "primhdu_6593 = plate_6593[0]\n",
    "PLATEIDs.append(primhdu_6593.header['PLATEID'])\n",
    "MJDs.append(primhdu_6593.header['MJD'])\n",
    "BinInfos.append(Bin_info_6593)\n",
    "Flux.append(Flux_6593)\n",
    "\n",
    "###########7036###############\n",
    "plate_7036 = fits.open('spPlate-7036-56569.fits',memmap=True)\n",
    "Bin_info_7036 = plate_7036[5].data\n",
    "Flux_7036 = plate_7036[0].data\n",
    "primhdu_7036 = plate_7036[0]\n",
    "PLATEIDs.append(primhdu_7036.header['PLATEID'])\n",
    "MJDs.append(primhdu_7036.header['MJD'])\n",
    "BinInfos.append(Bin_info_7036)\n",
    "Flux.append(Flux_7036)\n",
    "\n",
    "###########7155###############\n",
    "plate_7155 = fits.open('spPlate-7155-56629.fits',memmap=True)\n",
    "Bin_info_7155 = plate_7155[5].data\n",
    "Flux_7155 = plate_7155[0].data\n",
    "primhdu_7155 = plate_7155[0]\n",
    "PLATEIDs.append(primhdu_7155.header['PLATEID'])\n",
    "MJDs.append(primhdu_7155.header['MJD'])\n",
    "BinInfos.append(Bin_info_7155)\n",
    "Flux.append(Flux_7155)\n",
    "\n",
    "###########7164###############\n",
    "plate_7164 = fits.open('spPlate-7164-56597.fits',memmap=True)\n",
    "Bin_info_7164 = plate_7164[5].data\n",
    "Flux_7164 = plate_7164[0].data\n",
    "primhdu_7164 = plate_7164[0]\n",
    "PLATEIDs.append(primhdu_7164.header['PLATEID'])\n",
    "MJDs.append(primhdu_7164.header['MJD'])\n",
    "BinInfos.append(Bin_info_7164)\n",
    "Flux.append(Flux_7164)\n",
    "\n",
    "\n",
    "\n",
    "###########7374###############\n",
    "plate_7374 = fits.open('spPlate-7374-56751.fits',memmap=True)\n",
    "Bin_info_7374 = plate_7374[5].data\n",
    "Flux_7374 = plate_7374[0].data\n",
    "primhdu_7374 = plate_7374[0]\n",
    "PLATEIDs.append(primhdu_7374.header['PLATEID'])\n",
    "MJDs.append(primhdu_7374.header['MJD'])\n",
    "BinInfos.append(Bin_info_7374)\n",
    "Flux.append(Flux_7374)\n",
    "\n",
    "\n",
    "###########7454###############\n",
    "plate_7454 = fits.open('spPlate-7454-56751.fits',memmap=True)\n",
    "Bin_info_7454 = plate_7454[5].data\n",
    "Flux_7454 = plate_7454[0].data\n",
    "primhdu_7454 = plate_7454[0]\n",
    "PLATEIDs.append(primhdu_7454.header['PLATEID'])\n",
    "MJDs.append(primhdu_7454.header['MJD'])\n",
    "BinInfos.append(Bin_info_7454)\n",
    "Flux.append(Flux_7454)\n",
    "\n",
    "\n",
    "\n"
   ]
  },
  {
   "cell_type": "code",
   "execution_count": 5,
   "metadata": {},
   "outputs": [
    {
     "data": {
      "text/plain": [
       "[4564, 4775, 5346, 5718, 6049, 6391, 6593, 7036, 7155, 7164, 7374, 7454]"
      ]
     },
     "execution_count": 5,
     "metadata": {},
     "output_type": "execute_result"
    }
   ],
   "source": [
    "PLATEIDs"
   ]
  },
  {
   "cell_type": "code",
   "execution_count": 6,
   "metadata": {},
   "outputs": [
    {
     "data": {
      "text/plain": [
       "[55570,\n",
       " 55708,\n",
       " 55955,\n",
       " 56693,\n",
       " 56091,\n",
       " 56329,\n",
       " 56270,\n",
       " 56569,\n",
       " 56629,\n",
       " 56597,\n",
       " 56751,\n",
       " 56751]"
      ]
     },
     "execution_count": 6,
     "metadata": {},
     "output_type": "execute_result"
    }
   ],
   "source": [
    "MJDs"
   ]
  },
  {
   "cell_type": "code",
   "execution_count": 7,
   "metadata": {},
   "outputs": [
    {
     "data": {
      "text/plain": [
       "2284"
      ]
     },
     "execution_count": 7,
     "metadata": {},
     "output_type": "execute_result"
    }
   ],
   "source": [
    "list = fits.open('Superset_DR12Q.fits',memmap=True)#opening file\n",
    "super=list[1].data # storing  BINTABLE extension data\n",
    "CurrentPlate = 0\n",
    "Full_Data=[]\n",
    "Plate_Count =0\n",
    "yes = 0\n",
    "\n",
    "while Plate_Count < len(PLATEIDs):\n",
    "    Current_Plate = PLATEIDs[Plate_Count]\n",
    "    CurrentObject = 0\n",
    "    platename_data = []\n",
    "    while CurrentObject < len(super):\n",
    "        Current = super[CurrentObject]\n",
    "        if Current['PLATE'] == Current_Plate:\n",
    "            Object_ = Object(Current['SDSS_NAME'], Current['RA'], Current['Dec'], \n",
    "                         Current['Z_VI'], Current['CLASS_PERSON'],Current['PLATE'] ,\n",
    "                         Current['MJD'], Current['FIBERID'],Current['PSFMAG'])\n",
    "            platename_data.append(Object_)\n",
    "            yes = yes+1\n",
    "        CurrentObject=CurrentObject+1    \n",
    "    Plate_Count = Plate_Count + 1\n",
    "    Full_Data.append(platename_data)\n",
    "    \n",
    "yes"
   ]
  },
  {
   "cell_type": "code",
   "execution_count": 8,
   "metadata": {},
   "outputs": [
    {
     "data": {
      "text/plain": [
       "12"
      ]
     },
     "execution_count": 8,
     "metadata": {},
     "output_type": "execute_result"
    }
   ],
   "source": [
    "len(Full_Data)"
   ]
  },
  {
   "cell_type": "markdown",
   "metadata": {},
   "source": [
    "Finding classifications of objects"
   ]
  },
  {
   "cell_type": "code",
   "execution_count": 9,
   "metadata": {
    "collapsed": true,
    "scrolled": true
   },
   "outputs": [],
   "source": [
    "Y = []\n",
    "X = []\n",
    "plate_no = 0\n",
    "y=0\n",
    "\n",
    "while plate_no < len(Full_Data):\n",
    "    #loading matched objects with sup, plate data\n",
    "    CurrentSup_data = Full_Data[plate_no]\n",
    "    CurrentBin = BinInfos[plate_no]\n",
    "    CurrentFlux = Flux[plate_no]\n",
    "    #first object is zeroth element\n",
    "    Sup_obj =0 \n",
    "    while Sup_obj < len(CurrentSup_data):\n",
    "        #to stop double counting\n",
    "        no_match = True\n",
    "        #looking at an object that has been matched in sup list\n",
    "        CurrentSup = CurrentSup_data[Sup_obj]            \n",
    "        #going through each object in the bin\n",
    "        BinObj_No = 0\n",
    "        while BinObj_No<len(CurrentBin):\n",
    "            BinObj = CurrentBin[BinObj_No]\n",
    "            ##checking if the two match \n",
    "            if BinObj['FIBERID'] == CurrentSup.FiberID:\n",
    "                y=y+1\n",
    "                if no_match:\n",
    "                    if CurrentSup.Class_p == 0:\n",
    "                        a=0\n",
    "                        \n",
    "                    \n",
    "                    else:\n",
    "                        \n",
    "                        no_match = False\n",
    "                        Y.append(CurrentSup.Class_p)\n",
    "                        x_flux =(CurrentFlux[BinObj_No])\n",
    "                        x_flux=x_flux[:4600]\n",
    "                        X.append(x_flux)\n",
    "            BinObj_No=BinObj_No+1  \n",
    "        Sup_obj=Sup_obj+1\n",
    "    plate_no = plate_no+1\n",
    "    \n",
    "\n"
   ]
  },
  {
   "cell_type": "code",
   "execution_count": 10,
   "metadata": {
    "collapsed": true
   },
   "outputs": [],
   "source": [
    "PLATEIDs_test = []\n",
    "BinInfos_test = []\n",
    "Flux_test = []\n",
    "\n",
    "#########4791############\n",
    "plate_4791 = fits.open('spPlate-4791-55889.fits',memmap=True)\n",
    "Bin_info_4791 = plate_4791[5].data\n",
    "Flux_4791 = plate_4791[0].data\n",
    "primhdu_4791 = plate_4791[0]\n",
    "PLATEIDs_test.append(primhdu_4791.header['PLATEID'])\n",
    "BinInfos_test.append(Bin_info_4791)\n",
    "Flux_test.append(Flux_4791)\n",
    "\n",
    "\n",
    "#########6970-############\n",
    "plate_6970 = fits.open('spPlate-6970-56444.fits',memmap=True)\n",
    "Bin_info_6970 = plate_6970[5].data\n",
    "Flux_6970 = plate_6970[0].data\n",
    "primhdu_6970 = plate_6970[0]\n",
    "PLATEIDs_test.append(primhdu_6970.header['PLATEID'])\n",
    "BinInfos_test.append(Bin_info_6970)\n",
    "Flux_test.append(Flux_6970)\n",
    "\n",
    "\n",
    "\n",
    "#########5852############\n",
    "plate_5852 = fits.open('spPlate-5852-56034.fits',memmap=True)\n",
    "Bin_info_5852 = plate_5852[5].data\n",
    "Flux_5852 = plate_5852[0].data\n",
    "primhdu_5852 = plate_5852[0]\n",
    "PLATEIDs_test.append(primhdu_5852.header['PLATEID'])\n",
    "BinInfos_test.append(Bin_info_5852)\n",
    "Flux_test.append(Flux_5852)"
   ]
  },
  {
   "cell_type": "code",
   "execution_count": 11,
   "metadata": {},
   "outputs": [],
   "source": [
    "##Putting all bins in one array \n",
    "plates = 0\n",
    "Full_Test_Bin=[]\n",
    "while plates< len(BinInfos_test):\n",
    "    plate_element=0\n",
    "    current_plates=BinInfos_test[plates]\n",
    "    while plate_element< len(current_plates):\n",
    "        Full_Test_Bin.append(current_plates[plate_element])\n",
    "        plate_element=plate_element+1\n",
    "        \n",
    "    plates= plates+1"
   ]
  },
  {
   "cell_type": "code",
   "execution_count": 12,
   "metadata": {},
   "outputs": [
    {
     "data": {
      "text/plain": [
       "602"
      ]
     },
     "execution_count": 12,
     "metadata": {},
     "output_type": "execute_result"
    }
   ],
   "source": [
    "CurrentPlate_test = 0\n",
    "Full_Data_test=[]\n",
    "Plate_Count_test =0\n",
    "yes_test = 0\n",
    "\n",
    "while Plate_Count_test < len(PLATEIDs_test):\n",
    "    Current_Plate_test = PLATEIDs[Plate_Count_test]\n",
    "    CurrentObject_test = 0\n",
    "    platename_test = []\n",
    "    while CurrentObject_test < len(super):\n",
    "        Current_test = super[CurrentObject_test]\n",
    "        if Current_test['PLATE'] == Current_Plate_test:\n",
    "            Object_test = Object(Current['SDSS_NAME'], Current['RA'], Current['Dec'], \n",
    "                         Current['Z_VI'], Current['CLASS_PERSON'],Current['PLATE'] ,\n",
    "                         Current['MJD'], Current['FIBERID'], Current['PSFMAG'])\n",
    "            platename_test.append(Object_test)\n",
    "            yes_test = yes_test+1\n",
    "        CurrentObject_test=CurrentObject_test+1    \n",
    "    Plate_Count_test = Plate_Count_test + 1\n",
    "    Full_Data_test.append(platename_test)\n",
    "    \n",
    "yes_test"
   ]
  },
  {
   "cell_type": "code",
   "execution_count": 22,
   "metadata": {
    "collapsed": true
   },
   "outputs": [],
   "source": [
    "Y_test = []\n",
    "X_test = []\n",
    "plate_no_test = 0\n",
    "y=0\n",
    "All_redshifts=[]\n",
    "All_Mag=[]\n",
    "while plate_no_test < len(Full_Data_test):\n",
    "    #loading matched objects with sup, plate data\n",
    "    CurrentSup_data_test = Full_Data[plate_no_test]\n",
    "    CurrentBin_test = BinInfos_test[plate_no_test]\n",
    "    CurrentFlux_test = Flux_test[plate_no_test]\n",
    "    #first object is zeroth element\n",
    "    Sup_obj_test =0 \n",
    "    while Sup_obj_test < len(CurrentSup_data_test):\n",
    "        #to stop double counting\n",
    "        no_match_test = True\n",
    "        #looking at an object that has been matched in sup list\n",
    "        CurrentSup_test = CurrentSup_data_test[Sup_obj_test]            \n",
    "        #going through each object in the bin\n",
    "        BinObj_No_test = 0\n",
    "        while BinObj_No_test<len(CurrentBin_test):\n",
    "            BinObj_test = CurrentBin_test[BinObj_No_test]\n",
    "            ##checking if the two match \n",
    "            if BinObj_test['FIBERID'] == CurrentSup_test.FiberID:\n",
    "                y=y+1\n",
    "                if no_match_test:\n",
    "                    if CurrentSup_test.Class_p==0:\n",
    "                        b=0\n",
    "                    else:\n",
    "                    \n",
    "                        no_match_test = False\n",
    "                        Y_test.append(CurrentSup_test.Class_p)\n",
    "                        x_flux_test =(CurrentFlux_test[BinObj_No_test])\n",
    "                        x_flux_test=x_flux_test[:4600]\n",
    "                        X_test.append(x_flux_test)\n",
    "                        All_redshifts.append(CurrentSup_test.z)\n",
    "                        All_Mag.append(CurrentSup_test.Mag)\n",
    "            BinObj_No_test=BinObj_No_test+1  \n",
    "        Sup_obj_test=Sup_obj_test+1\n",
    "    plate_no_test = plate_no_test+1\n",
    "    \n"
   ]
  },
  {
   "cell_type": "markdown",
   "metadata": {},
   "source": [
    "Solvers: \n",
    "‘lbfgs’ is an optimizer in the family of quasi-Newton methods.\n",
    "‘sgd’ refers to stochastic gradient descent.\n",
    "‘adam’ refers to a stochastic gradient-based optimizer proposed by Kingma, Diederik, and Jimmy Ba"
   ]
  },
  {
   "cell_type": "code",
   "execution_count": 14,
   "metadata": {
    "collapsed": true,
    "scrolled": true
   },
   "outputs": [],
   "source": [
    "mlp = MLPClassifier(hidden_layer_sizes=(13),max_iter=500, solver = 'lbfgs',learning_rate_init=0.00001,activation='tanh') ##Think About"
   ]
  },
  {
   "cell_type": "code",
   "execution_count": 15,
   "metadata": {
    "scrolled": true
   },
   "outputs": [
    {
     "data": {
      "text/plain": [
       "MLPClassifier(activation='tanh', alpha=0.0001, batch_size='auto', beta_1=0.9,\n",
       "       beta_2=0.999, early_stopping=False, epsilon=1e-08,\n",
       "       hidden_layer_sizes=13, learning_rate='constant',\n",
       "       learning_rate_init=1e-05, max_iter=500, momentum=0.9,\n",
       "       nesterovs_momentum=True, power_t=0.5, random_state=None,\n",
       "       shuffle=True, solver='lbfgs', tol=0.0001, validation_fraction=0.1,\n",
       "       verbose=False, warm_start=False)"
      ]
     },
     "execution_count": 15,
     "metadata": {},
     "output_type": "execute_result"
    }
   ],
   "source": [
    "scaler = StandardScaler()  \n",
    "scaler.fit(X)  \n",
    "X = scaler.transform(X)  \n",
    "X_test = scaler.transform(X_test)  \n",
    "\n",
    "mlp.fit(X,Y)"
   ]
  },
  {
   "cell_type": "code",
   "execution_count": 16,
   "metadata": {},
   "outputs": [
    {
     "data": {
      "text/plain": [
       "4600"
      ]
     },
     "execution_count": 16,
     "metadata": {},
     "output_type": "execute_result"
    }
   ],
   "source": [
    "len(X_test[194])"
   ]
  },
  {
   "cell_type": "code",
   "execution_count": 17,
   "metadata": {
    "collapsed": true,
    "scrolled": true
   },
   "outputs": [],
   "source": [
    "predictions = mlp.predict(np.array(X_test))"
   ]
  },
  {
   "cell_type": "code",
   "execution_count": 18,
   "metadata": {
    "scrolled": true
   },
   "outputs": [
    {
     "name": "stdout",
     "output_type": "stream",
     "text": [
      "             precision    recall  f1-score   support\n",
      "\n",
      "          1       0.35      0.28      0.31       200\n",
      "          3       0.54      0.36      0.43       322\n",
      "          4       0.09      0.15      0.11        27\n",
      "         30       0.06      0.26      0.10        39\n",
      "\n",
      "avg / total       0.42      0.32      0.35       588\n",
      "\n"
     ]
    }
   ],
   "source": [
    "print(classification_report(Y_test,predictions))"
   ]
  },
  {
   "attachments": {
    "info.png": {
     "image/png": "[encoded data removed]"
    }
   },
   "cell_type": "markdown",
   "metadata": {
    "collapsed": true
   },
   "source": [
    "![info.png](attachment:info.png)"
   ]
  },
  {
   "cell_type": "code",
   "execution_count": 19,
   "metadata": {},
   "outputs": [
    {
     "data": {
      "text/plain": [
       "array([[ 56,  71,  18,  55],\n",
       "       [ 90, 116,  21,  95],\n",
       "       [  2,  17,   4,   4],\n",
       "       [ 14,  11,   4,  10]])"
      ]
     },
     "execution_count": 19,
     "metadata": {},
     "output_type": "execute_result"
    }
   ],
   "source": [
    "confusion_matrix(Y_test, predictions)"
   ]
  },
  {
   "cell_type": "code",
   "execution_count": 30,
   "metadata": {
    "collapsed": true
   },
   "outputs": [],
   "source": [
    "i=0\n",
    "performance_q1 = []\n",
    "performance_q2 = []\n",
    "Yes_quasar=[]\n",
    "Yes_gal=[]\n",
    "Yes_star=[]\n",
    "Yes_bal=[]\n",
    "no_quasar=[]\n",
    "no_gal=[]\n",
    "no_star=[]\n",
    "no_bal=[]\n",
    "no_quasar_class=[]\n",
    "no_gal_class=[]\n",
    "no_star_class=[]\n",
    "no_bal_class=[]\n",
    "\n",
    "while i< len(predictions):\n",
    "    current_pred= predictions[i]\n",
    "    current_cla = Y_test[i] \n",
    "    if current_pred == current_cla:\n",
    "        if current_cla==1:\n",
    "            Yes_star.append(i)\n",
    "            \n",
    "        elif current_cla==3:\n",
    "            Yes_quasar.append(i)\n",
    "            performance_q1.append(1)\n",
    "        \n",
    "        elif current_cla==4:\n",
    "            Yes_gal.append(i)\n",
    "            \n",
    "            \n",
    "            \n",
    "        elif current_cla==30:\n",
    "            Yes_bal.append(i)\n",
    "    else:\n",
    "        if current_cla==1:\n",
    "            no_star.append(i)\n",
    "            no_star_class.append(current_pred)\n",
    "\n",
    "            \n",
    "        elif current_cla==3:\n",
    "            no_quasar.append(i)\n",
    "            no_quasar_class.append(current_pred)\n",
    "            performance_q2.append(0)\n",
    "        \n",
    "        elif current_cla==4:\n",
    "            no_gal.append(i)\n",
    "            no_gal_class.append(current_pred)\n",
    "            \n",
    "        elif current_cla==30:\n",
    "            no_bal.append(i)\n",
    "            no_bal_class.append(current_pred)\n",
    "    i=i+1"
   ]
  },
  {
   "cell_type": "code",
   "execution_count": 31,
   "metadata": {},
   "outputs": [],
   "source": [
    "Yes_z = []\n",
    "No_z =[]\n",
    "n=0\n",
    "\n",
    "while n< len(Yes_quasar):\n",
    "    current_element = Yes_quasar[n]\n",
    "    Yes_z.append(All_redshifts[current_element])\n",
    "    n=n+1\n",
    "\n",
    "n=0\n",
    "while n< len(no_quasar):\n",
    "    current_element = no_quasar[n]\n",
    "    No_z.append(All_redshifts[current_element])\n",
    "    n=n+1\n",
    "\n",
    "\n"
   ]
  },
  {
   "cell_type": "code",
   "execution_count": 32,
   "metadata": {},
   "outputs": [
    {
     "data": {
      "image/png": "[encoded data removed]",
      "text/plain": [
       "<matplotlib.figure.Figure at 0x1c9147bbeb8>"
      ]
     },
     "metadata": {},
     "output_type": "display_data"
    }
   ],
   "source": [
    "plt.hist(Yes_z)\n",
    "plt.xlabel('Redshift (z)')\n",
    "plt.ylabel('No. of Quasars')\n",
    "plt.title('Correct Quasars redshifts')\n",
    "plt.show()"
   ]
  },
  {
   "cell_type": "code",
   "execution_count": 33,
   "metadata": {},
   "outputs": [
    {
     "data": {
      "image/png": "[encoded data removed]",
      "text/plain": [
       "<matplotlib.figure.Figure at 0x1c9148721d0>"
      ]
     },
     "metadata": {},
     "output_type": "display_data"
    }
   ],
   "source": [
    "plt.hist(No_z)\n",
    "plt.xlabel('Redshift (z)')\n",
    "plt.ylabel('No. of Quasars')\n",
    "plt.title('Incorrect Quasars redshifts')\n",
    "plt.show()"
   ]
  },
  {
   "cell_type": "code",
   "execution_count": 28,
   "metadata": {},
   "outputs": [
    {
     "data": {
      "text/plain": [
       "array([ 17.70147705,  17.41287422,  17.30308914,  17.11568832,  17.12657166], dtype=float32)"
      ]
     },
     "execution_count": 28,
     "metadata": {},
     "output_type": "execute_result"
    }
   ],
   "source": [
    "All_Mag[7]"
   ]
  },
  {
   "cell_type": "code",
   "execution_count": 34,
   "metadata": {},
   "outputs": [
    {
     "data": {
      "image/png": "[encoded data removed]",
      "text/plain": [
       "<matplotlib.figure.Figure at 0x1c92fd7cda0>"
      ]
     },
     "metadata": {},
     "output_type": "display_data"
    }
   ],
   "source": [
    "#plt.plot(All_Mag, performance)\n",
    "#plt.xlabel('Mag')\n",
    "plt.plot(Yes_z+No_z, performance_q1+performance_q2,\"o\")\n",
    "plt.xlabel('Redshift')\n",
    "plt.ylabel('Performance')\n",
    "plt.title('Performance as a function of Mag')\n",
    "plt.show()"
   ]
  },
  {
   "cell_type": "code",
   "execution_count": null,
   "metadata": {
    "collapsed": true
   },
   "outputs": [],
   "source": [
    "rf = RandomForestClassifier(max_depth=40, random_state=0)"
   ]
  },
  {
   "cell_type": "code",
   "execution_count": null,
   "metadata": {},
   "outputs": [],
   "source": [
    "rf.fit(X,Y)"
   ]
  },
  {
   "cell_type": "code",
   "execution_count": null,
   "metadata": {
    "collapsed": true
   },
   "outputs": [],
   "source": [
    "predictions_rf = rf.predict(X_test)"
   ]
  },
  {
   "cell_type": "code",
   "execution_count": null,
   "metadata": {},
   "outputs": [],
   "source": [
    "print(classification_report(Y_test,predictions_rf))"
   ]
  },
  {
   "cell_type": "code",
   "execution_count": null,
   "metadata": {
    "collapsed": true
   },
   "outputs": [],
   "source": []
  },
  {
   "cell_type": "code",
   "execution_count": null,
   "metadata": {
    "collapsed": true
   },
   "outputs": [],
   "source": []
  },
  {
   "cell_type": "code",
   "execution_count": null,
   "metadata": {
    "collapsed": true
   },
   "outputs": [],
   "source": []
  }
 ],
 "metadata": {
  "kernelspec": {
   "display_name": "Python 3",
   "language": "python",
   "name": "python3"
  },
  "language_info": {
   "codemirror_mode": {
    "name": "ipython",
    "version": 3
   },
   "file_extension": ".py",
   "mimetype": "text/x-python",
   "name": "python",
   "nbconvert_exporter": "python",
   "pygments_lexer": "ipython3",
   "version": "3.6.1"
  }
 },
 "nbformat": 4,
 "nbformat_minor": 2
}
