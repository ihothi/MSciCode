{
 "cells": [
  {
   "cell_type": "code",
   "execution_count": 1,
   "metadata": {
    "collapsed": true
   },
   "outputs": [],
   "source": [
    "import numpy as np\n",
    "from astropy.io import fits\n",
    "import matplotlib\n",
    "import matplotlib.pyplot as plt\n",
    "from sklearn.neural_network import MLPClassifier\n",
    "from sklearn.metrics import classification_report\n",
    "from sklearn.ensemble import RandomForestClassifier\n",
    "from sklearn.preprocessing import StandardScaler\n",
    "import os\n",
    "from ProjectF import MLAData,classification, Object,storing\n",
    "import random"
   ]
  },
  {
   "cell_type": "code",
   "execution_count": 2,
   "metadata": {},
   "outputs": [
    {
     "data": {
      "text/plain": [
       "['spPlate-4176-55682.fits',\n",
       " 'spPlate-4390-55948.fits',\n",
       " 'spPlate-4205-55454.fits',\n",
       " 'spPlate-4406-55858.fits',\n",
       " 'spPlate-4235-55451.fits',\n",
       " 'spPlate-4415-55831.fits',\n",
       " 'spPlate-4833-55679.fits',\n",
       " 'spPlate-5177-56245.fits',\n",
       " 'spPlate-5699-55953.fits',\n",
       " 'spPlate-4877-55707.fits',\n",
       " 'spPlate-5208-56008.fits',\n",
       " 'spPlate-5714-56660.fits',\n",
       " 'spPlate-4901-55711.fits',\n",
       " 'spPlate-5300-55982.fits',\n",
       " 'spPlate-5775-56009.fits',\n",
       " 'spPlate-4974-56038.fits',\n",
       " 'spPlate-5364-56000.fits',\n",
       " 'spPlate-5809-56353.fits',\n",
       " 'spPlate-5000-55715.fits',\n",
       " 'spPlate-5408-56038.fits',\n",
       " 'spPlate-5889-56038.fits',\n",
       " 'spPlate-5045-56181.fits',\n",
       " 'spPlate-5482-56017.fits',\n",
       " 'spPlate-5941-56193.fits',\n",
       " 'spPlate-5113-55924.fits',\n",
       " 'spPlate-5656-55940.fits',\n",
       " 'spPlate-5981-56340.fits',\n",
       " 'spPlate-6013-56074.fits',\n",
       " 'spPlate-6124-56211.fits',\n",
       " 'spPlate-6200-56217.fits',\n",
       " 'spPlate-6060-56074.fits',\n",
       " 'spPlate-6173-56238.fits',\n",
       " 'spPlate-6265-56248.fits',\n",
       " 'spPlate-6638-56370.fits',\n",
       " 'spPlate-7130-56568.fits',\n",
       " 'spPlate-6322-56190.fits',\n",
       " 'spPlate-6678-56401.fits',\n",
       " 'spPlate-7166-56602.fits',\n",
       " 'spPlate-6395-56354.fits',\n",
       " 'spPlate-6720-56390.fits',\n",
       " 'spPlate-7247-56626.fits',\n",
       " 'spPlate-6407-56311.fits',\n",
       " 'spPlate-6755-56413.fits',\n",
       " 'spPlate-7280-56709.fits',\n",
       " 'spPlate-6461-56329.fits',\n",
       " 'spPlate-6807-56429.fits',\n",
       " 'spPlate-7320-56722.fits',\n",
       " 'spPlate-6482-56358.fits',\n",
       " 'spPlate-6874-56550.fits',\n",
       " 'spPlate-7380-56753.fits',\n",
       " 'spPlate-6514-56487.fits',\n",
       " 'spPlate-6974-56442.fits',\n",
       " 'spPlate-7420-56753.fits',\n",
       " 'spPlate-6588-56536.fits',\n",
       " 'spPlate-7049-56570.fits',\n",
       " 'spPlate-7429-56740.fits',\n",
       " 'spPlate-6618-56401.fits',\n",
       " 'spPlate-7090-56659.fits',\n",
       " 'spPlate-3700-55542.fits',\n",
       " 'spPlate-3874-55280.fits',\n",
       " 'spPlate-4090-55500.fits',\n",
       " 'spPlate-3754-55488.fits',\n",
       " 'spPlate-3925-55338.fits',\n",
       " 'spPlate-4177-55688.fits',\n",
       " 'spPlate-3769-55240.fits',\n",
       " 'spPlate-3949-55650.fits',\n",
       " 'spPlate-4183-55447.fits',\n",
       " 'spPlate-3782-55244.fits',\n",
       " 'spPlate-3984-55333.fits',\n",
       " 'spPlate-4196-55478.fits',\n",
       " 'spPlate-3803-55513.fits',\n",
       " 'spPlate-4011-55635.fits',\n",
       " 'spPlate-4214-55451.fits',\n",
       " 'spPlate-3822-55544.fits',\n",
       " 'spPlate-4024-55646.fits',\n",
       " 'spPlate-4233-55449.fits',\n",
       " 'spPlate-3836-55302.fits',\n",
       " 'spPlate-4041-55361.fits',\n",
       " 'spPlate-4264-55506.fits',\n",
       " 'spPlate-3861-55274.fits',\n",
       " 'spPlate-4061-55362.fits',\n",
       " 'spPlate-4288-55501.fits']"
      ]
     },
     "execution_count": 2,
     "metadata": {},
     "output_type": "execute_result"
    }
   ],
   "source": [
    "TrainPlateDir = os.path.normpath(\"D:\\Data\\Plate_Name.txt\")\n",
    "with open(TrainPlateDir) as f:\n",
    "    Spectra_Files = f.read().splitlines()\n"
   ]
  },
  {
   "cell_type": "code",
   "execution_count": 3,
   "metadata": {
    "collapsed": true
   },
   "outputs": [],
   "source": [
    "PLATEIDs = []\n",
    "BinInfos = []\n",
    "Flux = []\n",
    "MJDs = []\n",
    "log_wavst=[]\n",
    "ANDMASK=[]\n",
    "INVAR=[]\n",
    "TrainingDir = os.path.normpath(\"D:\\Data\")\n",
    "TrainingFolder =  os.path.normpath(\"\\Training\")\n",
    "slash =  os.path.normpath(\"\\\\\")\n",
    "for spectrum in Spectra_Files:\n",
    "    plate_ = fits.open( TrainingDir +TrainingFolder+slash+ spectrum ,memmap=True)\n",
    "    Bin_info_ = plate_[5].data\n",
    "    Flux_ = plate_[0].data\n",
    "    primhdu_ = plate_[0]\n",
    "    ANDMASK.append( plate_[2].data)\n",
    "    INVAR.append( plate_[1].data)\n",
    "    PLATEIDs.append(primhdu_.header['PLATEID'])\n",
    "    log_wavst.append(primhdu_.header['COEFF0'])\n",
    "    MJDs.append(primhdu_.header['MJD'])\n",
    "    BinInfos.append(Bin_info_)\n",
    "    Flux.append(Flux_)\n",
    "    "
   ]
  },
  {
   "cell_type": "code",
   "execution_count": 4,
   "metadata": {
    "collapsed": true
   },
   "outputs": [],
   "source": [
    "list = fits.open(TrainingDir+slash+'Superset_DR12Q.fits',memmap=True)#opening file\n",
    "\n",
    "supers=list[1].data # storing  BINTABLE extension data"
   ]
  },
  {
   "cell_type": "code",
   "execution_count": 5,
   "metadata": {},
   "outputs": [
    {
     "name": "stdout",
     "output_type": "stream",
     "text": [
      "Plate Storage Completed: 1.2195121951219512%\n",
      "Plate Storage Completed: 2.4390243902439024%\n",
      "Plate Storage Completed: 3.658536585365854%\n",
      "Plate Storage Completed: 4.878048780487805%\n",
      "Plate Storage Completed: 6.097560975609756%\n",
      "Plate Storage Completed: 7.317073170731708%\n",
      "Plate Storage Completed: 8.536585365853659%\n",
      "Plate Storage Completed: 9.75609756097561%\n",
      "Plate Storage Completed: 10.975609756097562%\n",
      "Plate Storage Completed: 12.195121951219512%\n",
      "Plate Storage Completed: 13.414634146341463%\n",
      "Plate Storage Completed: 14.634146341463415%\n",
      "Plate Storage Completed: 15.853658536585366%\n",
      "Plate Storage Completed: 17.073170731707318%\n",
      "Plate Storage Completed: 18.29268292682927%\n",
      "Plate Storage Completed: 19.51219512195122%\n",
      "Plate Storage Completed: 20.73170731707317%\n",
      "Plate Storage Completed: 21.951219512195124%\n",
      "Plate Storage Completed: 23.170731707317074%\n",
      "Plate Storage Completed: 24.390243902439025%\n",
      "Plate Storage Completed: 25.609756097560975%\n",
      "Plate Storage Completed: 26.829268292682926%\n",
      "Plate Storage Completed: 28.048780487804876%\n",
      "Plate Storage Completed: 29.26829268292683%\n",
      "Plate Storage Completed: 30.48780487804878%\n",
      "Plate Storage Completed: 31.70731707317073%\n",
      "Plate Storage Completed: 32.926829268292686%\n",
      "Plate Storage Completed: 34.146341463414636%\n",
      "Plate Storage Completed: 35.36585365853659%\n",
      "Plate Storage Completed: 36.58536585365854%\n",
      "Plate Storage Completed: 37.80487804878049%\n",
      "Plate Storage Completed: 39.02439024390244%\n",
      "Plate Storage Completed: 40.24390243902439%\n",
      "Plate Storage Completed: 41.46341463414634%\n",
      "Plate Storage Completed: 42.68292682926829%\n",
      "Plate Storage Completed: 43.90243902439025%\n",
      "Plate Storage Completed: 45.1219512195122%\n",
      "Plate Storage Completed: 46.34146341463415%\n",
      "Plate Storage Completed: 47.5609756097561%\n",
      "Plate Storage Completed: 48.78048780487805%\n",
      "Plate Storage Completed: 50.0%\n",
      "Plate Storage Completed: 51.21951219512195%\n",
      "Plate Storage Completed: 52.4390243902439%\n",
      "Plate Storage Completed: 53.65853658536585%\n",
      "Plate Storage Completed: 54.8780487804878%\n",
      "Plate Storage Completed: 56.09756097560975%\n",
      "Plate Storage Completed: 57.31707317073171%\n",
      "Plate Storage Completed: 58.53658536585366%\n",
      "Plate Storage Completed: 59.75609756097561%\n",
      "Plate Storage Completed: 60.97560975609756%\n",
      "Plate Storage Completed: 62.19512195121951%\n",
      "Plate Storage Completed: 63.41463414634146%\n",
      "Plate Storage Completed: 64.63414634146342%\n",
      "Plate Storage Completed: 65.85365853658537%\n",
      "Plate Storage Completed: 67.07317073170732%\n",
      "Plate Storage Completed: 68.29268292682927%\n",
      "Plate Storage Completed: 69.51219512195122%\n",
      "Plate Storage Completed: 70.73170731707317%\n",
      "Plate Storage Completed: 71.95121951219512%\n",
      "Plate Storage Completed: 73.17073170731707%\n",
      "Plate Storage Completed: 74.39024390243902%\n",
      "Plate Storage Completed: 75.60975609756098%\n",
      "Plate Storage Completed: 76.82926829268293%\n",
      "Plate Storage Completed: 78.04878048780488%\n",
      "Plate Storage Completed: 79.26829268292683%\n",
      "Plate Storage Completed: 80.48780487804878%\n",
      "Plate Storage Completed: 81.70731707317073%\n",
      "Plate Storage Completed: 82.92682926829268%\n",
      "Plate Storage Completed: 84.14634146341463%\n",
      "Plate Storage Completed: 85.36585365853658%\n",
      "Plate Storage Completed: 86.58536585365853%\n",
      "Plate Storage Completed: 87.8048780487805%\n",
      "Plate Storage Completed: 89.02439024390245%\n",
      "Plate Storage Completed: 90.2439024390244%\n",
      "Plate Storage Completed: 91.46341463414635%\n",
      "Plate Storage Completed: 92.6829268292683%\n",
      "Plate Storage Completed: 93.90243902439025%\n",
      "Plate Storage Completed: 95.1219512195122%\n",
      "Plate Storage Completed: 96.34146341463415%\n",
      "Plate Storage Completed: 97.5609756097561%\n",
      "Plate Storage Completed: 98.78048780487805%\n",
      "Plate Storage Completed: 100.0%\n"
     ]
    }
   ],
   "source": [
    "Full_Data = storing(PLATEIDs,supers)"
   ]
  },
  {
   "cell_type": "code",
   "execution_count": 6,
   "metadata": {},
   "outputs": [
    {
     "data": {
      "text/plain": [
       "82"
      ]
     },
     "execution_count": 6,
     "metadata": {},
     "output_type": "execute_result"
    }
   ],
   "source": [
    "len(BinInfos)"
   ]
  },
  {
   "cell_type": "code",
   "execution_count": 7,
   "metadata": {
    "collapsed": true
   },
   "outputs": [],
   "source": [
    "X,Y,Train_z, Train_mag,All_AND,All_Inv,wav_logs,All_Name= MLAData(Full_Data,BinInfos,Flux, log_wavst,ANDMASK,INVAR)"
   ]
  },
  {
   "cell_type": "code",
   "execution_count": 8,
   "metadata": {},
   "outputs": [
    {
     "data": {
      "text/plain": [
       "82"
      ]
     },
     "execution_count": 8,
     "metadata": {},
     "output_type": "execute_result"
    }
   ],
   "source": [
    "len(X)"
   ]
  },
  {
   "cell_type": "code",
   "execution_count": 9,
   "metadata": {},
   "outputs": [
    {
     "data": {
      "text/plain": [
       "['spPlate-4791-55889.fits',\n",
       " 'spPlate-6970-56444.fits',\n",
       " 'spPlate-5852-56034.fits',\n",
       " 'spPlate-5484-56039.fits',\n",
       " 'spPlate-6290-56238.fits',\n",
       " 'spPlate-6122-56246.fits',\n",
       " 'spPlate-6424-56272.fits',\n",
       " 'spPlate-6723-56428.fits',\n",
       " 'spPlate-6880-56543.fits']"
      ]
     },
     "execution_count": 9,
     "metadata": {},
     "output_type": "execute_result"
    }
   ],
   "source": [
    "TestPlateDir = os.path.normpath(\"D:\\Data\\TestPlate_Name.txt\")\n",
    "with open(TestPlateDir) as f:\n",
    "    Spectra_TestFiles = f.read().splitlines()\n",
    "Spectra_TestFiles"
   ]
  },
  {
   "cell_type": "code",
   "execution_count": 10,
   "metadata": {
    "collapsed": true
   },
   "outputs": [],
   "source": [
    "TrainingDir = os.path.normpath(\"D:\\Data\")\n",
    "TestingFolder =  os.path.normpath(\"\\Test\")\n",
    "PLATEIDs_test = []\n",
    "log_wavs=[]\n",
    "BinInfos_test = []\n",
    "Flux_test = []\n",
    "AT = []\n",
    "IT = []\n",
    "z=0\n",
    "for spectrum_test in Spectra_TestFiles:\n",
    "    plate_test = fits.open(TrainingDir +TestingFolder+slash+spectrum_test ,memmap=True)\n",
    "    Bin_info_test = plate_test[5].data\n",
    "    Flux_t = plate_test[0].data\n",
    "    primhdu_test = plate_test[0]\n",
    "    AT.append( plate_[2].data)\n",
    "    IT.append( plate_[1].data)\n",
    "    PLATEIDs_test.append(primhdu_test.header['PLATEID'])\n",
    "    log_wavs.append(primhdu_test.header['COEFF0'])\n",
    "    BinInfos_test.append(Bin_info_test)\n",
    "    Flux_test.append(Flux_t)\n"
   ]
  },
  {
   "cell_type": "code",
   "execution_count": 11,
   "metadata": {},
   "outputs": [
    {
     "name": "stdout",
     "output_type": "stream",
     "text": [
      "Plate Storage Completed: 11.11111111111111%\n",
      "Plate Storage Completed: 22.22222222222222%\n",
      "Plate Storage Completed: 33.333333333333336%\n",
      "Plate Storage Completed: 44.44444444444444%\n",
      "Plate Storage Completed: 55.55555555555556%\n",
      "Plate Storage Completed: 66.66666666666667%\n",
      "Plate Storage Completed: 77.77777777777777%\n",
      "Plate Storage Completed: 88.88888888888889%\n",
      "Plate Storage Completed: 100.0%\n"
     ]
    }
   ],
   "source": [
    "Full_Data_test = storing(PLATEIDs_test,supers)"
   ]
  },
  {
   "cell_type": "code",
   "execution_count": 12,
   "metadata": {
    "collapsed": true
   },
   "outputs": [],
   "source": [
    "X_test,Y_test,All_redshifts,All_Mag,All_AND,All_Inv,wav_logs,All_Name= MLAData(Full_Data_test,BinInfos_test,Flux_test,log_wavs,AT,IT )"
   ]
  },
  {
   "cell_type": "markdown",
   "metadata": {},
   "source": [
    "Solvers: ‘lbfgs’ is an optimizer in the family of quasi-Newton methods. ‘sgd’ refers to stochastic gradient descent. ‘adam’ refers to a stochastic gradient-based optimizer proposed by Kingma, Diederik, and Jimmy Ba"
   ]
  },
  {
   "cell_type": "code",
   "execution_count": 13,
   "metadata": {
    "collapsed": true
   },
   "outputs": [],
   "source": [
    "hiddenlayer_format = (13)\n",
    "backprop_method = 'lbfgs'\n",
    "lr=0.00001\n",
    "act =  'tanh' #'logistic'\n",
    "mlp = MLPClassifier(hidden_layer_sizes=hiddenlayer_format,max_iter=500, solver = backprop_method,learning_rate_init=lr,activation=act) ##Think About"
   ]
  },
  {
   "cell_type": "code",
   "execution_count": 14,
   "metadata": {},
   "outputs": [
    {
     "name": "stdout",
     "output_type": "stream",
     "text": [
      "18653\n",
      "18653\n"
     ]
    },
    {
     "data": {
      "text/plain": [
       "MLPClassifier(activation='tanh', alpha=0.0001, batch_size='auto', beta_1=0.9,\n",
       "       beta_2=0.999, early_stopping=False, epsilon=1e-08,\n",
       "       hidden_layer_sizes=13, learning_rate='constant',\n",
       "       learning_rate_init=1e-05, max_iter=500, momentum=0.9,\n",
       "       nesterovs_momentum=True, power_t=0.5, random_state=None,\n",
       "       shuffle=True, solver='lbfgs', tol=0.0001, validation_fraction=0.1,\n",
       "       verbose=False, warm_start=False)"
      ]
     },
     "execution_count": 14,
     "metadata": {},
     "output_type": "execute_result"
    }
   ],
   "source": [
    "X_Full=[]\n",
    "Y_Full = []\n",
    "n=0\n",
    "total = 0\n",
    "while n< len(X):\n",
    "    currentbinX = X[n]\n",
    "    currentbinY = Y[n]\n",
    "    i=0\n",
    "    total=total + len(currentbinY)\n",
    "    while i < len(currentbinY):\n",
    "        X_Full.append(currentbinX[i])\n",
    "        Y_Full.append(currentbinY[i])\n",
    "        i=i+1\n",
    "    n=n+1\n",
    "        \n",
    "\n",
    "\n",
    "print(len(X_Full))\n",
    "print(total)\n",
    "\n",
    "mlp.fit(X_Full,Y_Full)"
   ]
  },
  {
   "cell_type": "code",
   "execution_count": 15,
   "metadata": {
    "collapsed": true
   },
   "outputs": [],
   "source": [
    "XT_Full=[]\n",
    "YT_Full = []\n",
    "n=0\n",
    "while n< len(X_test):\n",
    "    currentbinX = X_test[n]\n",
    "    currentbinY = Y_test[n]\n",
    "    i=0\n",
    "    total=total + len(currentbinY)\n",
    "    while i < len(currentbinY):\n",
    "        XT_Full.append(currentbinX[i])\n",
    "        YT_Full.append(currentbinY[i])\n",
    "        i=i+1\n",
    "    n=n+1\n",
    "\n",
    "predictions = mlp.predict(np.array(XT_Full))"
   ]
  },
  {
   "cell_type": "code",
   "execution_count": 16,
   "metadata": {},
   "outputs": [
    {
     "name": "stdout",
     "output_type": "stream",
     "text": [
      "             precision    recall  f1-score   support\n",
      "\n",
      "          0       0.90      0.90      0.90       816\n",
      "          1       0.77      0.73      0.75       481\n",
      "          2       0.00      0.00      0.00        66\n",
      "          3       0.82      0.92      0.87       791\n",
      "\n",
      "avg / total       0.82      0.84      0.83      2154\n",
      "\n"
     ]
    }
   ],
   "source": [
    "print(classification_report(YT_Full,predictions))"
   ]
  },
  {
   "cell_type": "code",
   "execution_count": 19,
   "metadata": {
    "collapsed": true
   },
   "outputs": [],
   "source": [
    "star,star_starloc,star_lowzloc,star_galloc,star_highzloc = classification(0,YT_Full,predictions) \n",
    "lowz,lowz_starloc,lowz_loc,lowz_galloc,lowz_highzloc = classification(1,YT_Full,predictions)\n",
    "gal,gal_starloc,gal_lowzloc,gal_galloc,gal_highzloc = classification(2,YT_Full,predictions)\n",
    "highz,highz_starloc,highz_lowzloc,highz_galloc,highz_highzloc = classification(3,YT_Full,predictions)"
   ]
  },
  {
   "cell_type": "code",
   "execution_count": null,
   "metadata": {
    "collapsed": true
   },
   "outputs": [],
   "source": [
    "File_Name = input(\"Please Enter File name: \")"
   ]
  },
  {
   "cell_type": "code",
   "execution_count": null,
   "metadata": {
    "collapsed": true
   },
   "outputs": [],
   "source": [
    "d = open(TrainingDir+slash+File_Name+\".txt\", 'w')"
   ]
  },
  {
   "cell_type": "code",
   "execution_count": null,
   "metadata": {
    "collapsed": true
   },
   "outputs": [],
   "source": [
    "t1=[\"Files used to train: \",np.str(Spectra_Files), \"\\n\"]\n",
    "sp= \"\\n\"\n",
    "t2 = [\"Files used to test: \",np.str(Spectra_TestFiles), \"\\n\"]\n",
    "t3 = [\"Number of training objects = \",np.str(len(Spectra_Files)), \"\\n\"]\n",
    "t4 = [\"Number of testing objects = \",np.str(len(Spectra_TestFiles)), \"\\n\"]\n",
    "n1 = [\"Structure of neural network: \", np.str(hiddenlayer_format),\"\\n\"]\n",
    "n2  = [\"Backpropagation method used: \",np.str(backprop_method), \"\\n\"]\n",
    "n3  = [\"Learning rate: \",np.str(lr), \"\\n\"]\n",
    "n4  = [\"Activation Function: \",np.str(act), \"\\n\"]\n",
    "r1 = [\"Results of Neural Network: \", \"\\n\",\"\\n\"]\n",
    "r2=[\"        \",\"       Star    Quasar  Galaxy  BAL \",\"\\n\",]\n",
    "r3=\"Star           \",np.str(np.round(star[0]*100,2)),\"%  \", np.str(np.round(star[1]*100,2)),\"%  \",np.str(np.round(star[2]*100,2)),\"%  \",np.str(np.round(star[3]*100,2)),\"%\",\"\\n\"\n",
    "r4=\"Quasar z<2.1   \",np.str(np.round( lowz[0]*100,2)),\"%  \", np.str(np.round( lowz[1]*100,2)),\"%  \",np.str(np.round( lowz[2]*100,2)),\"%  \",np.str(np.round( lowz[3]*100,2)),\"%\",\"\\n\"\n",
    "r5=\"Galaxy         \",np.str(np.round( gal[0]*100,2)),\"%  \", np.str(np.round( gal[1]*100,2)),\"%  \",np.str(np.round( gal[2]*100,2)),\"%  \",np.str(np.round( gal[3]*100,2)),\"%\",\"\\n\"\n",
    "r6=\"Quasar z<2.1   \",np.str(np.round( highz[0]*100,2)),\"%  \", np.str(np.round( highz[1]*100,2)),\"%  \",np.str(np.round( highz[2]*100,2)),\"%  \",np.str(np.round (highz[3]*100,2)),\"%\",\"\\n\""
   ]
  },
  {
   "cell_type": "code",
   "execution_count": null,
   "metadata": {
    "collapsed": true
   },
   "outputs": [],
   "source": [
    "d.writelines(t1)\n",
    "d.writelines(sp)\n",
    "d.writelines(t2)\n",
    "d.writelines(sp)\n",
    "d.writelines(t3)\n",
    "d.writelines(t4)\n",
    "d.writelines(sp)\n",
    "d.writelines(sp)\n",
    "d.writelines(n1)\n",
    "d.writelines(n2)\n",
    "d.writelines(n3)\n",
    "d.writelines(n4)\n",
    "d.writelines(sp)\n",
    "d.writelines(sp)\n",
    "d.writelines(r1)\n",
    "d.writelines(r2)\n",
    "d.writelines(r3)\n",
    "d.writelines(r4)\n",
    "d.writelines(r5)\n",
    "d.writelines(r6)\n"
   ]
  },
  {
   "cell_type": "code",
   "execution_count": null,
   "metadata": {
    "collapsed": true
   },
   "outputs": [],
   "source": [
    "list.close()"
   ]
  },
  {
   "cell_type": "code",
   "execution_count": null,
   "metadata": {
    "collapsed": true
   },
   "outputs": [],
   "source": [
    "d.close()"
   ]
  },
  {
   "cell_type": "code",
   "execution_count": 21,
   "metadata": {},
   "outputs": [
    {
     "ename": "NameError",
     "evalue": "name 'misclass_highz2' is not defined",
     "output_type": "error",
     "traceback": [
      "\u001b[1;31m---------------------------------------------------------------------------\u001b[0m",
      "\u001b[1;31mNameError\u001b[0m                                 Traceback (most recent call last)",
      "\u001b[1;32m<ipython-input-21-5f26a92d30ae>\u001b[0m in \u001b[0;36m<module>\u001b[1;34m()\u001b[0m\n\u001b[0;32m      4\u001b[0m \u001b[0mmisclass_gal\u001b[0m\u001b[1;33m=\u001b[0m \u001b[0mrandom\u001b[0m\u001b[1;33m.\u001b[0m\u001b[0mchoice\u001b[0m\u001b[1;33m(\u001b[0m\u001b[0mgal_lowzloc\u001b[0m\u001b[1;33m)\u001b[0m\u001b[1;33m\u001b[0m\u001b[0m\n\u001b[0;32m      5\u001b[0m \u001b[1;33m\u001b[0m\u001b[0m\n\u001b[1;32m----> 6\u001b[1;33m \u001b[0mprint\u001b[0m\u001b[1;33m(\u001b[0m\u001b[0mmisclass_highz1\u001b[0m\u001b[1;33m,\u001b[0m\u001b[0mmisclass_highz2\u001b[0m\u001b[1;33m,\u001b[0m\u001b[0mmisclass_star\u001b[0m\u001b[1;33m,\u001b[0m\u001b[0mmisclass_gal\u001b[0m\u001b[1;33m)\u001b[0m\u001b[1;33m\u001b[0m\u001b[0m\n\u001b[0m",
      "\u001b[1;31mNameError\u001b[0m: name 'misclass_highz2' is not defined"
     ]
    }
   ],
   "source": [
    "misclass_highz1=random.choice(highz_starloc)\n",
    "#misclass_highz2=random.choice(highz_galloc)\n",
    "misclass_star=random.choice(star_lowzloc)\n",
    "misclass_gal= random.choice(gal_lowzloc)\n"
   ]
  },
  {
   "cell_type": "markdown",
   "metadata": {},
   "source": [
    "From (http://www.sdss.org/dr12/spectro/spectro_basics/) : 'About the Spectra', we  know:\n",
    "\n",
    "\n",
    "<h5><center>log($\\lambda_{i+1}$) - log($\\lambda_{i}$)=0.0001.</center></h5>\n",
    "\n",
    "I will use this, and the first pixels central wavelength, to produce the wavelength array for this plate. This will be done by finding the plate wavelength ratio: \n",
    "\n",
    "<h3><center>$\\frac{\\lambda_{i+1}}{\\lambda_{i}}= 10^{0.0001}$.</center></h3>\n"
   ]
  },
  {
   "cell_type": "code",
   "execution_count": null,
   "metadata": {},
   "outputs": [],
   "source": [
    "w_full=[]\n",
    "i=0\n",
    "while i<len(wav_logs):\n",
    "    w_full.append(wav_logs[i]) \n",
    "    i=i+1\n",
    "len(w_full)"
   ]
  },
  {
   "cell_type": "code",
   "execution_count": 23,
   "metadata": {
    "collapsed": true
   },
   "outputs": [],
   "source": [
    "wav_ratio = 10**0.0001\n",
    "append_count=0\n",
    "cent_wav = 10**wav_logs[0]\n",
    "Y_flux = XT_Full[misclass_highz1]\n",
    "wavelengths = []\n",
    "wavelengths.append(cent_wav)\n",
    "current_wav = cent_wav\n",
    "while append_count < len(Y_flux)-1:\n",
    "    current_wav = current_wav*wav_ratio\n",
    "    wavelengths.append(current_wav)\n",
    "    append_count=append_count+1"
   ]
  },
  {
   "cell_type": "code",
   "execution_count": 37,
   "metadata": {},
   "outputs": [
    {
     "data": {
      "image/png": "[encoded data removed]",
      "text/plain": [
       "<matplotlib.figure.Figure at 0x26f3b66bcf8>"
      ]
     },
     "metadata": {},
     "output_type": "display_data"
    }
   ],
   "source": [
    "plt.plot(wavelengths,Y_flux)\n",
    "plt.ylabel('Flux [$10^{-17}$ $erg/s/cm^2/$'r'$\\AA$'']')\n",
    "plt.xlabel('Wavelength' r' $\\AA$')\n",
    "plt.title('Misclassified Quasar')\n",
    "plt.show()"
   ]
  },
  {
   "cell_type": "code",
   "execution_count": 26,
   "metadata": {},
   "outputs": [
    {
     "ename": "KeyboardInterrupt",
     "evalue": "",
     "output_type": "error",
     "traceback": [
      "\u001b[1;31m---------------------------------------------------------------------------\u001b[0m",
      "\u001b[1;31mKeyboardInterrupt\u001b[0m                         Traceback (most recent call last)",
      "\u001b[1;32m<ipython-input-26-6905df3bcf6e>\u001b[0m in \u001b[0;36m<module>\u001b[1;34m()\u001b[0m\n\u001b[0;32m      2\u001b[0m \u001b[0mi\u001b[0m\u001b[1;33m=\u001b[0m\u001b[1;36m0\u001b[0m\u001b[1;33m\u001b[0m\u001b[0m\n\u001b[0;32m      3\u001b[0m \u001b[1;32mwhile\u001b[0m \u001b[0mi\u001b[0m\u001b[1;33m<\u001b[0m\u001b[0mlen\u001b[0m\u001b[1;33m(\u001b[0m\u001b[0mwav_logs\u001b[0m\u001b[1;33m)\u001b[0m\u001b[1;33m:\u001b[0m\u001b[1;33m\u001b[0m\u001b[0m\n\u001b[1;32m----> 4\u001b[1;33m     \u001b[0mw_full\u001b[0m\u001b[1;33m.\u001b[0m\u001b[0mappend\u001b[0m\u001b[1;33m(\u001b[0m\u001b[0mwav_logs\u001b[0m\u001b[1;33m[\u001b[0m\u001b[0mi\u001b[0m\u001b[1;33m]\u001b[0m\u001b[1;33m)\u001b[0m\u001b[1;33m\u001b[0m\u001b[0m\n\u001b[0m\u001b[0;32m      5\u001b[0m \u001b[1;33m\u001b[0m\u001b[0m\n\u001b[0;32m      6\u001b[0m \u001b[0mlen\u001b[0m\u001b[1;33m(\u001b[0m\u001b[0mw_full\u001b[0m\u001b[1;33m)\u001b[0m\u001b[1;33m\u001b[0m\u001b[0m\n",
      "\u001b[1;31mKeyboardInterrupt\u001b[0m: "
     ]
    }
   ],
   "source": [
    ")"
   ]
  },
  {
   "cell_type": "code",
   "execution_count": 24,
   "metadata": {},
   "outputs": [],
   "source": [
    "append_count=0\n",
    "cent_wav2 = 10**wav_logs[0]\n",
    "Y2_flux = XT_Full[misclass_star]\n",
    "wavelengths2 = []\n",
    "wavelengths2.append(cent_wav2)\n",
    "current_wav2 = cent_wav2\n",
    "while append_count < len(Y2_flux)-1:\n",
    "    current_wav2 = current_wav2*wav_ratio\n",
    "    wavelengths2.append(current_wav2)\n",
    "    append_count=append_count+1"
   ]
  },
  {
   "cell_type": "code",
   "execution_count": 39,
   "metadata": {},
   "outputs": [
    {
     "data": {
      "image/png": "[encoded data removed]",
      "text/plain": [
       "<matplotlib.figure.Figure at 0x26f3b1fee80>"
      ]
     },
     "metadata": {},
     "output_type": "display_data"
    }
   ],
   "source": [
    "plt.plot(wavelengths2,Y2_flux)\n",
    "plt.ylabel('Flux [$10^{-17}$ $erg/s/cm^2/$'r'$\\AA$'']')\n",
    "plt.xlabel('Wavelength' r' $\\AA$')\n",
    "plt.title('Misclassified Star')\n",
    "plt.show()"
   ]
  },
  {
   "cell_type": "code",
   "execution_count": 25,
   "metadata": {
    "collapsed": true
   },
   "outputs": [],
   "source": [
    "#append_count=0\n",
    "#cent_wav3 = 10**wav_logs[0]\n",
    "Y3_flux = XT_Full[misclass_gal]\n",
    "#wavelengths3 = []\n",
    "#wavelengths3.append(cent_wav)\n",
    "#current_wav3 = cent_wav3\n",
    "#while append_count < len(Y3_flux)-1:\n",
    "#    current_wav3 = current_wav3*wav_ratio\n",
    " #   wavelengths3.append(current_wav3)\n",
    "  #  append_count=append_count+1"
   ]
  },
  {
   "cell_type": "code",
   "execution_count": 28,
   "metadata": {},
   "outputs": [],
   "source": [
    "plt.plot(wavelengths2,Y3_flux)\n",
    "plt.ylabel('Flux [$10^{-17}$ $erg/s/cm^2/$'r'$\\AA$'']')\n",
    "plt.xlabel('Wavelength' r' $\\AA$')\n",
    "plt.title('Misclassified Galaxy')\n",
    "plt.savefig('galspec.png')"
   ]
  },
  {
   "cell_type": "code",
   "execution_count": null,
   "metadata": {
    "collapsed": true
   },
   "outputs": [],
   "source": [
    "append_count=0\n",
    "cent_wav4 = 10**wav_logs[misclass_gal]\n",
    "Y4_flux = X_test[misclass_gal]\n",
    "wavelengths4 = []\n",
    "wavelengths4.append(cent_wav4)\n",
    "current_wav4 = cent_wav4\n",
    "while append_count < len(Y4_flux)-1:\n",
    "    current_wav4 = current_wav4*wav_ratio\n",
    "    wavelengths4.append(current_wav4)\n",
    "    append_count=append_count+1"
   ]
  },
  {
   "cell_type": "code",
   "execution_count": null,
   "metadata": {
    "collapsed": true
   },
   "outputs": [],
   "source": [
    "plt.plot(wavelengths4,Y4_flux)\n",
    "plt.ylabel('Flux [$10^{-17}$ $erg/s/cm^2/$'r'$\\AA$'']')\n",
    "plt.xlabel('Wavelength' r' $\\AA$')\n",
    "plt.title('Misclassified Star as Quasar with z>2.1')\n",
    "plt.show()"
   ]
  },
  {
   "cell_type": "code",
   "execution_count": null,
   "metadata": {
    "collapsed": true
   },
   "outputs": [],
   "source": [
    "Bin_no = input(\"Please Enter bin : \")"
   ]
  },
  {
   "cell_type": "code",
   "execution_count": null,
   "metadata": {
    "collapsed": true
   },
   "outputs": [],
   "source": [
    "X_bin,Y_bin,Train_z_bin, Train_mag_bin,wavst_bin = MLAData(Full_Data,BinInfos,Flux, log_wavst,Bin_no)"
   ]
  },
  {
   "cell_type": "code",
   "execution_count": null,
   "metadata": {
    "collapsed": true
   },
   "outputs": [],
   "source": [
    "X_test_bin,Y_test_bin,All_redshifts_bint,All_Ma_bintg,wav_logs_bin= MLAData(Full_Data_test,BinInfos_test,Flux_test,log_wavs)"
   ]
  },
  {
   "cell_type": "code",
   "execution_count": null,
   "metadata": {
    "collapsed": true
   },
   "outputs": [],
   "source": []
  },
  {
   "cell_type": "code",
   "execution_count": null,
   "metadata": {
    "collapsed": true
   },
   "outputs": [],
   "source": []
  },
  {
   "cell_type": "code",
   "execution_count": null,
   "metadata": {
    "collapsed": true
   },
   "outputs": [],
   "source": []
  },
  {
   "cell_type": "code",
   "execution_count": null,
   "metadata": {
    "collapsed": true
   },
   "outputs": [],
   "source": []
  },
  {
   "cell_type": "code",
   "execution_count": null,
   "metadata": {
    "collapsed": true
   },
   "outputs": [],
   "source": []
  },
  {
   "cell_type": "code",
   "execution_count": null,
   "metadata": {
    "collapsed": true
   },
   "outputs": [],
   "source": []
  },
  {
   "cell_type": "code",
   "execution_count": null,
   "metadata": {
    "collapsed": true
   },
   "outputs": [],
   "source": []
  },
  {
   "cell_type": "code",
   "execution_count": null,
   "metadata": {
    "collapsed": true
   },
   "outputs": [],
   "source": []
  },
  {
   "cell_type": "code",
   "execution_count": null,
   "metadata": {
    "collapsed": true
   },
   "outputs": [],
   "source": []
  }
 ],
 "metadata": {
  "kernelspec": {
   "display_name": "Python 3",
   "language": "python",
   "name": "python3"
  },
  "language_info": {
   "codemirror_mode": {
    "name": "ipython",
    "version": 3
   },
   "file_extension": ".py",
   "mimetype": "text/x-python",
   "name": "python",
   "nbconvert_exporter": "python",
   "pygments_lexer": "ipython3",
   "version": "3.6.1"
  }
 },
 "nbformat": 4,
 "nbformat_minor": 2
}
